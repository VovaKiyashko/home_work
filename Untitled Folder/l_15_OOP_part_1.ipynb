{
 "cells": [
  {
   "cell_type": "markdown",
   "metadata": {},
   "source": [
    "## Знакомство с объектно-ориентированным программированием"
   ]
  },
  {
   "cell_type": "markdown",
   "metadata": {},
   "source": [
    "**Парадигма программирования** - это совокупность идей и понятий, определяющих стиль написания компьютерных\n",
    "программ (подход к программированию).Современные языки программирования могут реализовывать несколько парадигм\n",
    "программирования одновременно.\n",
    "\n",
    "\n",
    "Python реализует следующие парадигмы программирования:\n",
    "\n",
    "1) Императивное программирование;\n",
    "\n",
    "2) Структурное программирование;\n",
    "\n",
    "3) Объектно-ориентированное программирование;\n",
    "\n",
    "4) Функциональное программирование.\n"
   ]
  },
  {
   "cell_type": "markdown",
   "metadata": {},
   "source": [
    "**Императивное программирование**, для которого характерно следующее:\n",
    "* в исходном коде программы записываются инструкции (команды);\n",
    "* инструкции должны выполняться последовательно;\n",
    "* при выполнении инструкции данные, полученные при выполнении предыдущих инструкций, могут читаться из памяти;\n",
    "* данные, полученные при выполнении инструкции, могут записываться в память."
   ]
  },
  {
   "cell_type": "markdown",
   "metadata": {},
   "source": [
    "**Структурное программирование**, для которого характерно следующее:\n",
    "* Разбиение программы на иерархическую структуру блоков. Такими блоками выступали: условные операторы, циклы и функции."
   ]
  },
  {
   "cell_type": "markdown",
   "metadata": {},
   "source": [
    "**Объектно-ориентированное программирование (ООП)** - методология программирования, основанная на представлении\n",
    "программы в виде совокупности объектов, каждый из которых является экземпляром определенного класса, а классы образуют\n",
    "иерархию наследования.\n",
    "\n",
    "**Класс** - универсальный, комплексный тип данных, состоящий из набора «полей» (переменных более элементарных типов) и\n",
    "«методов» (функций для работы с этими полями). Он является моделью сущности с внутренним и внешним интерфейсами для\n",
    "оперирования своим содержимым.\n",
    "\n",
    "**Объект** - экземпляр класса. Т.е. переменная созданная на основе класса."
   ]
  },
  {
   "cell_type": "code",
   "execution_count": 1,
   "metadata": {},
   "outputs": [
    {
     "name": "stdout",
     "output_type": "stream",
     "text": [
      "<class '__main__.Car'>\n",
      "red\n"
     ]
    }
   ],
   "source": [
    "class Car: # class Car(object):\n",
    "    color = 'red'\n",
    "    engine = 2.0\n",
    "    brand = \"Ford\"\n",
    "\n",
    "print(type(Car()))\n",
    "print(Car.color)"
   ]
  },
  {
   "cell_type": "code",
   "execution_count": 2,
   "metadata": {},
   "outputs": [
    {
     "data": {
      "text/plain": [
       "type"
      ]
     },
     "execution_count": 2,
     "metadata": {},
     "output_type": "execute_result"
    }
   ],
   "source": [
    "type(Car)"
   ]
  },
  {
   "cell_type": "code",
   "execution_count": 3,
   "metadata": {},
   "outputs": [
    {
     "data": {
      "text/plain": [
       "type"
      ]
     },
     "execution_count": 3,
     "metadata": {},
     "output_type": "execute_result"
    }
   ],
   "source": [
    "type(object)"
   ]
  },
  {
   "cell_type": "code",
   "execution_count": 4,
   "metadata": {},
   "outputs": [
    {
     "data": {
      "text/plain": [
       "type"
      ]
     },
     "execution_count": 4,
     "metadata": {},
     "output_type": "execute_result"
    }
   ],
   "source": [
    "type(type)"
   ]
  },
  {
   "cell_type": "code",
   "execution_count": 5,
   "metadata": {},
   "outputs": [
    {
     "name": "stdout",
     "output_type": "stream",
     "text": [
      "<__main__.Car object at 0x7f5694227a30>\n",
      "red\n"
     ]
    }
   ],
   "source": [
    "c1 = Car()\n",
    "\n",
    "print(c1)\n",
    "print(c1.color)"
   ]
  },
  {
   "cell_type": "code",
   "execution_count": 6,
   "metadata": {},
   "outputs": [
    {
     "name": "stdout",
     "output_type": "stream",
     "text": [
      "blue\n",
      "2.0\n",
      "Ford\n"
     ]
    }
   ],
   "source": [
    "c1.color = 'blue'\n",
    "print(c1.color)\n",
    "print(c1.engine)\n",
    "print(c1.brand)"
   ]
  },
  {
   "cell_type": "code",
   "execution_count": 7,
   "metadata": {
    "scrolled": true
   },
   "outputs": [
    {
     "name": "stdout",
     "output_type": "stream",
     "text": [
      "red\n"
     ]
    }
   ],
   "source": [
    "print(Car.color)"
   ]
  },
  {
   "cell_type": "code",
   "execution_count": 8,
   "metadata": {},
   "outputs": [
    {
     "data": {
      "text/plain": [
       "False"
      ]
     },
     "execution_count": 8,
     "metadata": {},
     "output_type": "execute_result"
    }
   ],
   "source": [
    "''.istitle()"
   ]
  },
  {
   "cell_type": "code",
   "execution_count": 9,
   "metadata": {},
   "outputs": [
    {
     "name": "stdout",
     "output_type": "stream",
     "text": [
      "Ford\n",
      "red\n"
     ]
    }
   ],
   "source": [
    "class Ford(Car): # Наследование (простейший вариант)\n",
    "    pass\n",
    "\n",
    "print(Ford.brand)\n",
    "print(Ford.color)"
   ]
  },
  {
   "cell_type": "markdown",
   "metadata": {},
   "source": [
    "критерии, которым должен соответствовать язык программирования, и которые указывают на то, что ООП реализовано.\n",
    "\n",
    "1) Абстракция;\n",
    "\n",
    "2) Инкапсуляция;\n",
    "\n",
    "3) Наследование;\n",
    "\n",
    "4) Полиморфизм."
   ]
  },
  {
   "cell_type": "markdown",
   "metadata": {},
   "source": [
    "#### Абстракция\n",
    "Абстрагирование означает выделение значимой информации и исключение из рассмотрения незначимой. В ООП рассматривают лишь абстракцию данных (нередко называя её просто «абстракцией»), подразумевая набор значимых характеристик объекта, доступный остальной программе.\n",
    "Сам Кот очень сложная и своенравная сущность. Однако для нашей модели мы выбрали только те свойства, которые нужны для решения задачи. Т.е. взяли только имя, возраст и цвет. Это и есть пример абстракции."
   ]
  },
  {
   "cell_type": "markdown",
   "metadata": {},
   "source": [
    "#### Инкапсуляция\n",
    "Инкапсуляция - возможность описания полей и методов внутри класса. Также к инкапсуляции относят возможность сокрытия полей и реализации методов класса.\n",
    "Кот может исчезать, а может появляться. Но как именно он это делает, никто не знает. Это и есть инкапсуляция."
   ]
  },
  {
   "cell_type": "markdown",
   "metadata": {},
   "source": [
    "#### Наследование\n",
    "Наследование - свойство системы, позволяющее описать новый класс на основе уже существующего с частично или полностью\n",
    "заимствующейся функциональностью.\n",
    "Класс, от которого производится наследование, называется базовым, родительским или суперклассом.Новый класс называется потомком, наследником, дочерним или производным классом."
   ]
  },
  {
   "cell_type": "markdown",
   "metadata": {},
   "source": [
    "#### Полиморфизм\n",
    "Полиморфизм подтипов (в ООП называемый просто «полиморфизмом») — свойство системы, позволяющее использовать объекты с одинаковым интерфейсом без информации о типе и внутренней структуре объекта."
   ]
  },
  {
   "cell_type": "markdown",
   "metadata": {},
   "source": [
    "### Внимание! Классы в Python - это обычные переменные. Поэтому класс должен быть описан в коде выше, чем его первое использование."
   ]
  },
  {
   "cell_type": "markdown",
   "metadata": {},
   "source": [
    "#### Экземпляры класса"
   ]
  },
  {
   "cell_type": "code",
   "execution_count": 10,
   "metadata": {},
   "outputs": [
    {
     "name": "stdout",
     "output_type": "stream",
     "text": [
      "5\n",
      "<__main__.Cat object at 0x7f56941f5400>\n"
     ]
    }
   ],
   "source": [
    "class Cat:\n",
    "\n",
    "    def __init__(self, name, age, color): # «магический» метод \"создания\" экземпляра класса\n",
    "        # Поля экземпляра, не класса!!\n",
    "        self.name = name\n",
    "        self.age = age\n",
    "        self.color = color\n",
    "\n",
    "cat = Cat('Barsik', 5, 'black')\n",
    "print(cat.age)\n",
    "print(cat)"
   ]
  },
  {
   "cell_type": "code",
   "execution_count": 11,
   "metadata": {},
   "outputs": [
    {
     "ename": "AttributeError",
     "evalue": "type object 'Cat' has no attribute 'age'",
     "output_type": "error",
     "traceback": [
      "\u001b[0;31m---------------------------------------------------------------------------\u001b[0m",
      "\u001b[0;31mAttributeError\u001b[0m                            Traceback (most recent call last)",
      "\u001b[0;32m/tmp/ipykernel_2249/1361035124.py\u001b[0m in \u001b[0;36m<module>\u001b[0;34m\u001b[0m\n\u001b[0;32m----> 1\u001b[0;31m \u001b[0mprint\u001b[0m\u001b[0;34m(\u001b[0m\u001b[0mCat\u001b[0m\u001b[0;34m.\u001b[0m\u001b[0mage\u001b[0m\u001b[0;34m)\u001b[0m \u001b[0;31m#error\u001b[0m\u001b[0;34m\u001b[0m\u001b[0;34m\u001b[0m\u001b[0m\n\u001b[0m",
      "\u001b[0;31mAttributeError\u001b[0m: type object 'Cat' has no attribute 'age'"
     ]
    }
   ],
   "source": [
    "print(Cat.age) #error"
   ]
  },
  {
   "cell_type": "code",
   "execution_count": 12,
   "metadata": {},
   "outputs": [],
   "source": [
    "cat2 = Cat('Murchik', 3, 'black')"
   ]
  },
  {
   "cell_type": "code",
   "execution_count": 13,
   "metadata": {},
   "outputs": [
    {
     "data": {
      "text/plain": [
       "5"
      ]
     },
     "execution_count": 13,
     "metadata": {},
     "output_type": "execute_result"
    }
   ],
   "source": [
    "cat.age\n"
   ]
  },
  {
   "cell_type": "code",
   "execution_count": 14,
   "metadata": {},
   "outputs": [
    {
     "name": "stdout",
     "output_type": "stream",
     "text": [
      "Creating Cat instance\n",
      "<__main__.Cat object at 0x7f5697289d30>\n",
      "Cat instance fields\n",
      "5\n"
     ]
    }
   ],
   "source": [
    "class Cat:\n",
    "    a = 1\n",
    "\n",
    "    def __new__(cls, *args, **kwargs): # метод создания экземпляра класса\n",
    "        print(\"Creating Cat instance\")\n",
    "        self = super().__new__(cls) # про super() больше в следующей теме\n",
    "        print(self)\n",
    "        return self # instance\n",
    "\n",
    "    def __init__(self, name, age, color): # метод добавления атрибутов в экземпляр класса\n",
    "        print(\"Cat instance fields\")\n",
    "        self.name = name\n",
    "        self.age = age\n",
    "        self.color = color\n",
    "\n",
    "cat = Cat('Barsik', 5, 'black')\n",
    "print(cat.age)"
   ]
  },
  {
   "cell_type": "code",
   "execution_count": 15,
   "metadata": {},
   "outputs": [
    {
     "data": {
      "text/plain": [
       "1"
      ]
     },
     "execution_count": 15,
     "metadata": {},
     "output_type": "execute_result"
    }
   ],
   "source": [
    "Cat.a\n"
   ]
  },
  {
   "cell_type": "code",
   "execution_count": 16,
   "metadata": {},
   "outputs": [
    {
     "data": {
      "text/plain": [
       "1"
      ]
     },
     "execution_count": 16,
     "metadata": {},
     "output_type": "execute_result"
    }
   ],
   "source": [
    "cat.a"
   ]
  },
  {
   "cell_type": "code",
   "execution_count": 17,
   "metadata": {},
   "outputs": [
    {
     "data": {
      "text/plain": [
       "28"
      ]
     },
     "execution_count": 17,
     "metadata": {},
     "output_type": "execute_result"
    }
   ],
   "source": [
    "import sys\n",
    "sys.getsizeof(1)\n"
   ]
  },
  {
   "cell_type": "code",
   "execution_count": 18,
   "metadata": {},
   "outputs": [
    {
     "data": {
      "text/plain": [
       "48"
      ]
     },
     "execution_count": 18,
     "metadata": {},
     "output_type": "execute_result"
    }
   ],
   "source": [
    "import sys\n",
    "sys.getsizeof(cat)"
   ]
  },
  {
   "cell_type": "code",
   "execution_count": 19,
   "metadata": {},
   "outputs": [
    {
     "data": {
      "text/plain": [
       "50"
      ]
     },
     "execution_count": 19,
     "metadata": {},
     "output_type": "execute_result"
    }
   ],
   "source": [
    "import sys\n",
    "sys.getsizeof('1')"
   ]
  },
  {
   "cell_type": "code",
   "execution_count": 20,
   "metadata": {},
   "outputs": [
    {
     "name": "stdout",
     "output_type": "stream",
     "text": [
      "<__main__.Cat object at 0x7f5697289d30>\n"
     ]
    }
   ],
   "source": [
    "print(cat)"
   ]
  },
  {
   "cell_type": "markdown",
   "metadata": {},
   "source": [
    "#### Атрибуты класса, можно условно разделить на поля и методы. Поля - это данные, которые описывают внутреннее состояние экземпляра класса. Методы - это функции, которые способны внести изменения во внутреннее состояние экземпляра.\n"
   ]
  },
  {
   "cell_type": "code",
   "execution_count": 21,
   "metadata": {},
   "outputs": [
    {
     "data": {
      "text/plain": [
       "<bound method Cat.meow of <__main__.Cat object at 0x7f5697289d60>>"
      ]
     },
     "execution_count": 21,
     "metadata": {},
     "output_type": "execute_result"
    }
   ],
   "source": [
    "class Cat:\n",
    "\n",
    "    def __init__(self, name, age, color):\n",
    "        self.name = name\n",
    "        self.age = age\n",
    "        self.color = color\n",
    "\n",
    "    def meow(self):\n",
    "        print(\"Meow meow\")\n",
    "\n",
    "cat = Cat('Barsik', 5, 'black')\n",
    "cat.meow"
   ]
  },
  {
   "cell_type": "code",
   "execution_count": 22,
   "metadata": {
    "scrolled": true
   },
   "outputs": [
    {
     "name": "stdout",
     "output_type": "stream",
     "text": [
      "Meow meow\n"
     ]
    }
   ],
   "source": [
    "cat.meow()"
   ]
  },
  {
   "cell_type": "code",
   "execution_count": 27,
   "metadata": {},
   "outputs": [
    {
     "ename": "AttributeError",
     "evalue": "'Cat' object has no attribute 'age'",
     "output_type": "error",
     "traceback": [
      "\u001b[0;31m---------------------------------------------------------------------------\u001b[0m",
      "\u001b[0;31mAttributeError\u001b[0m                            Traceback (most recent call last)",
      "\u001b[0;32m/tmp/ipykernel_2249/2648856805.py\u001b[0m in \u001b[0;36m<module>\u001b[0;34m\u001b[0m\n\u001b[1;32m     11\u001b[0m \u001b[0;34m\u001b[0m\u001b[0m\n\u001b[1;32m     12\u001b[0m \u001b[0mcat\u001b[0m \u001b[0;34m=\u001b[0m \u001b[0mCat\u001b[0m\u001b[0;34m(\u001b[0m\u001b[0;34m)\u001b[0m\u001b[0;34m\u001b[0m\u001b[0;34m\u001b[0m\u001b[0m\n\u001b[0;32m---> 13\u001b[0;31m \u001b[0mcat\u001b[0m\u001b[0;34m.\u001b[0m\u001b[0mmeow\u001b[0m\u001b[0;34m(\u001b[0m\u001b[0;34m)\u001b[0m\u001b[0;34m\u001b[0m\u001b[0;34m\u001b[0m\u001b[0m\n\u001b[0m",
      "\u001b[0;32m/tmp/ipykernel_2249/2648856805.py\u001b[0m in \u001b[0;36mmeow\u001b[0;34m(self)\u001b[0m\n\u001b[1;32m      7\u001b[0m \u001b[0;34m\u001b[0m\u001b[0m\n\u001b[1;32m      8\u001b[0m     \u001b[0;32mdef\u001b[0m \u001b[0mmeow\u001b[0m\u001b[0;34m(\u001b[0m\u001b[0mself\u001b[0m\u001b[0;34m)\u001b[0m\u001b[0;34m:\u001b[0m\u001b[0;34m\u001b[0m\u001b[0;34m\u001b[0m\u001b[0m\n\u001b[0;32m----> 9\u001b[0;31m         \u001b[0mprint\u001b[0m\u001b[0;34m(\u001b[0m\u001b[0mself\u001b[0m\u001b[0;34m.\u001b[0m\u001b[0mage\u001b[0m\u001b[0;34m)\u001b[0m\u001b[0;34m\u001b[0m\u001b[0;34m\u001b[0m\u001b[0m\n\u001b[0m\u001b[1;32m     10\u001b[0m         \u001b[0mprint\u001b[0m\u001b[0;34m(\u001b[0m\u001b[0;34m\"Meow meow\"\u001b[0m\u001b[0;34m)\u001b[0m\u001b[0;34m\u001b[0m\u001b[0;34m\u001b[0m\u001b[0m\n\u001b[1;32m     11\u001b[0m \u001b[0;34m\u001b[0m\u001b[0m\n",
      "\u001b[0;31mAttributeError\u001b[0m: 'Cat' object has no attribute 'age'"
     ]
    }
   ],
   "source": [
    "class Cat:\n",
    "\n",
    "#     def __init__(self, name, age, color):\n",
    "#         self.name = name\n",
    "#         self.age = age\n",
    "#         self.color = color\n",
    "\n",
    "    def meow(self):\n",
    "#         print(self.age)\n",
    "        print(\"Meow meow\")\n",
    "\n",
    "cat = Cat()\n",
    "cat.meow()"
   ]
  },
  {
   "cell_type": "code",
   "execution_count": 28,
   "metadata": {},
   "outputs": [],
   "source": [
    "class Cat:\n",
    "\n",
    "    def __init__(self, name, age, color):\n",
    "        self.name = name\n",
    "        self.age = age\n",
    "        self.color = color\n",
    "\n",
    "    def meow(self):\n",
    "        print(self.name)\n",
    "        print(\"Meow meow\")\n",
    "\n",
    "cat = Cat('Barsik', 5, 'black')"
   ]
  },
  {
   "cell_type": "code",
   "execution_count": 29,
   "metadata": {},
   "outputs": [
    {
     "name": "stdout",
     "output_type": "stream",
     "text": [
      "Barsik\n",
      "Meow meow\n"
     ]
    }
   ],
   "source": [
    "cat.meow() # Cat.meow(cat)"
   ]
  },
  {
   "cell_type": "code",
   "execution_count": 30,
   "metadata": {
    "scrolled": true
   },
   "outputs": [
    {
     "ename": "TypeError",
     "evalue": "meow() missing 1 required positional argument: 'self'",
     "output_type": "error",
     "traceback": [
      "\u001b[0;31m---------------------------------------------------------------------------\u001b[0m",
      "\u001b[0;31mTypeError\u001b[0m                                 Traceback (most recent call last)",
      "\u001b[0;32m/tmp/ipykernel_2249/3161619098.py\u001b[0m in \u001b[0;36m<module>\u001b[0;34m\u001b[0m\n\u001b[0;32m----> 1\u001b[0;31m \u001b[0mCat\u001b[0m\u001b[0;34m.\u001b[0m\u001b[0mmeow\u001b[0m\u001b[0;34m(\u001b[0m\u001b[0;34m)\u001b[0m\u001b[0;34m\u001b[0m\u001b[0;34m\u001b[0m\u001b[0m\n\u001b[0m",
      "\u001b[0;31mTypeError\u001b[0m: meow() missing 1 required positional argument: 'self'"
     ]
    }
   ],
   "source": [
    "Cat.meow()"
   ]
  },
  {
   "cell_type": "code",
   "execution_count": 31,
   "metadata": {},
   "outputs": [
    {
     "name": "stdout",
     "output_type": "stream",
     "text": [
      "Barsik\n",
      "Meow meow\n"
     ]
    }
   ],
   "source": [
    "Cat.meow(cat)"
   ]
  },
  {
   "cell_type": "code",
   "execution_count": 32,
   "metadata": {},
   "outputs": [
    {
     "name": "stdout",
     "output_type": "stream",
     "text": [
      "<__main__.Cat object at 0x7f56941f5c10>\n"
     ]
    }
   ],
   "source": [
    "print(cat) # не очень информативно :)"
   ]
  },
  {
   "cell_type": "markdown",
   "metadata": {},
   "source": [
    "`__str__()` - «магический» метод. Его назначение - вернуть строку с описанием объекта. Именно этот метод вызывает `print()`, если в него подставить экземпляр класса."
   ]
  },
  {
   "cell_type": "code",
   "execution_count": 33,
   "metadata": {},
   "outputs": [
    {
     "name": "stdout",
     "output_type": "stream",
     "text": [
      "Cat [name = Barsik, age = 5, color = black]\n"
     ]
    }
   ],
   "source": [
    "class Cat:\n",
    "\n",
    "    def __init__(self, name, age, color):\n",
    "        self.name = name\n",
    "        self.age = age\n",
    "        self.color = color\n",
    "\n",
    "    def meow(self):\n",
    "        print(\"Meow meow\")\n",
    "\n",
    "    def __str__(self):\n",
    "        return f\"Cat - name = {self.name}, age = {self.age}, color = {self.color}\"\n",
    "\n",
    "cat = Cat('Barsik', 5, 'black')\n",
    "print(cat) # так то лучше!"
   ]
  },
  {
   "cell_type": "code",
   "execution_count": 34,
   "metadata": {},
   "outputs": [
    {
     "data": {
      "text/plain": [
       "'Cat [name = Barsik, age = 5, color = black]'"
      ]
     },
     "execution_count": 34,
     "metadata": {},
     "output_type": "execute_result"
    }
   ],
   "source": [
    "str(cat)"
   ]
  },
  {
   "cell_type": "code",
   "execution_count": 35,
   "metadata": {},
   "outputs": [
    {
     "data": {
      "text/plain": [
       "<__main__.Cat at 0x7f5694227160>"
      ]
     },
     "execution_count": 35,
     "metadata": {},
     "output_type": "execute_result"
    }
   ],
   "source": [
    "cat"
   ]
  },
  {
   "cell_type": "code",
   "execution_count": 36,
   "metadata": {},
   "outputs": [
    {
     "data": {
      "text/plain": [
       "'<__main__.Cat object at 0x7f5694227160>'"
      ]
     },
     "execution_count": 36,
     "metadata": {},
     "output_type": "execute_result"
    }
   ],
   "source": [
    "repr(cat)\n"
   ]
  },
  {
   "cell_type": "markdown",
   "metadata": {},
   "source": [
    "#### метод класса - обычные и статические"
   ]
  },
  {
   "cell_type": "code",
   "execution_count": 37,
   "metadata": {},
   "outputs": [],
   "source": [
    "class Cat:\n",
    "\n",
    "    def __init__(self, name, age, color):\n",
    "        self.name = name\n",
    "        self.age = age\n",
    "        self.color = color\n",
    "\n",
    "    def meow(self):\n",
    "        print(\"Meow meow\")\n",
    "\n",
    "    def __str__(self):\n",
    "        return f\"Cat [name = {self.name}, age = {self.age}, color = {self.color}]\"\n",
    "\n",
    "    def say_hello(): # метод класса, не экземпляра!!!\n",
    "        print(\"Hello\")"
   ]
  },
  {
   "cell_type": "code",
   "execution_count": 38,
   "metadata": {},
   "outputs": [
    {
     "name": "stdout",
     "output_type": "stream",
     "text": [
      "Hello\n"
     ]
    }
   ],
   "source": [
    "Cat.say_hello()"
   ]
  },
  {
   "cell_type": "code",
   "execution_count": 40,
   "metadata": {
    "scrolled": true
   },
   "outputs": [
    {
     "ename": "TypeError",
     "evalue": "say_hello() takes 0 positional arguments but 1 was given",
     "output_type": "error",
     "traceback": [
      "\u001b[0;31m---------------------------------------------------------------------------\u001b[0m",
      "\u001b[0;31mTypeError\u001b[0m                                 Traceback (most recent call last)",
      "\u001b[0;32m/tmp/ipykernel_2249/2501131161.py\u001b[0m in \u001b[0;36m<module>\u001b[0;34m\u001b[0m\n\u001b[0;32m----> 1\u001b[0;31m \u001b[0mCat\u001b[0m\u001b[0;34m(\u001b[0m\u001b[0;34m'Barsik'\u001b[0m\u001b[0;34m,\u001b[0m \u001b[0;36m5\u001b[0m\u001b[0;34m,\u001b[0m \u001b[0;34m'black'\u001b[0m\u001b[0;34m)\u001b[0m\u001b[0;34m.\u001b[0m\u001b[0msay_hello\u001b[0m\u001b[0;34m(\u001b[0m\u001b[0;34m)\u001b[0m\u001b[0;31m# error\u001b[0m\u001b[0;34m\u001b[0m\u001b[0;34m\u001b[0m\u001b[0m\n\u001b[0m",
      "\u001b[0;31mTypeError\u001b[0m: say_hello() takes 0 positional arguments but 1 was given"
     ]
    }
   ],
   "source": [
    "Cat('Barsik', 5, 'black').say_hello()# error"
   ]
  },
  {
   "cell_type": "code",
   "execution_count": 41,
   "metadata": {},
   "outputs": [
    {
     "ename": "TypeError",
     "evalue": "say_hello() takes 0 positional arguments but 1 was given",
     "output_type": "error",
     "traceback": [
      "\u001b[0;31m---------------------------------------------------------------------------\u001b[0m",
      "\u001b[0;31mTypeError\u001b[0m                                 Traceback (most recent call last)",
      "\u001b[0;32m/tmp/ipykernel_2249/8547849.py\u001b[0m in \u001b[0;36m<module>\u001b[0;34m\u001b[0m\n\u001b[1;32m      1\u001b[0m \u001b[0mcat\u001b[0m \u001b[0;34m=\u001b[0m \u001b[0mCat\u001b[0m\u001b[0;34m(\u001b[0m\u001b[0;34m'Barsik'\u001b[0m\u001b[0;34m,\u001b[0m \u001b[0;36m5\u001b[0m\u001b[0;34m,\u001b[0m \u001b[0;34m'black'\u001b[0m\u001b[0;34m)\u001b[0m\u001b[0;34m\u001b[0m\u001b[0;34m\u001b[0m\u001b[0m\n\u001b[0;32m----> 2\u001b[0;31m \u001b[0mcat\u001b[0m\u001b[0;34m.\u001b[0m\u001b[0msay_hello\u001b[0m\u001b[0;34m(\u001b[0m\u001b[0;34m)\u001b[0m \u001b[0;31m# error\u001b[0m\u001b[0;34m\u001b[0m\u001b[0;34m\u001b[0m\u001b[0m\n\u001b[0m",
      "\u001b[0;31mTypeError\u001b[0m: say_hello() takes 0 positional arguments but 1 was given"
     ]
    }
   ],
   "source": [
    "cat = Cat('Barsik', 5, 'black')\n",
    "cat.say_hello() # error"
   ]
  },
  {
   "cell_type": "code",
   "execution_count": 42,
   "metadata": {},
   "outputs": [],
   "source": [
    "class Cat:\n",
    "\n",
    "    def __init__(self, name, age, color):\n",
    "        self.name = name\n",
    "        self.age = age\n",
    "        self.color = color\n",
    "\n",
    "    def meow(self):\n",
    "        print(\"Meow meow\")\n",
    "\n",
    "    def __str__(self):\n",
    "        return f\"Cat [name = {self.name}, age = {self.age}, color = {self.color}]\"\n",
    "\n",
    "    @staticmethod\n",
    "    def say_hello():\n",
    "        print(\"Hello\")"
   ]
  },
  {
   "cell_type": "code",
   "execution_count": 44,
   "metadata": {},
   "outputs": [
    {
     "name": "stdout",
     "output_type": "stream",
     "text": [
      "Hello\n",
      "Hello\n"
     ]
    }
   ],
   "source": [
    "Cat.say_hello()\n",
    "\n",
    "cat = Cat('Barsik', 5, 'black')\n",
    "cat.say_hello()\n",
    "# print(cat.say_hello())"
   ]
  },
  {
   "cell_type": "code",
   "execution_count": 45,
   "metadata": {},
   "outputs": [
    {
     "name": "stdout",
     "output_type": "stream",
     "text": [
      "Hello\n"
     ]
    }
   ],
   "source": [
    "Cat.say_hello()"
   ]
  },
  {
   "cell_type": "code",
   "execution_count": 46,
   "metadata": {},
   "outputs": [
    {
     "name": "stdout",
     "output_type": "stream",
     "text": [
      "Cat [name = Barsik, age = 5, color = black]\n",
      "Meow meow - Hi\n",
      "Hello\n"
     ]
    }
   ],
   "source": [
    "class Cat:\n",
    "\n",
    "    def __init__(self, name, age, color):\n",
    "        self.name = name\n",
    "        self.age = age\n",
    "        self.color = color\n",
    "\n",
    "    def meow(self, tmp):\n",
    "        print(f\"Meow meow - {tmp}\")\n",
    "        self.say_hello()\n",
    "\n",
    "    def __str__(ins):  # Название не имеет значения.\n",
    "        return f\"Cat [name = {ins.name}, age = {ins.age}, color = {ins.color}]\"\n",
    "\n",
    "    @staticmethod\n",
    "    def say_hello():\n",
    "        print(\"Hello\")\n",
    "\n",
    "cat = Cat('Barsik', 5, 'black')\n",
    "print(cat)\n",
    "cat.meow('Hi')"
   ]
  },
  {
   "cell_type": "markdown",
   "metadata": {
    "pycharm": {
     "name": "#%% md\n"
    }
   },
   "source": [
    "### Статический метод\n",
    "В Python — обычный метод класса (с первым аргументом self ) при вызове\n",
    "через имя объекта автоматически подставляет ссылку на объект в качестве\n",
    "первого параметра. Если вызывать такой метод через имя класса, тогда нужно\n",
    "вручную подставлять объект этого класса в качестве первого параметра.\n",
    "\n",
    "Статический метод - простая функция без аргумента **self**, вложенная в тело\n",
    "класса и предназначенная для работы с членами класса, а не экземпляром. Не имеет\n",
    "доступа к значению полей объекта. Может быть вызвана через имя класса."
   ]
  },
  {
   "cell_type": "code",
   "execution_count": 47,
   "metadata": {
    "pycharm": {
     "name": "#%%\n"
    }
   },
   "outputs": [],
   "source": [
    "class Box:\n",
    "    def __init__(self, x, y, z):\n",
    "        self.x = x\n",
    "        self.y = y\n",
    "        self.z = z\n",
    "\n",
    "    def __str__(self):\n",
    "        return f\"Box [x = {self.x}, y = {self.y}, z = {self.z}]\"\n",
    "\n",
    "    def volume(self): # Обычный метод класса\n",
    "        return self.x * self.y * self.z\n",
    "\n",
    "    def up(): #  Статический метод класса\n",
    "        print(\"up\")"
   ]
  },
  {
   "cell_type": "code",
   "execution_count": 48,
   "metadata": {
    "pycharm": {
     "name": "#%%\n"
    }
   },
   "outputs": [
    {
     "name": "stdout",
     "output_type": "stream",
     "text": [
      "6\n",
      "6\n",
      "up\n"
     ]
    }
   ],
   "source": [
    "box_1 = Box(1, 2, 3)\n",
    "print(box_1.volume())\n",
    "print(Box.volume(box_1)) # Вызов обычного метода через имя класса. Объект подставлен явно\n",
    "Box.up() # Вызов статического метода через имя класса."
   ]
  },
  {
   "cell_type": "code",
   "execution_count": 49,
   "metadata": {
    "pycharm": {
     "name": "#%%\n"
    }
   },
   "outputs": [
    {
     "ename": "TypeError",
     "evalue": "up() takes 0 positional arguments but 1 was given",
     "output_type": "error",
     "traceback": [
      "\u001b[0;31m---------------------------------------------------------------------------\u001b[0m",
      "\u001b[0;31mTypeError\u001b[0m                                 Traceback (most recent call last)",
      "\u001b[0;32m/tmp/ipykernel_2249/547081701.py\u001b[0m in \u001b[0;36m<module>\u001b[0;34m\u001b[0m\n\u001b[0;32m----> 1\u001b[0;31m \u001b[0mbox_1\u001b[0m\u001b[0;34m.\u001b[0m\u001b[0mup\u001b[0m\u001b[0;34m(\u001b[0m\u001b[0;34m)\u001b[0m \u001b[0;31m# TypeError\u001b[0m\u001b[0;34m\u001b[0m\u001b[0;34m\u001b[0m\u001b[0m\n\u001b[0m",
      "\u001b[0;31mTypeError\u001b[0m: up() takes 0 positional arguments but 1 was given"
     ]
    }
   ],
   "source": [
    "box_1.up() # TypeError"
   ]
  },
  {
   "cell_type": "code",
   "execution_count": 50,
   "metadata": {
    "pycharm": {
     "name": "#%%\n"
    }
   },
   "outputs": [
    {
     "ename": "TypeError",
     "evalue": "volume() missing 1 required positional argument: 'self'",
     "output_type": "error",
     "traceback": [
      "\u001b[0;31m---------------------------------------------------------------------------\u001b[0m",
      "\u001b[0;31mTypeError\u001b[0m                                 Traceback (most recent call last)",
      "\u001b[0;32m/tmp/ipykernel_2249/381534749.py\u001b[0m in \u001b[0;36m<module>\u001b[0;34m\u001b[0m\n\u001b[0;32m----> 1\u001b[0;31m \u001b[0mprint\u001b[0m\u001b[0;34m(\u001b[0m\u001b[0mBox\u001b[0m\u001b[0;34m.\u001b[0m\u001b[0mvolume\u001b[0m\u001b[0;34m(\u001b[0m\u001b[0;34m)\u001b[0m\u001b[0;34m)\u001b[0m  \u001b[0;31m# TypeError\u001b[0m\u001b[0;34m\u001b[0m\u001b[0;34m\u001b[0m\u001b[0m\n\u001b[0m",
      "\u001b[0;31mTypeError\u001b[0m: volume() missing 1 required positional argument: 'self'"
     ]
    }
   ],
   "source": [
    "print(Box.volume())  # TypeError"
   ]
  },
  {
   "cell_type": "code",
   "execution_count": 51,
   "metadata": {
    "pycharm": {
     "name": "#%%\n"
    }
   },
   "outputs": [],
   "source": [
    "class Box:\n",
    "    def __init__(self, x, y, z):\n",
    "        self.x = x\n",
    "        self.y = y\n",
    "        self.z = z\n",
    "\n",
    "    def __str__(self):\n",
    "        return f\"Box [x = {self.x}, y = {self.y}, z = {self.z}]\"\n",
    "\n",
    "    def volume(self): # Обычный метод класса\n",
    "        return self.x * self.y * self.z\n",
    "\n",
    "    # @staticmethod\n",
    "    def up(): #  Статический метод класса\n",
    "        print(\"up\")\n",
    "\n",
    "    up = staticmethod(up)"
   ]
  },
  {
   "cell_type": "code",
   "execution_count": 52,
   "metadata": {
    "pycharm": {
     "name": "#%%\n"
    }
   },
   "outputs": [
    {
     "name": "stdout",
     "output_type": "stream",
     "text": [
      "up\n"
     ]
    }
   ],
   "source": [
    "box_1 = Box(1, 2, 3)\n",
    "box_1.up()"
   ]
  },
  {
   "cell_type": "markdown",
   "metadata": {},
   "source": [
    "### Метод Класса (classmethod)\n",
    "Метод класса — методы которым в качестве первого параметра автоматически передается класс объекта. Вызывать\n",
    "такие методы можно через имя объекта и через имя класса.\n",
    "Создаются такие методы с помощью встроенной функции — **classmethod**. Этот же метод можно использовать в качестве\n",
    "декоратора."
   ]
  },
  {
   "cell_type": "code",
   "execution_count": 53,
   "metadata": {
    "pycharm": {
     "name": "#%%\n"
    }
   },
   "outputs": [],
   "source": [
    "class Box:\n",
    "    def __init__(self, x, y, z):\n",
    "        self.x = x\n",
    "        self.y = y\n",
    "        self.z = z\n",
    "\n",
    "    def __str__(self):\n",
    "        return f\"Box [x = {self.x}, y = {self.y}, z = {self.z}]\"\n",
    "\n",
    "    def volume(self): # Обычный метод класса\n",
    "        return self.x * self.y * self.z\n",
    "\n",
    "    @staticmethod\n",
    "    def up(): #  Статический метод класса\n",
    "        print(\"up\")\n",
    "\n",
    "    @classmethod\n",
    "    def print_class_info(cls):\n",
    "        print(str(cls))"
   ]
  },
  {
   "cell_type": "code",
   "execution_count": 54,
   "metadata": {
    "pycharm": {
     "name": "#%%\n"
    }
   },
   "outputs": [
    {
     "name": "stdout",
     "output_type": "stream",
     "text": [
      "<class '__main__.Box'>\n",
      "<class '__main__.Box'>\n"
     ]
    }
   ],
   "source": [
    "box_1 = Box(1, 2, 3)\n",
    "box_1.print_class_info() # Вызов метода класса через имя объекта\n",
    "Box.print_class_info() # Вызов метода класса через имя класса\n"
   ]
  },
  {
   "cell_type": "code",
   "execution_count": 56,
   "metadata": {
    "pycharm": {
     "name": "#%%\n"
    }
   },
   "outputs": [],
   "source": [
    "from datetime import date\n",
    "\n",
    "class Person:\n",
    "    def __init__(self, name, age):\n",
    "        self.name = name\n",
    "        self.age = age\n",
    "\n",
    "    # Позволяет вычислить данные, и вернуть новый экземпляр класса,\n",
    "    # с этими данными\n",
    "    @classmethod\n",
    "    def from_birth_year(cls, name, year):\n",
    "        return cls(name, date.today().year - year)\n",
    "\n",
    "    # Метод, который не связан с переменными ни этого класса,\n",
    "    # ни его экземпляров\n",
    "    @staticmethod\n",
    "    def is_adult(age):\n",
    "        return age > 18\n"
   ]
  },
  {
   "cell_type": "code",
   "execution_count": 57,
   "metadata": {
    "pycharm": {
     "name": "#%%\n"
    }
   },
   "outputs": [
    {
     "name": "stdout",
     "output_type": "stream",
     "text": [
      "21\n",
      "26\n",
      "True\n",
      "True\n"
     ]
    }
   ],
   "source": [
    "person1 = Person('mayank', 21)\n",
    "person2 = Person.from_birth_year('mayank', 1996)\n",
    "\n",
    "print(person1.age)\n",
    "print( person2.age)\n",
    "\n",
    "# можно вызвать этот метод как из класса, так и из его экземпляров.\n",
    "# Но данные для него нужно передавать явно!\n",
    "print( Person.is_adult(22))\n",
    "print(person1.is_adult(person1.age))"
   ]
  },
  {
   "cell_type": "code",
   "execution_count": 58,
   "metadata": {
    "pycharm": {
     "name": "#%%\n"
    }
   },
   "outputs": [
    {
     "name": "stdout",
     "output_type": "stream",
     "text": [
      "Total objects:  3\n"
     ]
    }
   ],
   "source": [
    "class MyClass:\n",
    "\n",
    "    TOTAL_OBJECTS = 0\n",
    "\n",
    "    def __init__(self):\n",
    "        MyClass.TOTAL_OBJECTS += 1\n",
    "\n",
    "    @classmethod\n",
    "    def total_objects(cls):\n",
    "        print(\"Total objects: \", cls.TOTAL_OBJECTS)\n",
    "\n",
    "# Создаем объекты\n",
    "my_obj1 = MyClass()\n",
    "my_obj2 = MyClass()\n",
    "my_obj3 = MyClass()\n",
    "\n",
    "# Вызываем classmethod\n",
    "MyClass.total_objects()"
   ]
  },
  {
   "cell_type": "code",
   "execution_count": 59,
   "metadata": {
    "pycharm": {
     "name": "#%%\n"
    }
   },
   "outputs": [
    {
     "data": {
      "text/plain": [
       "3"
      ]
     },
     "execution_count": 59,
     "metadata": {},
     "output_type": "execute_result"
    }
   ],
   "source": [
    "MyClass.TOTAL_OBJECTS\n"
   ]
  }
 ],
 "metadata": {
  "kernelspec": {
   "display_name": "Python 3 (ipykernel)",
   "language": "python",
   "name": "python3"
  },
  "language_info": {
   "codemirror_mode": {
    "name": "ipython",
    "version": 3
   },
   "file_extension": ".py",
   "mimetype": "text/x-python",
   "name": "python",
   "nbconvert_exporter": "python",
   "pygments_lexer": "ipython3",
   "version": "3.8.10"
  }
 },
 "nbformat": 4,
 "nbformat_minor": 2
}
