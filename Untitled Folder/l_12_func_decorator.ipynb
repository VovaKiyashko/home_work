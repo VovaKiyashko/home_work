{
 "cells": [
  {
   "cell_type": "markdown",
   "metadata": {},
   "source": [
    "# Декораторы"
   ]
  },
  {
   "cell_type": "markdown",
   "metadata": {
    "pycharm": {
     "name": "#%% md\n"
    }
   },
   "source": [
    "### Замыкания (closures)\n",
    "\n"
   ]
  },
  {
   "cell_type": "markdown",
   "metadata": {
    "pycharm": {
     "name": "#%% md\n"
    }
   },
   "source": [
    "Замыкание (*closures*) — функция с расширенной областью видимости, которая охватывает не глобальные\n",
    "переменные, на которые есть ссылки в теле функции, хотя в теле функции они (переменные) не определенны.\n",
    "Еще раз обратите внимание на то, что функция должна иметь доступ к неглобальным переменным. Т.е. к\n",
    "переменным объявленным в другой (объемлющей) функции."
   ]
  },
  {
   "cell_type": "code",
   "execution_count": 1,
   "metadata": {
    "pycharm": {
     "name": "#%%\n"
    }
   },
   "outputs": [
    {
     "name": "stdout",
     "output_type": "stream",
     "text": [
      "8\n",
      "125\n"
     ]
    }
   ],
   "source": [
    "\"\"\"Область видимости параметра n принадлежит внешней функции, однако\n",
    "вложенная функция может его использовать.\"\"\"\n",
    "\n",
    "def calculate_pow(n): # Объемлющая функция\n",
    "    def calculate(number):\n",
    "        # Вложенная функция, которая использует переменную объемлющей\n",
    "        return number ** n\n",
    "    return calculate # Возврат вложенной функции\n",
    "\n",
    "f = calculate_pow(3) # Вызов объемлющей функции\n",
    "\n",
    "number_one = f(2) # Вызов вложенной функции\n",
    "number_two = f(5)\n",
    "print(number_one)\n",
    "print(number_two)\n"
   ]
  },
  {
   "cell_type": "code",
   "execution_count": 2,
   "metadata": {},
   "outputs": [
    {
     "data": {
      "text/plain": [
       "<function __main__.calculate_pow.<locals>.calculate(number)>"
      ]
     },
     "execution_count": 2,
     "metadata": {},
     "output_type": "execute_result"
    }
   ],
   "source": [
    "f"
   ]
  },
  {
   "cell_type": "markdown",
   "metadata": {
    "pycharm": {
     "name": "#%% md\n"
    }
   },
   "source": [
    "внутренняя функция и является **замыканием**. В Python область видимости объемлющей функции\n",
    "сохраняется для внутренней функции. Но не всех, а только для тех переменных которые используются во вложенной\n",
    "функции. Такие переменные объемлющей функции называются свободными переменными."
   ]
  },
  {
   "cell_type": "code",
   "execution_count": 10,
   "metadata": {
    "pycharm": {
     "name": "#%%\n"
    }
   },
   "outputs": [],
   "source": [
    "# проблемы при построении функции замыкания\n",
    "def fibonacci():\n",
    "    first_number = 0\n",
    "    second_number = 1\n",
    "    def get_next():\n",
    "        next_number = second_number + first_number # UnboundLocalError\n",
    "        first_number = second_number\n",
    "        second_number = next_number\n",
    "        return next_number\n",
    "    return get_next"
   ]
  },
  {
   "cell_type": "code",
   "execution_count": 11,
   "metadata": {
    "pycharm": {
     "name": "#%%\n"
    }
   },
   "outputs": [
    {
     "name": "stdout",
     "output_type": "stream",
     "text": [
      "1 1 1 1 1 1 1 1 1 1 "
     ]
    }
   ],
   "source": [
    "f = fibonacci()\n",
    "\n",
    "for i in range(10):\n",
    "    print(f(), end = \" \")"
   ]
  },
  {
   "cell_type": "markdown",
   "metadata": {},
   "source": [
    "### Использование модификатора nonlocal"
   ]
  },
  {
   "cell_type": "code",
   "execution_count": 5,
   "metadata": {
    "pycharm": {
     "name": "#%%\n"
    }
   },
   "outputs": [],
   "source": [
    "def fibonacci():\n",
    "    first_number = 0\n",
    "    second_number = 1\n",
    "    def get_next():\n",
    "        nonlocal second_number # указание, что переменные нелокальны\n",
    "        nonlocal first_number\n",
    "        next_number = second_number + first_number\n",
    "        first_number = second_number\n",
    "        second_number = next_number\n",
    "        return next_number\n",
    "    return get_next\n"
   ]
  },
  {
   "cell_type": "code",
   "execution_count": 6,
   "metadata": {
    "pycharm": {
     "name": "#%%\n"
    }
   },
   "outputs": [
    {
     "name": "stdout",
     "output_type": "stream",
     "text": [
      "1 2 3 5 8 13 21 34 55 89 "
     ]
    }
   ],
   "source": [
    "f = fibonacci()\n",
    "\n",
    "for i in range(10):\n",
    "    print(f(), end = \" \")\n"
   ]
  },
  {
   "cell_type": "markdown",
   "metadata": {
    "collapsed": true,
    "pycharm": {
     "name": "#%% md\n"
    }
   },
   "source": [
    "## Декораторы функций"
   ]
  },
  {
   "cell_type": "markdown",
   "metadata": {},
   "source": [
    "**Декоратор** — вызываемый объект, который принимает другую функцию в качестве аргумента. Декоратор может производить\n",
    "какие-то операции с функцией и возвращает либо ее саму, либо\n",
    "другую, заменяющую ее функцию или вызываемый объект.\n",
    "Декораторы функций связывают имя функции с другим вызываемым объектом на этапе определения функции, добавляя\n",
    "дополнительный уровень логики, которая управляет функциями и методами или выполняет некоторые действия в случае их вызова."
   ]
  },
  {
   "cell_type": "markdown",
   "metadata": {},
   "source": [
    "Декораторы функций могут быть использованы для:\n",
    "\n",
    "* Перехват вызова функций и выполняющие необходимые операции с функцией. Например, регистрация в прикладном компоненте, хронометраж.\n",
    "* Декоратор может полностью заменить объект функции на другой. Или модифицировать объект функции.\n",
    "\n",
    "Т.е. с помощью декоратора можно дополнять декорируемую функцию, можно использовать результаты ее работы, а можно полностью ее\n",
    "заменить."
   ]
  },
  {
   "cell_type": "markdown",
   "metadata": {},
   "source": [
    "**Что может выступать в качестве декоратора в Python?**\n",
    "\n",
    "Декоратор сам по себе является вызываемым объектом, который возвращает вызываемый объект. Т.е. в качестве\n",
    "декоратора может использоваться любой объект, который реализует протокол вызова.\n",
    "Если рассмотреть декораторы с технической точки зрения, то декораторы в Python - это синтаксическое упрощение\n",
    "(синтаксический сахар) при описания объекта, который может управлять объектом функцией.\n",
    "Однако, из-за своей наглядности, они применяются очень часто."
   ]
  },
  {
   "cell_type": "code",
   "execution_count": 12,
   "metadata": {
    "pycharm": {
     "name": "#%%\n"
    }
   },
   "outputs": [
    {
     "name": "stdout",
     "output_type": "stream",
     "text": [
      "[<function summ at 0x7f32b40a0280>, <function mul at 0x7f32a4f85a60>]\n"
     ]
    }
   ],
   "source": [
    "my_function = []\n",
    "\n",
    "def add_function(func):\n",
    "    \"\"\"функция принимает на вход любой объект, добавляет\n",
    "        его в список my_function и возвращает этот объект.\n",
    "    \"\"\"\n",
    "    my_function.append(func)\n",
    "    return func\n",
    "\n",
    "@add_function # Применение созданной функции в качестве декоратора\n",
    "def summ(x, y): # Декорируемая функция summ = add_function(sum)\n",
    "    return x + y\n",
    "\n",
    "@add_function\n",
    "def mul(x, y): # Декорируемая функция\n",
    "    return x * y\n",
    "\n",
    "print(my_function)"
   ]
  },
  {
   "cell_type": "code",
   "execution_count": 13,
   "metadata": {},
   "outputs": [
    {
     "data": {
      "text/plain": [
       "20"
      ]
     },
     "execution_count": 13,
     "metadata": {},
     "output_type": "execute_result"
    }
   ],
   "source": [
    "mul(4, 5)"
   ]
  },
  {
   "cell_type": "markdown",
   "metadata": {},
   "source": [
    "декораторы - не более чем упрощение синтаксиса. Однако, из-за наглядности и удобства использования, их применяют\n",
    "довольно часто."
   ]
  },
  {
   "cell_type": "markdown",
   "metadata": {
    "pycharm": {
     "name": "#%% md\n"
    }
   },
   "source": [
    "**Внимание!** Декораторы выполняются на этапе создания функции. Декораторы не вызываются при вызове декорируемой\n",
    "функции\n"
   ]
  },
  {
   "cell_type": "markdown",
   "metadata": {},
   "source": [
    "### Передача параметров для декорируемой функции.\n",
    "Пример декоратора, который использует результат вызова декорируемой функции"
   ]
  },
  {
   "cell_type": "code",
   "execution_count": 18,
   "metadata": {
    "pycharm": {
     "name": "#%%\n"
    }
   },
   "outputs": [
    {
     "name": "stdout",
     "output_type": "stream",
     "text": [
      "Summa = 7\n"
     ]
    }
   ],
   "source": [
    "def to_str(f):\n",
    "    def get_str(*args, **kwargs): # Функция, которая принимает аргументы для декор.функции\n",
    "        return str(f(*args, **kwargs))\n",
    "    return get_str # Теперь возвращается другая функция\n",
    "\n",
    "@to_str\n",
    "def suma(x, y):\n",
    "    return x + y\n",
    "print(\"Summa = \" + suma(3, 4))\n",
    "\n",
    "# suma = to_str(suma)\n",
    "# suma = get_str(*args, **kwargs) -> str(f(*args, **kwargs))"
   ]
  },
  {
   "cell_type": "code",
   "execution_count": 15,
   "metadata": {},
   "outputs": [
    {
     "ename": "TypeError",
     "evalue": "can only concatenate str (not \"int\") to str",
     "output_type": "error",
     "traceback": [
      "\u001b[0;31m---------------------------------------------------------------------------\u001b[0m",
      "\u001b[0;31mTypeError\u001b[0m                                 Traceback (most recent call last)",
      "\u001b[0;32m/tmp/ipykernel_2198/2213842048.py\u001b[0m in \u001b[0;36m<module>\u001b[0;34m\u001b[0m\n\u001b[0;32m----> 1\u001b[0;31m \u001b[0;34m'h'\u001b[0m \u001b[0;34m+\u001b[0m \u001b[0;36m7\u001b[0m\u001b[0;34m\u001b[0m\u001b[0;34m\u001b[0m\u001b[0m\n\u001b[0m",
      "\u001b[0;31mTypeError\u001b[0m: can only concatenate str (not \"int\") to str"
     ]
    }
   ],
   "source": [
    "'h' + 7"
   ]
  },
  {
   "cell_type": "markdown",
   "metadata": {},
   "source": [
    "в результате вызова функции декоратора возвращается уже не декорируемая функция, а иной вызываемый объект (функция get_str)"
   ]
  },
  {
   "cell_type": "code",
   "execution_count": 19,
   "metadata": {
    "pycharm": {
     "name": "#%%\n"
    }
   },
   "outputs": [
    {
     "name": "stdout",
     "output_type": "stream",
     "text": [
      "<function to_str.<locals>.get_str at 0x7f32a4f85dc0>\n"
     ]
    }
   ],
   "source": [
    "print(suma)"
   ]
  },
  {
   "cell_type": "markdown",
   "metadata": {},
   "source": [
    "### Как это можно исправить?"
   ]
  },
  {
   "cell_type": "code",
   "execution_count": 20,
   "metadata": {
    "pycharm": {
     "name": "#%%\n"
    }
   },
   "outputs": [],
   "source": [
    "def trace(func):\n",
    "    \"\"\"Декоратор trace выводит на экран сообщение с\n",
    "        информацией о вызове декорируемой функции.\"\"\"\n",
    "    def inner(*args, **kwargs):\n",
    "        \"\"\"Inner doc\"\"\"\n",
    "        print(f'name: {func.__name__}, args: {args}, kwargs: {kwargs}')\n",
    "        return func(*args, **kwargs)\n",
    "    return inner"
   ]
  },
  {
   "cell_type": "code",
   "execution_count": 21,
   "metadata": {
    "pycharm": {
     "name": "#%%\n"
    }
   },
   "outputs": [
    {
     "name": "stdout",
     "output_type": "stream",
     "text": [
      "name: identity, args: (50,), kwargs: {}\n"
     ]
    },
    {
     "data": {
      "text/plain": [
       "50"
      ]
     },
     "execution_count": 21,
     "metadata": {},
     "output_type": "execute_result"
    }
   ],
   "source": [
    "@trace # identity = trace(identity)\n",
    "def identity(x):\n",
    "    \"\"\"I do nothing useful.\"\"\"\n",
    "    return x\n",
    "\n",
    "identity(50)\n",
    "\n"
   ]
  },
  {
   "cell_type": "code",
   "execution_count": 22,
   "metadata": {
    "pycharm": {
     "name": "#%%\n"
    }
   },
   "outputs": [
    {
     "name": "stdout",
     "output_type": "stream",
     "text": [
      "Help on function inner in module __main__:\n",
      "\n",
      "inner(*args, **kwargs)\n",
      "    Inner doc\n",
      "\n"
     ]
    }
   ],
   "source": [
    "help(identity) # Help on function inner"
   ]
  },
  {
   "cell_type": "code",
   "execution_count": 23,
   "metadata": {
    "pycharm": {
     "name": "#%%\n"
    }
   },
   "outputs": [
    {
     "data": {
      "text/plain": [
       "('identity', 'I do nothing useful.')"
      ]
     },
     "execution_count": 23,
     "metadata": {},
     "output_type": "execute_result"
    }
   ],
   "source": [
    "def identity(x):\n",
    "    \"\"\"I do nothing useful.\"\"\"\n",
    "    return x\n",
    "\n",
    "identity.__name__, identity.__doc__"
   ]
  },
  {
   "cell_type": "code",
   "execution_count": 24,
   "metadata": {
    "pycharm": {
     "name": "#%%\n"
    }
   },
   "outputs": [],
   "source": [
    "# @trace \n",
    "# def identity(x):\n",
    "identity = trace(identity)\n"
   ]
  },
  {
   "cell_type": "code",
   "execution_count": 25,
   "metadata": {},
   "outputs": [
    {
     "data": {
      "text/plain": [
       "('inner', 'Inner doc')"
      ]
     },
     "execution_count": 25,
     "metadata": {},
     "output_type": "execute_result"
    }
   ],
   "source": [
    "identity.__name__, identity.__doc__"
   ]
  },
  {
   "cell_type": "code",
   "execution_count": 26,
   "metadata": {
    "pycharm": {
     "name": "#%%\n"
    }
   },
   "outputs": [
    {
     "data": {
      "text/plain": [
       "'__main__'"
      ]
     },
     "execution_count": 26,
     "metadata": {},
     "output_type": "execute_result"
    }
   ],
   "source": [
    "# У любой функции в Python есть атрибут __module__ ,\n",
    "# содержащий имя модуля, в котором функция была определена.\n",
    "identity.__module__"
   ]
  },
  {
   "cell_type": "code",
   "execution_count": 27,
   "metadata": {
    "scrolled": false
   },
   "outputs": [
    {
     "name": "stdout",
     "output_type": "stream",
     "text": [
      "math\n"
     ]
    }
   ],
   "source": [
    "import math\n",
    "print(math.cos.__module__)"
   ]
  },
  {
   "cell_type": "code",
   "execution_count": 28,
   "metadata": {
    "pycharm": {
     "name": "#%%\n"
    }
   },
   "outputs": [],
   "source": [
    "# установим “правильные” значения в атрибуты декорируемой функции:\n",
    "def trace(func):\n",
    "    \"\"\"Декоратор trace выводит на экран сообщение с\n",
    "        информацией о вызове декорируемой функции.\"\"\"\n",
    "    def inner(*args, **kwargs):\n",
    "        \"\"\"Inner doc\"\"\"\n",
    "        print(f'name: {func.__name__}, args: {args}, kwargs: {kwargs}')\n",
    "        return func(*args, **kwargs)\n",
    "    inner.__module__ = func.__module__\n",
    "    inner.__name__ = func.__name__\n",
    "    inner.__doc__ = func.__doc__\n",
    "    return inner\n",
    "\n",
    "\n",
    "@trace\n",
    "def identity(x):\n",
    "    \"\"\"I do nothing useful.\"\"\"\n",
    "    return x"
   ]
  },
  {
   "cell_type": "code",
   "execution_count": 29,
   "metadata": {
    "pycharm": {
     "name": "#%%\n"
    }
   },
   "outputs": [
    {
     "data": {
      "text/plain": [
       "('identity', 'I do nothing useful.')"
      ]
     },
     "execution_count": 29,
     "metadata": {},
     "output_type": "execute_result"
    }
   ],
   "source": [
    "# Проверим\n",
    "identity.__name__, identity.__doc__"
   ]
  },
  {
   "cell_type": "markdown",
   "metadata": {},
   "source": [
    "В модуле **functools** из стандартной библиотеки Python есть функция, реализующая логику копирования\n",
    "внутренних атрибутов\n"
   ]
  },
  {
   "cell_type": "code",
   "execution_count": 30,
   "metadata": {
    "pycharm": {
     "name": "#%%\n"
    }
   },
   "outputs": [
    {
     "data": {
      "text/plain": [
       "('identity', 'I do nothing useful.')"
      ]
     },
     "execution_count": 30,
     "metadata": {},
     "output_type": "execute_result"
    }
   ],
   "source": [
    "import functools\n",
    "\n",
    "def trace(func):\n",
    "    \"\"\"Декоратор trace выводит на экран сообщение с\n",
    "        информацией о вызове декорируемой функции.\"\"\"\n",
    "    def inner(*args, **kwargs):\n",
    "        \"\"\"Inner doc\"\"\"\n",
    "        print(f'name: {func.__name__}, args: {args}, kwargs: {kwargs}')\n",
    "        return func(*args, **kwargs)\n",
    "    functools.update_wrapper(inner, func)\n",
    "    return inner\n",
    "\n",
    "@trace\n",
    "def identity(x):\n",
    "    \"\"\"I do nothing useful.\"\"\"\n",
    "    return x\n",
    "\n",
    "identity.__name__, identity.__doc__"
   ]
  },
  {
   "cell_type": "code",
   "execution_count": 31,
   "metadata": {
    "pycharm": {
     "name": "#%%\n"
    }
   },
   "outputs": [
    {
     "name": "stdout",
     "output_type": "stream",
     "text": [
      "identity I do nothing useful.\n",
      "name: identity, args: (34,), kwargs: {}\n",
      "34\n"
     ]
    }
   ],
   "source": [
    "# То же самое можно сделать с помощью декоратора wraps\n",
    "\n",
    "def trace(func):\n",
    "    \"\"\"Декоратор trace выводит на экран сообщение с\n",
    "        информацией о вызове декорируемой функции.\"\"\"\n",
    "    @functools.wraps(func)\n",
    "    def inner(*args, **kwargs):\n",
    "        \"\"\"Inner doc\"\"\"\n",
    "        print(f'name: {func.__name__}, args: {args}, kwargs: {kwargs}')\n",
    "        return func(*args, **kwargs)\n",
    "    return inner\n",
    "\n",
    "@trace\n",
    "def identity(x):\n",
    "    \"\"\"I do nothing useful.\"\"\"\n",
    "    return x\n",
    "\n",
    "print(identity.__name__, identity.__doc__)\n",
    "print(identity(34))"
   ]
  },
  {
   "cell_type": "markdown",
   "metadata": {},
   "source": [
    "### К одной функции можно применить множество декораторов"
   ]
  },
  {
   "cell_type": "code",
   "execution_count": 32,
   "metadata": {
    "pycharm": {
     "name": "#%%\n"
    }
   },
   "outputs": [
    {
     "name": "stdout",
     "output_type": "stream",
     "text": [
      "--ветчина--\n"
     ]
    }
   ],
   "source": [
    "def bread(func):\n",
    "    def wrapper():\n",
    "        print()\n",
    "        func()\n",
    "        print(\"<\\______/>\")\n",
    "    return wrapper\n",
    "\n",
    "def ingredients(func):\n",
    "    def wrapper():\n",
    "        print(\"#помидоры#\")\n",
    "        func()\n",
    "        print(\"~салат~\")\n",
    "    return wrapper\n",
    "\n",
    "def sandwich(food=\"--ветчина--\"):\n",
    "    print(food)\n",
    "\n",
    "sandwich()"
   ]
  },
  {
   "cell_type": "code",
   "execution_count": 33,
   "metadata": {
    "pycharm": {
     "name": "#%%\n"
    }
   },
   "outputs": [
    {
     "name": "stdout",
     "output_type": "stream",
     "text": [
      "\n",
      "#помидоры#\n",
      "--ветчина--\n",
      "~салат~\n",
      "<\\______/>\n"
     ]
    }
   ],
   "source": [
    "sandwich = bread(ingredients(sandwich))\n",
    "sandwich()"
   ]
  },
  {
   "cell_type": "code",
   "execution_count": 34,
   "metadata": {
    "pycharm": {
     "name": "#%%\n"
    }
   },
   "outputs": [
    {
     "name": "stdout",
     "output_type": "stream",
     "text": [
      "\n",
      "#помидоры#\n",
      "--ветчина--\n",
      "~салат~\n",
      "<\\______/>\n"
     ]
    }
   ],
   "source": [
    "@bread\n",
    "@ingredients\n",
    "def sandwich(food=\"--ветчина--\"):\n",
    "    print(food)\n",
    "\n",
    "sandwich()"
   ]
  },
  {
   "cell_type": "code",
   "execution_count": 35,
   "metadata": {},
   "outputs": [
    {
     "name": "stdout",
     "output_type": "stream",
     "text": [
      "\n",
      "#помидоры#\n",
      "\n",
      "--ветчина--\n",
      "<\\______/>\n",
      "~салат~\n",
      "<\\______/>\n"
     ]
    }
   ],
   "source": [
    "\n",
    "@bread\n",
    "@ingredients\n",
    "@bread\n",
    "def sandwich(food=\"--ветчина--\"):\n",
    "    print(food)\n",
    "\n",
    "sandwich()"
   ]
  },
  {
   "cell_type": "code",
   "execution_count": 36,
   "metadata": {
    "pycharm": {
     "name": "#%%\n"
    }
   },
   "outputs": [
    {
     "name": "stdout",
     "output_type": "stream",
     "text": [
      "#помидоры#\n",
      "\n",
      "--ветчина--\n",
      "<\\______/>\n",
      "~салат~\n"
     ]
    }
   ],
   "source": [
    "# важен порядок декорирования\n",
    "@ingredients\n",
    "@bread\n",
    "def sandwich(food=\"--ветчина--\"):\n",
    "    print(food)\n",
    "\n",
    "sandwich()\n"
   ]
  },
  {
   "cell_type": "markdown",
   "metadata": {},
   "source": [
    "### Аргументы декораторов\n",
    "Обе разновидности декораторов (декораторы на основе функций и декораторы на\n",
    "основе классов) могут принимать дополнительные аргументы.\n",
    "Данный механизм реализован следующим образом: аргументы переданные\n",
    "декоратору, на самом деле, передаются объекту, который вернет декоратор. А уже\n",
    "возвращенный декоратор будет применен к декорируемому объекту.\n",
    "Т.е. если использовать декоратор с параметрами, то, в качестве декоратора, стоит\n",
    "использовать вызываемый объект, который вернет декоратор."
   ]
  },
  {
   "cell_type": "markdown",
   "metadata": {},
   "source": [
    "```\n",
    "@my_decorator\n",
    "def func(*args):\n",
    "    ...\n",
    "```\n",
    "=>\n",
    "\n",
    "`func = my_decorator(func)`\n",
    "\n",
    "Для декоратора с параметрами, сохраняется логика, но добавляется\n",
    "промежуточный уровень обработки\n",
    "```\n",
    "@my_decorator(x, y)\n",
    "def func(*args):\n",
    "    ...\n",
    "```\n",
    "=>\n",
    "```\n",
    "deco = my_decorator(x, y)\n",
    "func = deco(func)\n",
    "```"
   ]
  },
  {
   "cell_type": "code",
   "execution_count": 37,
   "metadata": {},
   "outputs": [
    {
     "ename": "TypeError",
     "evalue": "wrapper() takes 0 positional arguments but 1 was given",
     "output_type": "error",
     "traceback": [
      "\u001b[0;31m---------------------------------------------------------------------------\u001b[0m",
      "\u001b[0;31mTypeError\u001b[0m                                 Traceback (most recent call last)",
      "\u001b[0;32m/tmp/ipykernel_2198/1121493679.py\u001b[0m in \u001b[0;36m<module>\u001b[0;34m\u001b[0m\n\u001b[1;32m      1\u001b[0m \u001b[0;34m@\u001b[0m\u001b[0mbread\u001b[0m\u001b[0;34m(\u001b[0m\u001b[0;34m'Hi'\u001b[0m\u001b[0;34m)\u001b[0m\u001b[0;34m\u001b[0m\u001b[0;34m\u001b[0m\u001b[0m\n\u001b[1;32m      2\u001b[0m \u001b[0;34m@\u001b[0m\u001b[0mingredients\u001b[0m\u001b[0;34m\u001b[0m\u001b[0;34m\u001b[0m\u001b[0m\n\u001b[0;32m----> 3\u001b[0;31m \u001b[0;32mdef\u001b[0m \u001b[0msandwich\u001b[0m\u001b[0;34m(\u001b[0m\u001b[0mfood\u001b[0m\u001b[0;34m=\u001b[0m\u001b[0;34m\"--ветчина--\"\u001b[0m\u001b[0;34m)\u001b[0m\u001b[0;34m:\u001b[0m\u001b[0;34m\u001b[0m\u001b[0;34m\u001b[0m\u001b[0m\n\u001b[0m\u001b[1;32m      4\u001b[0m     \u001b[0mprint\u001b[0m\u001b[0;34m(\u001b[0m\u001b[0mfood\u001b[0m\u001b[0;34m)\u001b[0m\u001b[0;34m\u001b[0m\u001b[0;34m\u001b[0m\u001b[0m\n\u001b[1;32m      5\u001b[0m \u001b[0;34m\u001b[0m\u001b[0m\n",
      "\u001b[0;31mTypeError\u001b[0m: wrapper() takes 0 positional arguments but 1 was given"
     ]
    }
   ],
   "source": [
    "@bread('Hi')\n",
    "@ingredients\n",
    "def sandwich(food=\"--ветчина--\"):\n",
    "    print(food)\n",
    "\n",
    "sandwich()"
   ]
  },
  {
   "cell_type": "code",
   "execution_count": 38,
   "metadata": {
    "pycharm": {
     "name": "#%%\n"
    }
   },
   "outputs": [],
   "source": [
    "def decorator_with_arguments(deco_arg1, deco_arg2):\n",
    "    print(\"Я создаю декораторы! аргументы:\", deco_arg1, deco_arg2)\n",
    "    def my_decorator(func):\n",
    "        print(\"Я и есть декоратор. Аргументы извне:\", deco_arg1, deco_arg2)\n",
    "        # Не перепутайте аргументы декораторов с аргументами функций!\n",
    "        def wrapped(func_arg1, func_arg2):\n",
    "            print (\"Я - обёртка вокруг декорируемой функции.\\n\"\n",
    "            \"И я имею доступ ко всем аргументам\\n\"\n",
    "            \"\\t- и декоратора: {0} {1}\\n\"\n",
    "            \"\\t- и функции: {2} {3}\\n\"\n",
    "            \"Теперь я могу передать нужные аргументы дальше\"\n",
    "            .format(deco_arg1, deco_arg2, func_arg1, func_arg2))\n",
    "            return func(func_arg1, func_arg2)\n",
    "        return wrapped\n",
    "    return my_decorator\n"
   ]
  },
  {
   "cell_type": "code",
   "execution_count": 39,
   "metadata": {
    "pycharm": {
     "name": "#%%\n"
    }
   },
   "outputs": [
    {
     "name": "stdout",
     "output_type": "stream",
     "text": [
      "Я создаю декораторы! аргументы: Леонард Шелдон\n",
      "Я и есть декоратор. Аргументы извне: Леонард Шелдон\n",
      "-------------------- start ---------------\n",
      "Я - обёртка вокруг декорируемой функции.\n",
      "И я имею доступ ко всем аргументам\n",
      "\t- и декоратора: Леонард Шелдон\n",
      "\t- и функции: Раджеш Говард\n",
      "Теперь я могу передать нужные аргументы дальше\n",
      "Я - декорируемая функция и я знаю только о своих аргументах: Раджеш Говард\n"
     ]
    }
   ],
   "source": [
    "@decorator_with_arguments(\"Леонард\", \"Шелдон\")\n",
    "def decorated_function_with_arguments(_arg1, _arg2):\n",
    "    print (\"Я - декорируемая функция и я знаю только о своих аргументах: {0}\"\n",
    "    \" {1}\".format(_arg1, _arg2))\n",
    "\n",
    "print('-------------------- start ---------------')\n",
    "decorated_function_with_arguments(\"Раджеш\", \"Говард\")"
   ]
  },
  {
   "cell_type": "code",
   "execution_count": 40,
   "metadata": {
    "pycharm": {
     "name": "#%%\n"
    }
   },
   "outputs": [],
   "source": [
    "# Декорирование добавит функцию в словарь workers.\n",
    "# Ключом будет выступать строка (параметр декоратора),\n",
    "# а значением - декорируемая функция.\n",
    "\n",
    "workers = {}\n",
    "\n",
    "def link(adress=None):\n",
    "    def add_worker(func):\n",
    "        workers[adress] = func\n",
    "        def get_answer(*args, **kwargs):\n",
    "            return str(func(*args, **kwargs))\n",
    "        return get_answer\n",
    "    return add_worker"
   ]
  },
  {
   "cell_type": "code",
   "execution_count": 41,
   "metadata": {
    "pycharm": {
     "name": "#%%\n"
    }
   },
   "outputs": [
    {
     "name": "stdout",
     "output_type": "stream",
     "text": [
      "{'\\\\main': <function main_page at 0x7f32a4fa7310>, '\\\\main\\\\goods': <function get_goods at 0x7f32a4fa7ca0>}\n"
     ]
    }
   ],
   "source": [
    "@link(\"\\main\")\n",
    "def main_page():\n",
    "    return \"Hello word page\"\n",
    "\n",
    "@link(\"\\main\\goods\")\n",
    "def get_goods(list_goods):\n",
    "    return list_goods\n",
    "\n",
    "print(workers)"
   ]
  },
  {
   "cell_type": "code",
   "execution_count": 42,
   "metadata": {},
   "outputs": [
    {
     "name": "stdout",
     "output_type": "stream",
     "text": [
      "{'\\\\main': <function main_page at 0x7f32a4fa7310>, '\\\\main\\\\goods': <function get_goods at 0x7f32a4fa7ca0>, None: <function world at 0x7f32a4fa7940>}\n"
     ]
    }
   ],
   "source": [
    "@link()\n",
    "def world():\n",
    "    return \"Hello world\"\n",
    "print(workers)"
   ]
  },
  {
   "cell_type": "markdown",
   "metadata": {},
   "source": [
    "### Некоторые декораторы стандартной библиотеки\n",
    "Рассмотрим некоторые декораторы в стандартной библиотеке:\n",
    "\n",
    "**functools.lru_cache** — Встроенная реализация  мемоизации для пользовательских рекурсивных функций\n",
    "\n",
    "**functools.singledispatch** — Реализация обобщенных (перегруженных) функций в Python"
   ]
  },
  {
   "cell_type": "markdown",
   "metadata": {},
   "source": [
    "### Использование декоратора functools.lru_cache\n",
    "Данный декоратор используется для реализации приема мемоизации («memoization»). Его смысл заключается в сохранении\n",
    "параметра метода и его возвращаемого значения в быстром хранилище (словарь). Этот прием позволит значительно ускорить\n",
    "вычисление некоторых рекурсивных функций. Так как, если в этом словаре уже будут параметры, с которыми вызывалась функция, то\n",
    "она не будет вычисляться, а ответ возьмется из словаря.\n",
    "У данного декоратора существует два параметра:\n",
    "\n",
    "**maxsize** — сколько результатов вызова хранить. Для достижения максимальной производительности рекомендуется использовать два\n",
    "в целой степени. По умолчанию maxsize=128\n",
    "\n",
    "**typed** — по-разному хранить параметры разных типов. Т.е.\n",
    "integer и float хранятся по разному. Например для чисел 3 и 3.0 данные будут храниться, как разные.\n",
    "\n",
    "**Внимание!** Параметры функции должны быть хешируемого типа."
   ]
  },
  {
   "cell_type": "code",
   "execution_count": 45,
   "metadata": {
    "pycharm": {
     "name": "#%%\n"
    }
   },
   "outputs": [
    {
     "name": "stdout",
     "output_type": "stream",
     "text": [
      "7896325826131730509282738943634332893686268675876375\n",
      "0.0065822601318359375\n"
     ]
    }
   ],
   "source": [
    "import functools\n",
    "import time\n",
    "\n",
    "@functools.lru_cache()\n",
    "def fibonacci(n):\n",
    "    if n == 0:\n",
    "        return 0\n",
    "    if n == 1:\n",
    "        return 1\n",
    "    return fibonacci(n-1) + fibonacci(n-2)\n",
    "\n",
    "start = time.time()\n",
    "res = fibonacci(250)\n",
    "print(res)\n",
    "print(time.time() - start)"
   ]
  },
  {
   "cell_type": "code",
   "execution_count": 44,
   "metadata": {
    "pycharm": {
     "name": "#%%\n"
    }
   },
   "outputs": [
    {
     "name": "stdout",
     "output_type": "stream",
     "text": [
      "31.392521858215332\n"
     ]
    }
   ],
   "source": [
    "import time\n",
    "def fibonacci(n):\n",
    "    if n == 0:\n",
    "        return 0\n",
    "    if n == 1:\n",
    "        return 1\n",
    "    return fibonacci(n-1) + fibonacci(n-2)\n",
    "\n",
    "start = time.time()\n",
    "res = fibonacci(38) # 31.392521858215332  75 будет кардинально дольше! 2 в степени n!\n",
    "print(time.time() - start)"
   ]
  },
  {
   "cell_type": "markdown",
   "metadata": {},
   "source": [
    "### Использование декоратора functoois.singledispatch\n",
    "Данный декоратор используется для реализации приема\n",
    "перегрузки методов. В Python не реализован механизм перегрузки\n",
    "методов в зависимости от типа параметра. Однако необходимость в\n",
    "подобном механизме возникает. В этом случае можно использовать\n",
    "встроенный декоратор **functoois.singledispatch**. Функция, к которой\n",
    "применен данный декоратор, становится обобщенной.\n",
    "После этого вы можете зарегистрировать несколько других\n",
    "функций для обработки аргумента своего типа. Для этого другие\n",
    "функции следует пометить декоратором вида:\n",
    "\n",
    "**decorate_function_name.register (date_type)**\n",
    "\n",
    "**decorate_function_name** — имя обобщенной функции\n",
    "\n",
    "**date_type** — тип данных\n",
    "\n",
    "**Внимание!** Использовать декоратор можно только для работы с первым аргументом."
   ]
  },
  {
   "cell_type": "code",
   "execution_count": 46,
   "metadata": {
    "pycharm": {
     "name": "#%%\n"
    }
   },
   "outputs": [],
   "source": [
    "import functools\n",
    "import numbers\n",
    "\n",
    "@functools.singledispatch\n",
    "def add(a, b): # функция add будет обобщенной\n",
    "    return a + b\n",
    "\n",
    "@add.register(numbers.Integral) # если первый параметр add - целое число\n",
    "def integer_add(a, b):\n",
    "    print(\"Call for integer\")\n",
    "    return a + b\n",
    "\n",
    "@add.register(numbers.Real) # если первый параметр add - вещественное число\n",
    "def float_add(a, b):\n",
    "    print(\"Call for float\")\n",
    "    return a + b"
   ]
  },
  {
   "cell_type": "code",
   "execution_count": 47,
   "metadata": {
    "pycharm": {
     "name": "#%%\n"
    }
   },
   "outputs": [
    {
     "name": "stdout",
     "output_type": "stream",
     "text": [
      "Call for integer\n",
      "8\n",
      "Call for float\n",
      "2.0\n"
     ]
    }
   ],
   "source": [
    "# вызываются разные функции по одному и тому же имени\n",
    "print(add(3, 5))\n",
    "print(add(1.5, 0.5))"
   ]
  },
  {
   "cell_type": "code",
   "execution_count": 48,
   "metadata": {
    "pycharm": {
     "name": "#%%\n"
    },
    "scrolled": true
   },
   "outputs": [
    {
     "name": "stdout",
     "output_type": "stream",
     "text": [
      "Call for float\n",
      "8.0\n",
      "Call for integer\n",
      "15.5\n"
     ]
    }
   ],
   "source": [
    "# Использовать декоратор можно только для работы с первым аргументом.\n",
    "print(add(3.0, 5))\n",
    "print(add(15, 0.5))\n"
   ]
  }
 ],
 "metadata": {
  "kernelspec": {
   "display_name": "Python 3 (ipykernel)",
   "language": "python",
   "name": "python3"
  },
  "language_info": {
   "codemirror_mode": {
    "name": "ipython",
    "version": 3
   },
   "file_extension": ".py",
   "mimetype": "text/x-python",
   "name": "python",
   "nbconvert_exporter": "python",
   "pygments_lexer": "ipython3",
   "version": "3.8.10"
  }
 },
 "nbformat": 4,
 "nbformat_minor": 1
}
