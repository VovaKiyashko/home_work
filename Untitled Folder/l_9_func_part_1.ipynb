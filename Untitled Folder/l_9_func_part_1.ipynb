{
 "cells": [
  {
   "cell_type": "markdown",
   "metadata": {},
   "source": [
    "## Функции"
   ]
  },
  {
   "cell_type": "markdown",
   "metadata": {},
   "source": [
    "Астрактный пример из повседневной жизни - строительство частного дома.\n",
    "\n",
    "Последовательное описание работ:\n",
    "- Дизайнер слушает ваши пожелания.\n",
    "- Рисует план фундамента\n",
    "- Рисует план 1-го этажа\n",
    "- .....\n",
    "- Рисует крышу (проект готов)\n",
    "- Строители выкапывают котлован под фундамент\n",
    "- Устанавливают опалубку\n",
    "- ....\n",
    "- Заливают бетон (фундамент готов)\n",
    "- Укладывают кирпичи в стены 1-го этажа\n",
    "- .....\n",
    "- Укладывают плиты перекрытия чердака (коробка готова)\n",
    "- Устнавливают основные стропила крышы\n",
    "- .....\n",
    "- Укладывают черепицу (крыша готова)\n",
    "- Внутренние работы\n",
    "- Сантехника\n",
    "- Отопление\n",
    "- Малярные работы\n",
    "- .....\n"
   ]
  },
  {
   "cell_type": "markdown",
   "metadata": {},
   "source": [
    "Функции по видам работ:\n",
    "\n",
    "### 1. Функция по созданию проекта дома\n",
    "    - Дизайнер слушает ваши пожелания.\n",
    "    - Рисует план фундамента\n",
    "    - Рисует план 1-го этажа\n",
    "    - .....\n",
    "    - Рисует крышу\n",
    "    - Возвращает проект дома\n",
    "\n",
    "### 2. Функция строительства фундамента:\n",
    "    - Строители выкапывают котлован под фундамент\n",
    "    - Устанавливают опалубку\n",
    "    - ....\n",
    "    - Заливают бетон\n",
    "    - Возвращает положительный результат о готовности фундамента\n",
    "\n",
    "### 3. Функция возведения коробки дома:\n",
    "    - Укладывают кирпичи в стены 1-го этажа\n",
    "    - .....\n",
    "    - Укладывают плиты перекрытия чердака\n",
    "    - Возвращает положительный результат о готовности коробки\n",
    "\n",
    "### 4. Функция постройки крыши:\n",
    "    - Устнавливают основные стропила крышы\n",
    "    - .....\n",
    "    - Укладывают черепицу\n",
    "    - Возвращает положительный результат о готовности крыши\n",
    "\n",
    "### 5. Функция по сантехнике.\n",
    "\n",
    "### 6. Функция по отоплению\n",
    "\n",
    "и т.д."
   ]
  },
  {
   "cell_type": "markdown",
   "metadata": {},
   "source": [
    "Вы, как заказчик, являетесь основной функцией, которая управляет всеми этапами строительства.\n",
    "1. Основная функция, вызывает функцию по созданию проекта дома. В качестве параметров, передает ей ваши пожелания и деньги.\n",
    "\n",
    "2. Получив проекта дома, вызывает функцию для фундамента, передав в качестве аргументов проект дома и деньги.\n",
    "\n",
    "3. После готовности фундамента, вызывает функцию возведения стен. Передав в качестве аргументов проект дома и деньги.\n",
    "\n",
    "...\n",
    "\n",
    "и т.д."
   ]
  },
  {
   "cell_type": "markdown",
   "metadata": {},
   "source": [
    "### Создание функций"
   ]
  },
  {
   "cell_type": "code",
   "execution_count": null,
   "metadata": {},
   "outputs": [],
   "source": [
    "def fun():\n",
    "    pass\n",
    "    # ... # Ellipsis\n",
    "\n",
    "print(id(fun))\n",
    "print(type(fun))\n",
    "print(fun) # Адрес функции в шестнадцатиричном формате"
   ]
  },
  {
   "cell_type": "code",
   "execution_count": null,
   "metadata": {},
   "outputs": [],
   "source": [
    "def fun():\n",
    "    return 1\n",
    "\n",
    "print(fun()) # Вызов функции на выполенение\n",
    "print(id(fun)) # Адрес функции в десятичном формате\n"
   ]
  },
  {
   "cell_type": "code",
   "execution_count": null,
   "metadata": {},
   "outputs": [],
   "source": [
    "int('7f7138330d30', 16)"
   ]
  },
  {
   "cell_type": "code",
   "execution_count": null,
   "metadata": {},
   "outputs": [],
   "source": [
    "i = id(fun)\n",
    "print(hex(i))"
   ]
  },
  {
   "cell_type": "code",
   "execution_count": null,
   "metadata": {},
   "outputs": [],
   "source": [
    "b = fun\n",
    "print(b())\n",
    "print(b)"
   ]
  },
  {
   "cell_type": "code",
   "execution_count": null,
   "metadata": {},
   "outputs": [],
   "source": [
    "def calculate_summa(a, b):\n",
    "    c = b + a\n",
    "    return c\n",
    "\n",
    "d = calculate_summa(10, 20)\n",
    "print(d)"
   ]
  },
  {
   "cell_type": "code",
   "execution_count": null,
   "metadata": {},
   "outputs": [],
   "source": [
    "d = add(10, 10) # Функцию нельзя использовать до тех пор, пока вы ее не объявите\n",
    "print(d)\n",
    "\n",
    "def add(a, b):\n",
    "    c = a + b\n",
    "    return c"
   ]
  },
  {
   "cell_type": "code",
   "execution_count": null,
   "metadata": {},
   "outputs": [],
   "source": [
    "# оператор return не обязательный\n",
    "def add(a, b):\n",
    "    c = a + b\n",
    "    print(c)\n",
    "\n",
    "d = add(10, 10)\n"
   ]
  },
  {
   "cell_type": "code",
   "execution_count": null,
   "metadata": {
    "scrolled": true
   },
   "outputs": [],
   "source": [
    "print(d)\n"
   ]
  },
  {
   "cell_type": "code",
   "execution_count": null,
   "metadata": {},
   "outputs": [],
   "source": [
    "print(add(20, 10))"
   ]
  },
  {
   "cell_type": "code",
   "execution_count": null,
   "metadata": {},
   "outputs": [],
   "source": [
    "# Сколько значений может возвращать функция? Произвольное количество.\n",
    "def mul(a, b):\n",
    "    a *= 2\n",
    "    b *= 2\n",
    "    return a, b\n",
    "    print('Hi') #  Этот print никогда не выполнится\n",
    "\n",
    "\n",
    "a = mul(10, 20)\n",
    "print(a)\n",
    "x = 30\n",
    "y = 40\n",
    "a, b = mul(x, y)\n",
    "print(a, b)"
   ]
  },
  {
   "cell_type": "markdown",
   "metadata": {},
   "source": [
    "Параметры, которые использовались при описании функции, называются **формальными** параметрами.\n",
    "\n",
    "\n",
    "Параметры, которые были использованы при вызове функции, называются **фактическими** параметрами.\n",
    "\n",
    "\n",
    "Переменные, объявленные внутри функции, а также формальные параметры являются **локальными** для этой функции.\n",
    "\n",
    "\n",
    "Это означает, что за пределами функции к этим переменным обратиться нельзя.\n",
    "\n",
    "\n",
    "При вызове функции сначала проверяется соответствие количества фактических и формальных параметров. После этого формальные параметры присваиваются фактическими и управление передается в тело функции. Когда работа функции заканчивается, то управление возвращается в тело вызывающей программы."
   ]
  },
  {
   "cell_type": "code",
   "execution_count": null,
   "metadata": {},
   "outputs": [],
   "source": [
    "a, b = mul(1, 5, 8)\n",
    "print(a, b)"
   ]
  },
  {
   "cell_type": "code",
   "execution_count": null,
   "metadata": {},
   "outputs": [],
   "source": [
    "a, b = mul(1)"
   ]
  },
  {
   "cell_type": "markdown",
   "metadata": {},
   "source": [
    "1) Старайтесь описывать функции так, чтобы их длина не превышала 30-ти строк. В случае, когда тело функции превышает предел в 30-ть строк, лучшим решением будет разбиение этой функции на две и более функций с меньшей длиной.\n",
    "\n",
    "2) Старайтесь чтобы ваша функция выполняла только одно логически завершенное действие. Не нужно объединять несколько разных завершенных действий. Пусть одна функция считывает данные с клавиатуры, вторая ищет введенные данные в списке и т.д.\n",
    "\n",
    "3) Давайте функциям названия, которые бы максимально точно описывали те действия, которые данная функция совершает. Поскольку большинство фукнций - это некое действие, то неплохо, чтобы функция начаналась с глаголов - set, get, update ...\n"
   ]
  },
  {
   "cell_type": "markdown",
   "metadata": {},
   "source": [
    "### Локальные переменные функции"
   ]
  },
  {
   "cell_type": "code",
   "execution_count": null,
   "metadata": {},
   "outputs": [],
   "source": [
    "def calculate_summa(a, b):\n",
    "    summa = a + b # calculate_summa.summa\n",
    "    print(locals())\n",
    "    return summa\n",
    "\n",
    "summa = 10\n",
    "\n",
    "print(calculate_summa(4, 5))\n",
    "print(summa)\n",
    "# print(locals())"
   ]
  },
  {
   "cell_type": "code",
   "execution_count": null,
   "metadata": {},
   "outputs": [],
   "source": []
  },
  {
   "cell_type": "code",
   "execution_count": null,
   "metadata": {},
   "outputs": [],
   "source": [
    "# функция с параметрами неизменяемого типа данных\n",
    "\n",
    "def calculate_summa(a, b):\n",
    "    a = a + 3\n",
    "    summa = a + b\n",
    "    return summa\n",
    "\n",
    "a = 5\n",
    "b = 3\n",
    "\n",
    "print(calculate_summa(a, b))\n",
    "print(a)"
   ]
  },
  {
   "cell_type": "code",
   "execution_count": null,
   "metadata": {},
   "outputs": [],
   "source": [
    "# функция с параметрами изменяемого типа данных\n",
    "\n",
    "def calculate_summa(a):\n",
    "    a[0] = a[0] + 3\n",
    "    summa = 0\n",
    "    for element in a:\n",
    "        summa = summa + element\n",
    "    return summa\n",
    "\n",
    "a = [3, 5, 10]\n",
    "print(calculate_summa(a))\n",
    "print(a)"
   ]
  },
  {
   "cell_type": "code",
   "execution_count": null,
   "metadata": {},
   "outputs": [],
   "source": [
    "# функция с параметрами изменяемого типа данных. Имя переменной не имеет значение\n",
    "\n",
    "def calculate_summa(a):\n",
    "    a[0] = a[0] + 3\n",
    "    summa = 0\n",
    "    for element in a:\n",
    "        summa = summa + element\n",
    "    return summa\n",
    "\n",
    "b = [3, 5, 10]\n",
    "print(calculate_summa(b))\n",
    "print(b)"
   ]
  },
  {
   "cell_type": "code",
   "execution_count": null,
   "metadata": {},
   "outputs": [],
   "source": [
    "import copy\n",
    "\n",
    "def calculate_summa(tmp):\n",
    "    a = copy.deepcopy(tmp)\n",
    "    a[0] = a[0] + 3\n",
    "    summa = 0\n",
    "    for element in a:\n",
    "        summa = summa + element\n",
    "    return summa\n",
    "\n",
    "b = [3, 5, 10]\n",
    "print(calculate_summa(b))\n",
    "print(b)"
   ]
  },
  {
   "cell_type": "code",
   "execution_count": null,
   "metadata": {},
   "outputs": [],
   "source": [
    "a = [3, 5, 10]\n",
    "\n",
    "def mul():\n",
    "    summa = 0\n",
    "    for i in range(len(a)):\n",
    "        a[i] *= b # Доступ к значению переменной вне функции\n",
    "        summa = summa + a[i]\n",
    "    return summa\n",
    "\n",
    "b = 2\n",
    "print(mul())\n",
    "print(a)"
   ]
  },
  {
   "cell_type": "markdown",
   "metadata": {},
   "source": [
    "## Правило доступа к переменным LEGB\n",
    "**L** – Local. Включает в себя имена (идентификатор / переменные), указанные в функции (с использованием def или lambda), а не объявляются с помощью ключевого слова global.\n",
    "\n",
    "**E** – Enclosing. Включает в себя имя из локальной области видимости объемлющих функций  (например, с использованием def или lambda).\n",
    "\n",
    "**G** – Global. Включает в себя имена, работающих на верхнем уровне модуля или определенных с помощью ключевого слова global.\n",
    "\n",
    "**B** – Built-in . Встроенные встроенные функции, такие как print, input, open и т.д\n",
    "\n",
    "Согласно LEGB, для поиска имен в Python определен следующий порядок: **Local -> Enclosing-> Global -> Built-in**"
   ]
  },
  {
   "cell_type": "code",
   "execution_count": null,
   "metadata": {},
   "outputs": [],
   "source": [
    "pi = 'global'\n",
    "def inner():\n",
    "    pi = 'Local'\n",
    "    print(pi)\n",
    "\n",
    "inner()\n",
    "print(pi)"
   ]
  },
  {
   "cell_type": "code",
   "execution_count": null,
   "metadata": {},
   "outputs": [],
   "source": [
    "pi = 'global'\n",
    "def inner():\n",
    "    # pi = 'Local' Есть нюансы\n",
    "    print(pi)\n",
    "\n",
    "inner()\n",
    "print(pi)"
   ]
  },
  {
   "cell_type": "code",
   "execution_count": null,
   "metadata": {},
   "outputs": [],
   "source": [
    "# Enclosing\n",
    "pi = 'global'\n",
    "\n",
    "def outer():\n",
    "    pi = 'outer'\n",
    "    def inner():\n",
    "        # pi = 'Local'\n",
    "        print(pi)\n",
    "    inner()\n",
    "\n",
    "outer()\n",
    "print(pi)"
   ]
  },
  {
   "cell_type": "code",
   "execution_count": null,
   "metadata": {},
   "outputs": [],
   "source": [
    "def outer():\n",
    "    pi = 'outer'\n",
    "    def inner():\n",
    "        # pi = 'Local'\n",
    "        # nonlocal pi\n",
    "        pi = pi + 'OUT' # Менять переменную, которой нет в функции нельзя.\n",
    "        print(pi)\n",
    "    inner()\n",
    "\n",
    "outer()\n",
    "print(pi)"
   ]
  },
  {
   "cell_type": "code",
   "execution_count": null,
   "metadata": {},
   "outputs": [],
   "source": [
    "# Built-in\n",
    "from math import pi\n",
    "\n",
    "# pi = 'global'\n",
    "\n",
    "def outer():\n",
    "    # pi = 'outer'\n",
    "    def inner():\n",
    "        # pi = 'Local'\n",
    "        print(pi)\n",
    "    inner()\n",
    "\n",
    "outer()"
   ]
  },
  {
   "cell_type": "code",
   "execution_count": null,
   "metadata": {},
   "outputs": [],
   "source": [
    "# Built-in\n",
    "# from math import pi\n",
    "\n",
    "# pi = 'global'\n",
    "\n",
    "def inner():\n",
    "    # pi = 'Local'\n",
    "    print(pi)\n",
    "inner()\n",
    "\n"
   ]
  },
  {
   "cell_type": "code",
   "execution_count": null,
   "metadata": {},
   "outputs": [],
   "source": [
    "# No error\n",
    "\n",
    "pi = 5\n",
    "def inner():\n",
    "    a = 10 + pi\n",
    "    print(a)\n",
    "\n",
    "inner()\n"
   ]
  },
  {
   "cell_type": "code",
   "execution_count": null,
   "metadata": {
    "scrolled": true
   },
   "outputs": [],
   "source": [
    "pi = 5\n",
    "def inner():\n",
    "    a = 10 + pi\n",
    "    print(a)\n",
    "    pi += 10 # error\n",
    "    print(pi)\n",
    "\n",
    "inner()"
   ]
  },
  {
   "cell_type": "markdown",
   "metadata": {},
   "source": [
    "### *global*"
   ]
  },
  {
   "cell_type": "code",
   "execution_count": null,
   "metadata": {},
   "outputs": [],
   "source": [
    "\n",
    "def inner():\n",
    "    global pi\n",
    "    a = 60 + pi\n",
    "    pi += 10 # no error!\n",
    "    print(a)\n",
    "    print(pi)\n",
    "\n",
    "pi = 5\n",
    "inner()\n",
    "print(pi)"
   ]
  },
  {
   "cell_type": "markdown",
   "metadata": {
    "pycharm": {
     "name": "#%% md\n"
    }
   },
   "source": [
    "### Внимание!! Это хоть и существующая возможность, но применение global при написании функций, считается не самой удачной практикой. Поэтому используйте эту возможность только в случае, когда иных решений нет.\n"
   ]
  },
  {
   "cell_type": "markdown",
   "metadata": {},
   "source": [
    "## Продумать алгоритм решения задачи из доп. материалов (золотоискатель)\n"
   ]
  }
 ],
 "metadata": {
  "kernelspec": {
   "display_name": "Python 3 (ipykernel)",
   "language": "python",
   "name": "python3"
  },
  "language_info": {
   "codemirror_mode": {
    "name": "ipython",
    "version": 3
   },
   "file_extension": ".py",
   "mimetype": "text/x-python",
   "name": "python",
   "nbconvert_exporter": "python",
   "pygments_lexer": "ipython3",
   "version": "3.7.5"
  }
 },
 "nbformat": 4,
 "nbformat_minor": 2
}
