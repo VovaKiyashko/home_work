{
 "cells": [
  {
   "cell_type": "markdown",
   "metadata": {
    "collapsed": true,
    "pycharm": {
     "name": "#%% md\n"
    }
   },
   "source": [
    "## Управление полями класса. Дескрипторы."
   ]
  },
  {
   "cell_type": "markdown",
   "metadata": {},
   "source": [
    "Поля класса наиболее часто используемые элементы программ в Python. Поля используются для хранения\n",
    "состояния объекта. Поля обычно присоединяются сразу к объекту или наследуются от родительского класса.\n",
    "\n",
    "Обычно доступ к полям класса осуществляется через имя объекта простым обращением по имени поля через точечную нотацию. Однако в ряде\n",
    "случаев требуется более полный и тонкий контроль над процессами получения и изменения значения поля, или\n",
    "удаления поля целиком."
   ]
  },
  {
   "cell_type": "code",
   "execution_count": 1,
   "metadata": {
    "pycharm": {
     "name": "#%%\n"
    }
   },
   "outputs": [
    {
     "name": "stdout",
     "output_type": "stream",
     "text": [
      "black\n"
     ]
    }
   ],
   "source": [
    "class Cat:\n",
    "    def __init__(self, name, age, color):\n",
    "        self.name = name\n",
    "        self.age = age\n",
    "        self.color = color\n",
    "\n",
    "    def __str__(self):\n",
    "        msg = \"Cat [ name = {}, age = {}, color ={}]\"\n",
    "        return msg.format(self.name, self.age, self.color)\n",
    "\n",
    "cat = Cat('Barsik', 3, 'black')\n",
    "print(cat.color)\n"
   ]
  },
  {
   "cell_type": "code",
   "execution_count": 2,
   "metadata": {},
   "outputs": [
    {
     "name": "stdout",
     "output_type": "stream",
     "text": [
      "white\n"
     ]
    }
   ],
   "source": [
    "cat.color = 'white'\n",
    "print(cat.color)"
   ]
  },
  {
   "cell_type": "code",
   "execution_count": 4,
   "metadata": {
    "pycharm": {
     "name": "#%%\n"
    },
    "scrolled": true
   },
   "outputs": [
    {
     "name": "stdout",
     "output_type": "stream",
     "text": [
      "3\n"
     ]
    },
    {
     "ename": "AttributeError",
     "evalue": "'Cat' object has no attribute 'color'",
     "output_type": "error",
     "traceback": [
      "\u001b[0;31m---------------------------------------------------------------------------\u001b[0m",
      "\u001b[0;31mAttributeError\u001b[0m                            Traceback (most recent call last)",
      "\u001b[0;32m/tmp/ipykernel_4718/770763381.py\u001b[0m in \u001b[0;36m<module>\u001b[0;34m\u001b[0m\n\u001b[1;32m     11\u001b[0m \u001b[0mcat\u001b[0m \u001b[0;34m=\u001b[0m \u001b[0mCat\u001b[0m\u001b[0;34m(\u001b[0m\u001b[0;34m'Barsik'\u001b[0m\u001b[0;34m,\u001b[0m \u001b[0;36m3\u001b[0m\u001b[0;34m,\u001b[0m \u001b[0;34m'black'\u001b[0m\u001b[0;34m)\u001b[0m\u001b[0;34m\u001b[0m\u001b[0;34m\u001b[0m\u001b[0m\n\u001b[1;32m     12\u001b[0m \u001b[0mprint\u001b[0m\u001b[0;34m(\u001b[0m\u001b[0mcat\u001b[0m\u001b[0;34m.\u001b[0m\u001b[0m_age\u001b[0m\u001b[0;34m)\u001b[0m\u001b[0;34m\u001b[0m\u001b[0;34m\u001b[0m\u001b[0m\n\u001b[0;32m---> 13\u001b[0;31m \u001b[0mprint\u001b[0m\u001b[0;34m(\u001b[0m\u001b[0mcat\u001b[0m\u001b[0;34m.\u001b[0m\u001b[0mcolor\u001b[0m\u001b[0;34m)\u001b[0m \u001b[0;31m# AttributeError\u001b[0m\u001b[0;34m\u001b[0m\u001b[0;34m\u001b[0m\u001b[0m\n\u001b[0m\u001b[1;32m     14\u001b[0m \u001b[0;31m# print(cat.__color) # AttributeError\u001b[0m\u001b[0;34m\u001b[0m\u001b[0;34m\u001b[0m\u001b[0;34m\u001b[0m\u001b[0m\n",
      "\u001b[0;31mAttributeError\u001b[0m: 'Cat' object has no attribute 'color'"
     ]
    }
   ],
   "source": [
    "class Cat:\n",
    "    def __init__(self, name, age, color):\n",
    "        self.name = name\n",
    "        self._age = age\n",
    "        self.__color = color # почти Инкапсуляция\n",
    "\n",
    "    def __str__(self):\n",
    "        msg = \"Cat [ name = {}, age = {}, color ={}]\"\n",
    "        return msg.format(self.name, self._age, self.__color)\n",
    "\n",
    "cat = Cat('Barsik', 3, 'black')\n",
    "print(cat._age)\n",
    "print(cat.color) # AttributeError\n",
    "# print(cat.__color) # AttributeError"
   ]
  },
  {
   "cell_type": "code",
   "execution_count": 5,
   "metadata": {},
   "outputs": [
    {
     "name": "stdout",
     "output_type": "stream",
     "text": [
      "black\n"
     ]
    }
   ],
   "source": [
    "print(cat._Cat__color)"
   ]
  },
  {
   "cell_type": "code",
   "execution_count": 6,
   "metadata": {
    "pycharm": {
     "name": "#%%\n"
    }
   },
   "outputs": [
    {
     "name": "stdout",
     "output_type": "stream",
     "text": [
      "white\n",
      "3\n",
      "4\n",
      "Cat [ name = Barsik, age = 4, color =white]\n"
     ]
    }
   ],
   "source": [
    "\n",
    "cat._Cat__color = 'white'\n",
    "print(cat._Cat__color)\n",
    "print(cat._age)\n",
    "cat._age = 4\n",
    "print(cat._age)\n",
    "print(cat)"
   ]
  },
  {
   "cell_type": "markdown",
   "metadata": {},
   "source": [
    "В Python существует следующие способы управления доступа к полям класса:\n",
    "* Методы `__getattr__` , `__setattr__` , `__getattribute__` , `__delattr__`\n",
    "* Встроенная функция *property*\n",
    "* Протокол дескрипторов"
   ]
  },
  {
   "cell_type": "markdown",
   "metadata": {},
   "source": [
    "### Работа с методами `__getattribute__` , `__getattr__`, `__setattr__`  и `__delattr__`\n",
    "Метод `__getattribute__` - вызывается автоматически при попытке получть значение **определенного** или\n",
    "**неопределенного** (отсутствующего) поля класса.\n",
    "\n",
    "Метод `__getattr__` - вызывается автоматически при попытке получить значение **неопределенного** поля класса.\n",
    "\n",
    "Метод `__setattr__` - вызывается при попытке присвоить значение любому полю класса ( определенного и неопределенного)\n",
    "\n",
    "Метод `__delattr__` - вызывается при удалении поля."
   ]
  },
  {
   "cell_type": "markdown",
   "metadata": {},
   "source": [
    "### Как поля хранятся в объекте?\n",
    "Для хранения полей в объекте используются два способа:\n",
    "* Каждый объект обладает встроенным словарем с названием `__dict__` в котором и хранятся поля. Ключи этого словаря это\n",
    "строки с названием полей, а значения — значения полей. Позволяет добавление новых полей к объекту.\n",
    "* Можно использовать `__slots__` - поле класса, в котором поля также описываются в виде строк. По умолчанию отключает\n",
    "`__dict__` . Не позволяет добавлять к объекту поля, кроме указанных в `__slots__` . Это связанно с тем, что `__slots__`, по факту,\n",
    "это кортеж!"
   ]
  },
  {
   "cell_type": "code",
   "execution_count": 7,
   "metadata": {
    "pycharm": {
     "name": "#%%\n"
    }
   },
   "outputs": [
    {
     "name": "stdout",
     "output_type": "stream",
     "text": [
      "232\n",
      "64\n"
     ]
    }
   ],
   "source": [
    "from sys import  getsizeof\n",
    "dct = {'name':'Barsik', 'age': 3, 'color': 'black'}\n",
    "tpl = ('Barsik', 3, 'black')\n",
    "print(getsizeof(dct))\n",
    "print(getsizeof(tpl))"
   ]
  },
  {
   "cell_type": "code",
   "execution_count": 8,
   "metadata": {},
   "outputs": [
    {
     "name": "stdout",
     "output_type": "stream",
     "text": [
      "232\n"
     ]
    }
   ],
   "source": [
    "dct = {'name':'Barsik', 'age': 3, 'color': 'black', 1: 8, 3: 766}\n",
    "print(getsizeof(dct))"
   ]
  },
  {
   "cell_type": "code",
   "execution_count": 9,
   "metadata": {
    "pycharm": {
     "name": "#%%\n"
    }
   },
   "outputs": [
    {
     "name": "stdout",
     "output_type": "stream",
     "text": [
      "{'name': 'Barsik', 'age': 3, 'color': 'black'}\n"
     ]
    }
   ],
   "source": [
    "class Cat:\n",
    "    def __init__(self, name, age, color):\n",
    "        self.name = name\n",
    "        self.age = age\n",
    "        self.color = color\n",
    "\n",
    "    def __str__(self):\n",
    "        msg = \"Cat [ name = {}, age = {}, color ={}]\"\n",
    "        return msg.format(self.name, self.age, self.color)\n",
    "\n",
    "cat = Cat('Barsik', 3, 'black')\n",
    "print(cat.__dict__)\n"
   ]
  },
  {
   "cell_type": "code",
   "execution_count": 10,
   "metadata": {},
   "outputs": [
    {
     "name": "stdout",
     "output_type": "stream",
     "text": [
      "{'name': 'Barsik', 'age': 3, 'color': 'black', 'type': 'Home cat'}\n"
     ]
    }
   ],
   "source": [
    "cat.type = \"Home cat\"\n",
    "print(cat.__dict__)"
   ]
  },
  {
   "cell_type": "code",
   "execution_count": 11,
   "metadata": {
    "pycharm": {
     "name": "#%%\n"
    }
   },
   "outputs": [
    {
     "name": "stdout",
     "output_type": "stream",
     "text": [
      "('name', 'age', 'color')\n",
      "3\n"
     ]
    }
   ],
   "source": [
    "class Cat:\n",
    "    __slots__ = (\"name\", \"age\", \"color\")\n",
    "    def __init__(self, name, age, color):\n",
    "        self.name = name\n",
    "        self.age = age\n",
    "        self.color = color\n",
    "\n",
    "    def __str__(self):\n",
    "        msg = \"Cat [ name = {}, age = {}, color ={}]\"\n",
    "        return msg.format(self.name, self.age, self.color)\n",
    "\n",
    "cat = Cat('Barsik', 3, 'black')\n",
    "print(cat.__slots__)\n",
    "print(cat.age)"
   ]
  },
  {
   "cell_type": "code",
   "execution_count": 12,
   "metadata": {
    "pycharm": {
     "name": "#%%\n"
    }
   },
   "outputs": [
    {
     "ename": "AttributeError",
     "evalue": "'Cat' object has no attribute '__dict__'",
     "output_type": "error",
     "traceback": [
      "\u001b[0;31m---------------------------------------------------------------------------\u001b[0m",
      "\u001b[0;31mAttributeError\u001b[0m                            Traceback (most recent call last)",
      "\u001b[0;32m/tmp/ipykernel_4718/2730726284.py\u001b[0m in \u001b[0;36m<module>\u001b[0;34m\u001b[0m\n\u001b[0;32m----> 1\u001b[0;31m \u001b[0mprint\u001b[0m\u001b[0;34m(\u001b[0m\u001b[0mcat\u001b[0m\u001b[0;34m.\u001b[0m\u001b[0m__dict__\u001b[0m\u001b[0;34m)\u001b[0m \u001b[0;31m# AttributeError\u001b[0m\u001b[0;34m\u001b[0m\u001b[0;34m\u001b[0m\u001b[0m\n\u001b[0m",
      "\u001b[0;31mAttributeError\u001b[0m: 'Cat' object has no attribute '__dict__'"
     ]
    }
   ],
   "source": [
    "print(cat.__dict__) # AttributeError\n"
   ]
  },
  {
   "cell_type": "code",
   "execution_count": 13,
   "metadata": {},
   "outputs": [
    {
     "ename": "AttributeError",
     "evalue": "'Cat' object has no attribute 'type'",
     "output_type": "error",
     "traceback": [
      "\u001b[0;31m---------------------------------------------------------------------------\u001b[0m",
      "\u001b[0;31mAttributeError\u001b[0m                            Traceback (most recent call last)",
      "\u001b[0;32m/tmp/ipykernel_4718/3059950272.py\u001b[0m in \u001b[0;36m<module>\u001b[0;34m\u001b[0m\n\u001b[0;32m----> 1\u001b[0;31m \u001b[0mcat\u001b[0m\u001b[0;34m.\u001b[0m\u001b[0mtype\u001b[0m \u001b[0;34m=\u001b[0m \u001b[0;34m\"Home cat\"\u001b[0m\u001b[0;34m\u001b[0m\u001b[0;34m\u001b[0m\u001b[0m\n\u001b[0m",
      "\u001b[0;31mAttributeError\u001b[0m: 'Cat' object has no attribute 'type'"
     ]
    }
   ],
   "source": [
    "cat.type = \"Home cat\"\n"
   ]
  },
  {
   "cell_type": "markdown",
   "metadata": {},
   "source": [
    "### Существуют ли возможность одновременного использования `__slots__` и `__dict__` ?\n",
    "Да. Но это лишено смысла!!!\n",
    "\n",
    "`__slots__ = (\"name\", \"age\", \"color\", \"__dict__\")`"
   ]
  },
  {
   "cell_type": "markdown",
   "metadata": {
    "pycharm": {
     "name": "#%% md\n"
    }
   },
   "source": [
    "### Метод `__getattr__`\n",
    "Метод `__getattr__` - автоматически вызывается интерпретатором при попытке\n",
    "получить значение неопределенных полей класса. Т.е. полей которые отсутствуют\n",
    "в классе и не были прикреплены к объекту после его создания.\n",
    "Для определенных полей класса (т. е. те которые могут быть обнаружены интерпретатором в результате восходящего\n",
    "поиска) этот метод не вызывается.\n",
    "Синтаксис его реализации таков:\n",
    "\n",
    "`__getattr__ (self, attrname)`\n",
    "\n",
    "где: **self** — ссылка на объект для которого происходит обращение к неопределенному полю, а **attrname** — строка с\n",
    "названием поля."
   ]
  },
  {
   "cell_type": "code",
   "execution_count": 14,
   "metadata": {
    "pycharm": {
     "name": "#%%\n"
    }
   },
   "outputs": [
    {
     "ename": "AttributeError",
     "evalue": "'Cat' object has no attribute 'type'",
     "output_type": "error",
     "traceback": [
      "\u001b[0;31m---------------------------------------------------------------------------\u001b[0m",
      "\u001b[0;31mAttributeError\u001b[0m                            Traceback (most recent call last)",
      "\u001b[0;32m/tmp/ipykernel_4718/2458736092.py\u001b[0m in \u001b[0;36m<module>\u001b[0;34m\u001b[0m\n\u001b[1;32m     11\u001b[0m \u001b[0;34m\u001b[0m\u001b[0m\n\u001b[1;32m     12\u001b[0m \u001b[0mcat\u001b[0m \u001b[0;34m=\u001b[0m \u001b[0mCat\u001b[0m\u001b[0;34m(\u001b[0m\u001b[0;34m'Barsik'\u001b[0m\u001b[0;34m,\u001b[0m \u001b[0;36m3\u001b[0m\u001b[0;34m,\u001b[0m \u001b[0;34m'black'\u001b[0m\u001b[0;34m)\u001b[0m\u001b[0;34m\u001b[0m\u001b[0;34m\u001b[0m\u001b[0m\n\u001b[0;32m---> 13\u001b[0;31m \u001b[0mprint\u001b[0m\u001b[0;34m(\u001b[0m\u001b[0mcat\u001b[0m\u001b[0;34m.\u001b[0m\u001b[0mtype\u001b[0m\u001b[0;34m)\u001b[0m \u001b[0;31m# Обращение к неопределенному полю\u001b[0m\u001b[0;34m\u001b[0m\u001b[0;34m\u001b[0m\u001b[0m\n\u001b[0m\u001b[1;32m     14\u001b[0m \u001b[0mprint\u001b[0m\u001b[0;34m(\u001b[0m\u001b[0mcat\u001b[0m\u001b[0;34m.\u001b[0m\u001b[0mname\u001b[0m\u001b[0;34m)\u001b[0m\u001b[0;34m\u001b[0m\u001b[0;34m\u001b[0m\u001b[0m\n",
      "\u001b[0;31mAttributeError\u001b[0m: 'Cat' object has no attribute 'type'"
     ]
    }
   ],
   "source": [
    "class Cat:\n",
    "    def __init__(self, name, age, color):\n",
    "        self.name = name\n",
    "        self.age = age\n",
    "        self.color = color\n",
    "\n",
    "    def __str__(self):\n",
    "        msg = \"Cat [ name = {}, age = {}, color ={}]\"\n",
    "        return msg.format(self.name, self.age, self.color)\n",
    "\n",
    "\n",
    "cat = Cat('Barsik', 3, 'black')\n",
    "print(cat.type) # Обращение к неопределенному полю\n",
    "print(cat.name)"
   ]
  },
  {
   "cell_type": "code",
   "execution_count": 15,
   "metadata": {},
   "outputs": [
    {
     "name": "stdout",
     "output_type": "stream",
     "text": [
      "type\n",
      "11\n",
      "Barsik\n"
     ]
    }
   ],
   "source": [
    "class Cat:\n",
    "    def __init__(self, name, age, color):\n",
    "        self.name = name\n",
    "        self.age = age\n",
    "        self.color = color\n",
    "\n",
    "    def __str__(self):\n",
    "        msg = \"Cat [ name = {}, age = {}, color ={}]\"\n",
    "        return msg.format(self.name, self.age, self.color)\n",
    "\n",
    "    def __getattr__(self, atr_name):\n",
    "        print(atr_name)\n",
    "        return \"11\" # None\n",
    "\n",
    "cat = Cat('Barsik', 3, 'black')\n",
    "print(cat.type) # Обращение к неопределенному полю\n",
    "print(cat.name)"
   ]
  },
  {
   "cell_type": "markdown",
   "metadata": {},
   "source": [
    "### Функция `getattr(object, attribute)` — возвращает значение (объект) из объекта (класс, модуль), по заданному атрибуту."
   ]
  },
  {
   "cell_type": "code",
   "execution_count": 16,
   "metadata": {
    "pycharm": {
     "name": "#%%\n"
    }
   },
   "outputs": [
    {
     "data": {
      "text/plain": [
       "3"
      ]
     },
     "execution_count": 16,
     "metadata": {},
     "output_type": "execute_result"
    }
   ],
   "source": [
    "getattr(cat, 'age')\n"
   ]
  },
  {
   "cell_type": "code",
   "execution_count": 17,
   "metadata": {
    "pycharm": {
     "name": "#%%\n"
    }
   },
   "outputs": [
    {
     "name": "stdout",
     "output_type": "stream",
     "text": [
      "type\n"
     ]
    },
    {
     "data": {
      "text/plain": [
       "'11'"
      ]
     },
     "execution_count": 17,
     "metadata": {},
     "output_type": "execute_result"
    }
   ],
   "source": [
    "getattr(cat, 'type')\n"
   ]
  },
  {
   "cell_type": "code",
   "execution_count": 18,
   "metadata": {},
   "outputs": [
    {
     "name": "stdout",
     "output_type": "stream",
     "text": [
      "x\n"
     ]
    },
    {
     "data": {
      "text/plain": [
       "'11'"
      ]
     },
     "execution_count": 18,
     "metadata": {},
     "output_type": "execute_result"
    }
   ],
   "source": [
    "getattr(cat, 'x')"
   ]
  },
  {
   "cell_type": "code",
   "execution_count": 19,
   "metadata": {
    "pycharm": {
     "name": "#%%\n"
    }
   },
   "outputs": [
    {
     "name": "stdout",
     "output_type": "stream",
     "text": [
      "3.141592653589793\n"
     ]
    }
   ],
   "source": [
    "import math\n",
    "PI = getattr(math, 'pi')\n",
    "print(PI)"
   ]
  },
  {
   "cell_type": "code",
   "execution_count": 20,
   "metadata": {},
   "outputs": [
    {
     "name": "stdout",
     "output_type": "stream",
     "text": [
      "3\n",
      "Barsik\n",
      "black\n"
     ]
    }
   ],
   "source": [
    "fields = ['age', 'name', 'color']\n",
    "for field in fields:\n",
    "    print(getattr(cat, field))"
   ]
  },
  {
   "cell_type": "code",
   "execution_count": 22,
   "metadata": {
    "scrolled": true
   },
   "outputs": [
    {
     "data": {
      "text/plain": [
       "False"
      ]
     },
     "execution_count": 22,
     "metadata": {},
     "output_type": "execute_result"
    }
   ],
   "source": [
    "hasattr(math, 'okras')"
   ]
  },
  {
   "cell_type": "code",
   "execution_count": 23,
   "metadata": {},
   "outputs": [
    {
     "data": {
      "text/plain": [
       "True"
      ]
     },
     "execution_count": 23,
     "metadata": {},
     "output_type": "execute_result"
    }
   ],
   "source": [
    "hasattr(math, 'pow')"
   ]
  },
  {
   "cell_type": "code",
   "execution_count": 21,
   "metadata": {},
   "outputs": [
    {
     "ename": "AttributeError",
     "evalue": "module 'math' has no attribute 'piii'",
     "output_type": "error",
     "traceback": [
      "\u001b[0;31m---------------------------------------------------------------------------\u001b[0m",
      "\u001b[0;31mAttributeError\u001b[0m                            Traceback (most recent call last)",
      "\u001b[0;32m/tmp/ipykernel_4718/55465656.py\u001b[0m in \u001b[0;36m<module>\u001b[0;34m\u001b[0m\n\u001b[0;32m----> 1\u001b[0;31m \u001b[0mgetattr\u001b[0m\u001b[0;34m(\u001b[0m\u001b[0mmath\u001b[0m\u001b[0;34m,\u001b[0m \u001b[0;34m'piii'\u001b[0m\u001b[0;34m)\u001b[0m\u001b[0;34m\u001b[0m\u001b[0;34m\u001b[0m\u001b[0m\n\u001b[0m",
      "\u001b[0;31mAttributeError\u001b[0m: module 'math' has no attribute 'piii'"
     ]
    }
   ],
   "source": [
    "getattr(math, 'piii')\n"
   ]
  },
  {
   "cell_type": "markdown",
   "metadata": {},
   "source": [
    "### Использование метода `__getattribute__`\n",
    "Метод должен вернуть вычисленное значение для указанного атрибута, либо поднять исключение **AttributeError**.\n",
    "Метод `__getattribute__`  автоматически вызывается интерпретатором при получении значения любого поля. Из за\n",
    "этого работать с таким методом особенно сложно, так как велик риск попадания в бесконечный рекурсивный вызов. Это\n",
    "происходит потому, что попытка обращения из этого метода к любому из полей (даже к `__dict__` ) приводит к его повторному\n",
    "вызову."
   ]
  },
  {
   "cell_type": "code",
   "execution_count": null,
   "metadata": {
    "pycharm": {
     "name": "#%%\n"
    }
   },
   "outputs": [],
   "source": [
    "# KeyError никогда не сработает, потому что self.__dict__[attr]\n",
    "# вызовет  __getattribute__(self, attr) и это приведет к зацикливанию\n",
    "class Foo(object):\n",
    "    def __init__(self, a):\n",
    "        self.a = 1\n",
    "    # Вызывается для поиска всех атрибутов\n",
    "    def __getattribute__(self, attr):\n",
    "        try:\n",
    "            return self.__dict__[attr] # Попытка получить значение по ключу\n",
    "        except KeyError:\n",
    "            return 'default'"
   ]
  },
  {
   "cell_type": "markdown",
   "metadata": {},
   "source": [
    "Чтобы избежать в методе бесконечной рекурсии, вместо прямого доступа к своим\n",
    "атрибутам он должен обратиться к одноимённому методу базового класса, например: `object.__getattribute__(self, name)`."
   ]
  },
  {
   "cell_type": "code",
   "execution_count": 24,
   "metadata": {
    "pycharm": {
     "name": "#%%\n"
    }
   },
   "outputs": [
    {
     "name": "stdout",
     "output_type": "stream",
     "text": [
      "Home Cat\n",
      "Barsik\n",
      "okras\n",
      "None\n"
     ]
    }
   ],
   "source": [
    "class Cat:\n",
    "    def __init__(self, name, age, color):\n",
    "        self.name = name\n",
    "        self.age = age\n",
    "        self.color = color\n",
    "\n",
    "    def __str__(self):\n",
    "        msg = \"Cat [ name = {}, age = {}, color ={}]\"\n",
    "        return msg.format(self.name, self.age, self.color)\n",
    "\n",
    "    def __getattribute__(self, atr_name):\n",
    "        try:\n",
    "            return object.__getattribute__(self, atr_name)\n",
    "        except AttributeError:\n",
    "            if atr_name == \"type\":\n",
    "                return \"Home Cat\"\n",
    "            print(atr_name)\n",
    "            return None\n",
    "\n",
    "cat = Cat('Barsik', 3, 'black')\n",
    "print(cat.type) # Обращение к неопределенному полю\n",
    "print(cat.name)\n",
    "print(cat.okras)"
   ]
  },
  {
   "cell_type": "markdown",
   "metadata": {},
   "source": [
    "Если кроме этого метода для класса также определён `__getattr__`, то он будет вызван в двух случаях:\n",
    "* Если `__getattribute__` поднимет исключение **AttributeError**;\n",
    "* Если `__getattribute__` вызовет его явно."
   ]
  },
  {
   "cell_type": "code",
   "execution_count": 25,
   "metadata": {
    "pycharm": {
     "name": "#%%\n"
    }
   },
   "outputs": [
    {
     "name": "stdout",
     "output_type": "stream",
     "text": [
      "OK\n",
      "Home Cat\n",
      "Barsik\n"
     ]
    }
   ],
   "source": [
    "class Cat:\n",
    "    def __init__(self, name, age, color):\n",
    "        self.name = name\n",
    "        self.age = age\n",
    "        self.color = color\n",
    "\n",
    "    def __str__(self):\n",
    "        msg = \"Cat [ name = {}, age = {}, color ={}]\"\n",
    "        return msg.format(self.name, self.age, self.color)\n",
    "\n",
    "    def __getattr__(self, atr_name):\n",
    "        if atr_name == \"type\":\n",
    "                return \"Home Cat\"\n",
    "        print(atr_name)\n",
    "        return \"11\"\n",
    "\n",
    "    def __getattribute__(self, atr_name):\n",
    "        if atr_name == 'type':\n",
    "            print(\"OK\")\n",
    "        return object.__getattribute__(self, atr_name)\n",
    "\n",
    "cat = Cat('Barsik', 3, 'black')\n",
    "print(cat.type) # Обращение к неопределенному полю\n",
    "print(cat.name)\n"
   ]
  },
  {
   "cell_type": "code",
   "execution_count": 26,
   "metadata": {},
   "outputs": [
    {
     "name": "stdout",
     "output_type": "stream",
     "text": [
      "x\n"
     ]
    },
    {
     "data": {
      "text/plain": [
       "'11'"
      ]
     },
     "execution_count": 26,
     "metadata": {},
     "output_type": "execute_result"
    }
   ],
   "source": [
    "cat.x"
   ]
  },
  {
   "cell_type": "markdown",
   "metadata": {},
   "source": [
    "### Метод по установке значений поля `__setattr__`\n",
    "Метод `__setattr__` автоматически вызывается интерпретатором при установке значения любого поля. Работа\n",
    "с таким методом также может быть проблематичной потому, что этот метод вызывается при попытке установки любого\n",
    "поля. Как и в случае с методом `__getattribute__`, это может привести к бесконечному рекурсивному вызову.\n",
    "Однако, эта проблема, решается намного проще - достаточно выполнить запись в уже существующее поле\n",
    "`__dict__`\n",
    "\n",
    "Примечательным фактом является то, что этот метод вызывается даже при работе\n",
    "конструктора (метод `__init__` ). Таким образом этот метод вызывается и при\n",
    "инициализации объекта и при попытке присвоения значения любому полю."
   ]
  },
  {
   "cell_type": "code",
   "execution_count": 27,
   "metadata": {
    "pycharm": {
     "name": "#%%\n"
    }
   },
   "outputs": [
    {
     "name": "stdout",
     "output_type": "stream",
     "text": [
      "set field ->  name\n",
      "set field ->  age\n",
      "set field ->  color\n",
      "set field ->  type\n",
      "Devil\n"
     ]
    }
   ],
   "source": [
    "class Cat:\n",
    "    def __init__(self, name, age, color):\n",
    "        self.name = name\n",
    "        self.age = age\n",
    "        self.color = color\n",
    "\n",
    "    def __str__(self):\n",
    "        msg = \"Cat [ name = {}, age = {}, color ={}]\"\n",
    "        return msg.format(self.name, self.age, self.color)\n",
    "\n",
    "    def __getattr__(self, atr_name):\n",
    "        if atr_name == \"type\":\n",
    "                return \"Home Cat\"\n",
    "        print(atr_name)\n",
    "        return \"11\"\n",
    "\n",
    "    def __getattribute__(self, atr_name):\n",
    "        return object.__getattribute__(self, atr_name)\n",
    "\n",
    "    def __setattr__(self, attr_name, attr_value):\n",
    "        print(\"set field -> \", attr_name)\n",
    "        # self.attr_name = attr_value Бесконечная рекурсия,\n",
    "        # попытка установить значение для поля,\n",
    "        # снова вызовет __setattr__(self, attr_name, attr_value)\n",
    "        self.__dict__[attr_name] = attr_value\n",
    "\n",
    "cat = Cat('Barsik', 3, 'black')\n",
    "cat.type =  \"Devil\"\n",
    "print(cat.type)"
   ]
  },
  {
   "cell_type": "code",
   "execution_count": 28,
   "metadata": {},
   "outputs": [],
   "source": [
    "setattr(math, 'piii', 1254)"
   ]
  },
  {
   "cell_type": "code",
   "execution_count": 29,
   "metadata": {
    "scrolled": true
   },
   "outputs": [
    {
     "data": {
      "text/plain": [
       "1254"
      ]
     },
     "execution_count": 29,
     "metadata": {},
     "output_type": "execute_result"
    }
   ],
   "source": [
    "math.piii"
   ]
  },
  {
   "cell_type": "code",
   "execution_count": 33,
   "metadata": {},
   "outputs": [
    {
     "name": "stdout",
     "output_type": "stream",
     "text": [
      "set field ->  name\n"
     ]
    }
   ],
   "source": [
    "cat.name = 'Bob'"
   ]
  },
  {
   "cell_type": "code",
   "execution_count": 30,
   "metadata": {},
   "outputs": [
    {
     "name": "stdout",
     "output_type": "stream",
     "text": [
      "Barsik\n",
      "3\n"
     ]
    }
   ],
   "source": [
    "dct = {'name': \"Voland\", \"age\": 45}\n",
    "for key in dct:\n",
    "    print(getattr(cat, key))"
   ]
  },
  {
   "cell_type": "code",
   "execution_count": 31,
   "metadata": {
    "scrolled": true
   },
   "outputs": [
    {
     "name": "stdout",
     "output_type": "stream",
     "text": [
      "set field ->  name\n",
      "None\n",
      "set field ->  age\n",
      "None\n"
     ]
    }
   ],
   "source": [
    "for key, val in dct.items():\n",
    "    print(setattr(cat, key, val))"
   ]
  },
  {
   "cell_type": "code",
   "execution_count": 32,
   "metadata": {},
   "outputs": [
    {
     "name": "stdout",
     "output_type": "stream",
     "text": [
      "Cat [ name = Voland, age = 45, color =black]\n"
     ]
    }
   ],
   "source": [
    "print(cat)"
   ]
  },
  {
   "cell_type": "markdown",
   "metadata": {},
   "source": [
    "### Метод `__delattr__`\n",
    "Метод `__delattr__` вызывается в случае попытки удаления любого поля. Как и в\n",
    "случае метода `__setattr__` нужно принять меры по предотвращению бесконечного\n",
    "рекурсивного вызова. Это можно реализовать или с помощью делегирования этой\n",
    "операции суперклассу, или используя напрямую словарь    `__dict__` .\n",
    "Сигнатура метода `__delattr__` такова:\n",
    "\n",
    "`__delattr__ (self, attr_name)`\n",
    "\n",
    "**self** — ссылка на объект\n",
    "\n",
    "**attr_name** — имя поля в виде строки"
   ]
  },
  {
   "cell_type": "code",
   "execution_count": 34,
   "metadata": {
    "pycharm": {
     "name": "#%%\n"
    }
   },
   "outputs": [
    {
     "name": "stdout",
     "output_type": "stream",
     "text": [
      "set field ->  name\n",
      "set field ->  age\n",
      "set field ->  color\n",
      "set field ->  type\n",
      "remove field  type\n"
     ]
    }
   ],
   "source": [
    "class Cat:\n",
    "    def __init__(self, name, age, color):\n",
    "        self.name = name\n",
    "        self.age = age\n",
    "        self.color = color\n",
    "\n",
    "    def __str__(self):\n",
    "        msg = \"Cat [ name = {}, age = {}, color ={}]\"\n",
    "        return msg.format(self.name, self.age, self.color)\n",
    "\n",
    "    def __getattr__(self, atr_name):\n",
    "        if atr_name == \"type\":\n",
    "                return \"Home Cat\"\n",
    "        print(atr_name)\n",
    "        return \"11\"\n",
    "\n",
    "    def __getattribute__(self, atr_name):\n",
    "        return object.__getattribute__(self, atr_name)\n",
    "\n",
    "    def __setattr__(self, attr_name, attr_value):\n",
    "        print(\"set field -> \", attr_name)\n",
    "        self.__dict__[attr_name] = attr_value\n",
    "\n",
    "    def __delattr__(self, attr_name):\n",
    "        print(\"remove field \", attr_name)\n",
    "        del self.__dict__[attr_name]\n",
    "\n",
    "cat = Cat('Barsik', 3, 'black')\n",
    "cat.type =  \"Devil\"\n",
    "del cat.type"
   ]
  },
  {
   "cell_type": "markdown",
   "metadata": {},
   "source": [
    "**Методы получения значений также вызываются и при обращении к пользовательским методам.**"
   ]
  },
  {
   "cell_type": "markdown",
   "metadata": {},
   "source": [
    "### Свойства property\n",
    "Вышеописанные методы позволяют управлять общим доступом к полям класса. Т.е. они вызываются при обращении к любому полю. Если же нужно\n",
    "управлять доступом к каждому полю индивидуально для этого может использоваться протокол свойств.\n",
    "\n",
    "**Протокол свойств** позволяет направлять операции чтения и записи для отдельных полей пользовательским функциям и методам, что позволяет\n",
    "добавлять программный код, который будет вызываться автоматически при попытках обращения к полю.\n",
    "\n",
    "С точки зрения информатики свойство - способ доступа к внутреннему состоянию объекта, имитирующий переменную некоторого типа. Обращение\n",
    "к свойству объекта выглядит так же, как и обращение к обычному полю , но в действительности, реализовано через вызов функции. При попытке задать\n",
    "значение данного свойства вызывается один метод, а при попытке получить значение данного свойства — другой.\n",
    "\n",
    "В Python свойства создаются с помощью встроенной функции **property** и присваиваются атрибутам классов, точно так же, как выполняется\n",
    "присваивание функций методам."
   ]
  },
  {
   "cell_type": "markdown",
   "metadata": {},
   "source": [
    "**Встроенная функция property**\n",
    "\n",
    "Свойство создается путем присваивания полю класса результата возвращаемого встроенной функцией property.\n",
    "Сигнатура этой функции такова:\n",
    "\n",
    "**property(f_get, f_set, f_del, doc)**\n",
    "\n",
    "* f_get — функция или метод вызываемая при чтения значения поля\n",
    "* f_set — функция или метод вызываемая при установке значения поля\n",
    "* f_del — функция или метод вызываемая при удалении поля\n",
    "* doc — строка документирования с описанием поля\n",
    "\n",
    "Все эти параметры могут быть опущены и по умолчанию равны **None**."
   ]
  },
  {
   "cell_type": "code",
   "execution_count": 35,
   "metadata": {
    "pycharm": {
     "name": "#%%\n"
    }
   },
   "outputs": [],
   "source": [
    "class Cat:\n",
    "    def __init__(self, _name, age):\n",
    "        self.__name = _name\n",
    "        self.age = age\n",
    "\n",
    "    def get_name(self): # Метод для чтения\n",
    "        print(\"call get name\")\n",
    "        return self.__name\n",
    "\n",
    "    def set_name(self, name_value): #  Метод для записи\n",
    "        print(\"call set name\")\n",
    "        self.__name = name_value\n",
    "\n",
    "    def del_name(self): # Метод для удаления\n",
    "        print(\"call remove name\")\n",
    "        del self.__name\n",
    "\n",
    "    # Создание свойства name\n",
    "    name = property(get_name, set_name, del_name, \" Cat name\")\n",
    "\n",
    "    def __str__(self):\n",
    "        msg = \"Cat [ name = {}, age = {}]\"\n",
    "        return msg.format(self.name, self.age)"
   ]
  },
  {
   "cell_type": "code",
   "execution_count": 36,
   "metadata": {
    "pycharm": {
     "name": "#%%\n"
    }
   },
   "outputs": [
    {
     "name": "stdout",
     "output_type": "stream",
     "text": [
      "call set name\n",
      "call get name\n",
      "Barsic\n",
      "call get name\n",
      "Cat [ name = Barsic, age = 6]\n"
     ]
    }
   ],
   "source": [
    "cat1 = Cat(\"Vaska\", 6)\n",
    "cat1.name = \"Barsic\"\n",
    "print(cat1.name)\n",
    "print(cat1)"
   ]
  },
  {
   "cell_type": "markdown",
   "metadata": {},
   "source": [
    "### Определение свойств с помощью декораторов\n",
    "Функция **property** может принимать только один первый аргумент\n",
    "(остальные по умолчанию None) и возвращать свойство. Свойство в свою\n",
    "очередь является вызываемым объектом, так как при обращении к нему\n",
    "вызываются функции. Это означает что функцию **property** можно\n",
    "использовать как декоратор для определения функции получения значения поля.\n",
    "В свою очередь объекты свойств обладают методами `getter, setter,\n",
    "deleter`. Которые в свою очередь возвращают также свойство прибавив к\n",
    "нему методы доступа.\n",
    "Как следствие эти методы также можно использовать в качестве декораторов.\n",
    "* getter — получение значения поля\n",
    "* setter — установка значения поля\n",
    "* deleter — удаление поля\n",
    "\n",
    "Внимание! Важно что бы все методы к которым вы хотите применить вышеперечисленные декораторы носили имя свойства."
   ]
  },
  {
   "cell_type": "code",
   "execution_count": 37,
   "metadata": {
    "pycharm": {
     "name": "#%%\n"
    }
   },
   "outputs": [],
   "source": [
    "class Cat:\n",
    "    def __init__(self, _name, age):\n",
    "        self.__name = _name\n",
    "        self.age = age\n",
    "\n",
    "    name = property() # Создание свойства name без методов контроля\n",
    "\n",
    "    @name.getter\n",
    "    def name(self):\n",
    "        print(\"call get name\")\n",
    "        return self.__name\n",
    "\n",
    "    @name.setter\n",
    "    def name(self, name_value):\n",
    "        print(\"call set name\")\n",
    "        self.__name = name_value\n",
    "\n",
    "    @name.deleter\n",
    "    def name(self):\n",
    "        print(\"call remove name\")\n",
    "        del self.__name"
   ]
  },
  {
   "cell_type": "code",
   "execution_count": 38,
   "metadata": {
    "pycharm": {
     "name": "#%%\n"
    }
   },
   "outputs": [
    {
     "name": "stdout",
     "output_type": "stream",
     "text": [
      "call get name\n",
      "Barsik\n",
      "call set name\n",
      "call remove name\n"
     ]
    }
   ],
   "source": [
    "cat = Cat('Barsik', 3)\n",
    "print(cat.name )\n",
    "cat.name =  \"Devil\"\n",
    "del cat.name"
   ]
  },
  {
   "cell_type": "code",
   "execution_count": 39,
   "metadata": {
    "pycharm": {
     "name": "#%%\n"
    }
   },
   "outputs": [],
   "source": [
    "\n",
    "class Cat:\n",
    "    def __init__(self, _name, age):\n",
    "        self.__name = _name\n",
    "        self.age = age\n",
    "\n",
    "    @property\n",
    "    def name(self):\n",
    "        return self.__name\n",
    "    \n",
    "    # @name.setter\n",
    "    # def name(self, value):\n",
    "        # self.__name = value"
   ]
  },
  {
   "cell_type": "code",
   "execution_count": 40,
   "metadata": {
    "pycharm": {
     "name": "#%%\n"
    }
   },
   "outputs": [
    {
     "name": "stdout",
     "output_type": "stream",
     "text": [
      "Barsik\n"
     ]
    },
    {
     "ename": "AttributeError",
     "evalue": "can't set attribute",
     "output_type": "error",
     "traceback": [
      "\u001b[0;31m---------------------------------------------------------------------------\u001b[0m",
      "\u001b[0;31mAttributeError\u001b[0m                            Traceback (most recent call last)",
      "\u001b[0;32m/tmp/ipykernel_4718/3270032117.py\u001b[0m in \u001b[0;36m<module>\u001b[0;34m\u001b[0m\n\u001b[1;32m      1\u001b[0m \u001b[0mcat\u001b[0m \u001b[0;34m=\u001b[0m \u001b[0mCat\u001b[0m\u001b[0;34m(\u001b[0m\u001b[0;34m'Barsik'\u001b[0m\u001b[0;34m,\u001b[0m \u001b[0;36m3\u001b[0m\u001b[0;34m)\u001b[0m\u001b[0;34m\u001b[0m\u001b[0;34m\u001b[0m\u001b[0m\n\u001b[1;32m      2\u001b[0m \u001b[0mprint\u001b[0m\u001b[0;34m(\u001b[0m\u001b[0mcat\u001b[0m\u001b[0;34m.\u001b[0m\u001b[0mname\u001b[0m \u001b[0;34m)\u001b[0m\u001b[0;34m\u001b[0m\u001b[0;34m\u001b[0m\u001b[0m\n\u001b[0;32m----> 3\u001b[0;31m \u001b[0mcat\u001b[0m\u001b[0;34m.\u001b[0m\u001b[0mname\u001b[0m \u001b[0;34m=\u001b[0m  \u001b[0;34m\"Devil\"\u001b[0m \u001b[0;31m# AttributeError: can't set attribute\u001b[0m\u001b[0;34m\u001b[0m\u001b[0;34m\u001b[0m\u001b[0m\n\u001b[0m",
      "\u001b[0;31mAttributeError\u001b[0m: can't set attribute"
     ]
    }
   ],
   "source": [
    "cat = Cat('Barsik', 3)\n",
    "print(cat.name )\n",
    "cat.name =  \"Devil\" # AttributeError: can't set attribute"
   ]
  },
  {
   "cell_type": "code",
   "execution_count": 41,
   "metadata": {
    "pycharm": {
     "name": "#%%\n"
    }
   },
   "outputs": [
    {
     "ename": "AttributeError",
     "evalue": "can't delete attribute",
     "output_type": "error",
     "traceback": [
      "\u001b[0;31m---------------------------------------------------------------------------\u001b[0m",
      "\u001b[0;31mAttributeError\u001b[0m                            Traceback (most recent call last)",
      "\u001b[0;32m/tmp/ipykernel_4718/1282975029.py\u001b[0m in \u001b[0;36m<module>\u001b[0;34m\u001b[0m\n\u001b[0;32m----> 1\u001b[0;31m \u001b[0;32mdel\u001b[0m \u001b[0mcat\u001b[0m\u001b[0;34m.\u001b[0m\u001b[0mname\u001b[0m \u001b[0;31m# AttributeError: can't delete attribute\u001b[0m\u001b[0;34m\u001b[0m\u001b[0;34m\u001b[0m\u001b[0m\n\u001b[0m",
      "\u001b[0;31mAttributeError\u001b[0m: can't delete attribute"
     ]
    }
   ],
   "source": [
    "del cat.name # AttributeError: can't delete attribute"
   ]
  },
  {
   "cell_type": "code",
   "execution_count": 44,
   "metadata": {
    "pycharm": {
     "name": "#%%\n"
    }
   },
   "outputs": [
    {
     "name": "stdout",
     "output_type": "stream",
     "text": [
      "Лихачёв Бенедикт Дамирович\n",
      "Лихачёв Б.Д.\n",
      "Лихачёв\n"
     ]
    }
   ],
   "source": [
    "# Упрощенный вариант применения property\n",
    "class Human:\n",
    "\n",
    "    def __init__(self, last_name, first_name, patronymic, gender, age, height, weight):\n",
    "        self.last_name = last_name\n",
    "        self.first_name = first_name\n",
    "        self.patronymic = patronymic\n",
    "        self.gender = gender\n",
    "        self.age = age\n",
    "        self.height = height\n",
    "        self.weight = weight\n",
    "\n",
    "    def show_inform(self):\n",
    "        full_name = f'Full Name: {self.full_name()}\\n'\n",
    "        gender_age = f'Gender: {self.gender}\\nAge: {self.age}\\n'\n",
    "        height_weight = f'Height: {self.height} cm\\nWeight: {self.weight} kg'\n",
    "        all_info = full_name + gender_age + height_weight\n",
    "        return all_info\n",
    "\n",
    "    @property\n",
    "    def full_name(self):\n",
    "        return f'{self.last_name} {self.first_name} {self.patronymic}'\n",
    "\n",
    "#     @property\n",
    "    def short_full_name(self):\n",
    "        return f'{self.last_name} {self.first_name[0].title()}.{self.patronymic[0].title()}.'\n",
    "\n",
    "h = Human('Лихачёв', 'Бенедикт', 'Дамирович', 'male', 25, 185, 91)\n",
    "\n",
    "print(h.full_name)\n",
    "print(h.short_full_name())\n",
    "print(h.last_name)"
   ]
  },
  {
   "cell_type": "markdown",
   "metadata": {},
   "source": [
    "## Дескрипторы"
   ]
  },
  {
   "cell_type": "markdown",
   "metadata": {},
   "source": [
    "Дескрипторы — обеспечивают альтернативный вариант управления полями. И хотя похожий механизм предоставляют свойства, дескрипторы\n",
    "способны предоставить более богатый функционал. С технической точки зрения свойства являются частным случаем дескрипторов. Функция **property**\n",
    "— просто упрощает процесс создания дескриптора определенного типа.\n",
    "\n",
    "Дескрипторы способны передать выполнение операций получения и установки значений отдельным методам объектов специально созданных для\n",
    "этого классов. Дескрипторы создаются как отдельные классы. Объекты этих классов и присваиваются при создании управляемых полей классов. Это\n",
    "имеет определенное преимущество, так как объекты классов дескрипторов способны хранить значения, которых нет в классах, в которых они будут\n",
    "использованы. Однако это же добавляет наиболее сложный аспект при их использовании, необходимость передачи ссылки на объект который\n",
    "использует дескрипторы и ссылки на сам объект дескриптора."
   ]
  },
  {
   "cell_type": "markdown",
   "metadata": {},
   "source": [
    "### Создание дескриптора\n",
    "Для создания дескриптора нужно создать класс в котором будут реализованы следующие методы:\n",
    "* Для получение значения `__get__(self, instance_self, instance_class)`\n",
    "*self* — ссылка на объект дескриптора\n",
    "*instance_self* — ссылка на объект который использует поля управляемые\n",
    "дескриптором\n",
    "*instance_class* — класс к которому прикреплено поле управляемое\n",
    "дескриптором\n",
    "* Для установки значения `__set__(self, instance_self, value)`\n",
    "*value* — новое значение\n",
    "* Для удаления `__delete__(self, instance_self)`\n",
    "\n",
    "Любой класс где реализованы эти методы является дескриптором.\n",
    "\n",
    "В случае отсутствия реализации того или иного метода, эта операция просто не будет поддерживаться."
   ]
  },
  {
   "cell_type": "markdown",
   "metadata": {},
   "source": [
    "### О реализации метода __get__ дескриптора\n",
    "Метод `__get__` принимает следующий ряд параметров  `__get__(self, instance_self, instance_class)`\n",
    "\n",
    "* **self** — ссылка на объект дескриптора\n",
    "* **instance_self** — ссылка на объект который использует поля управляемые дескриптором. Если к полю выполнено обращение через имя класса, то этот параметр равен None\n",
    "* **instance_class** — класс к которому прикреплено поле управляемое дескриптором"
   ]
  },
  {
   "cell_type": "code",
   "execution_count": null,
   "metadata": {
    "pycharm": {
     "name": "#%%\n"
    }
   },
   "outputs": [],
   "source": [
    "class MyDescriptor:\n",
    "    def __init__(self, n):\n",
    "        self.n = n\n",
    "\n",
    "    def __get__(self, instance_self, instance_class):\n",
    "        print(self)\n",
    "        print(instance_self)\n",
    "        print(instance_class)\n",
    "        return self.n * instance_self.p\n",
    "\n",
    "\n",
    "class Box:\n",
    "    volume = MyDescriptor(2) #Создание поля управляемого дескриптором\n",
    "    \n",
    "    def __init__(self, x, y, z):\n",
    "        self.p = x * y * z\n",
    "\n",
    "box1 = Box(1, 2, 3)\n",
    "print(box1.volume)"
   ]
  },
  {
   "cell_type": "code",
   "execution_count": null,
   "metadata": {},
   "outputs": [],
   "source": [
    "box1.volume = 4\n",
    "print(box1.volume)"
   ]
  },
  {
   "cell_type": "code",
   "execution_count": null,
   "metadata": {
    "pycharm": {
     "name": "#%%\n"
    }
   },
   "outputs": [],
   "source": [
    "class NameDescriptor:\n",
    "\n",
    "    def __get__(self, instance_self, instance_class):\n",
    "        return instance_self._name\n",
    "\n",
    "class Cat:\n",
    "    name = NameDescriptor()\n",
    "    def __init__(self, _name, age):\n",
    "        self._name = _name\n",
    "        self.age = age\n",
    "\n",
    "cat = Cat('Barsik', 3)\n",
    "print(cat.name )"
   ]
  },
  {
   "cell_type": "markdown",
   "metadata": {},
   "source": [
    "### О реализации метода __set__ дескриптора\n",
    "\n",
    "Метод __set__ принимает следующий ряд параметров `__set__(self, instance_self, value)`\n",
    "* **self** — ссылка на объект дескриптора\n",
    "* **instance_self** — ссылка на объект который использует поля управляемые дескриптором. Если к полю выполнено обращение через имя класса, то этот параметр равен None\n",
    "* **value** — значение которое нужно присвоить полю\n",
    "\n",
    "В случае отсутствия реализации метода `__set__` первая попытка установить значение такого поля просто заменит\n",
    "дескриптор. По сути просто отключит его."
   ]
  },
  {
   "cell_type": "code",
   "execution_count": null,
   "metadata": {
    "pycharm": {
     "name": "#%%\n"
    }
   },
   "outputs": [],
   "source": [
    "print(cat._name )\n",
    "print(cat.name )\n",
    "cat.name = \"Devil\""
   ]
  },
  {
   "cell_type": "code",
   "execution_count": null,
   "metadata": {
    "pycharm": {
     "name": "#%%\n"
    }
   },
   "outputs": [],
   "source": [
    "print(cat._name )\n",
    "print(cat.name )"
   ]
  },
  {
   "cell_type": "markdown",
   "metadata": {},
   "source": [
    "Чтобы сделать поле доступным только для чтения с использованием дескриптора, необходимо\n",
    "реализовать метод `__set__` дескриптора в кототорм, возбудить исключение. В таком случае при попытке\n",
    "изменения поля будет возбужденно исключение.\n"
   ]
  },
  {
   "cell_type": "code",
   "execution_count": null,
   "metadata": {
    "pycharm": {
     "name": "#%%\n"
    },
    "scrolled": true
   },
   "outputs": [],
   "source": [
    "class MyDescriptor:\n",
    "    def __init__(self, n):\n",
    "        self.n = n\n",
    "\n",
    "    def __get__(self, instance_self, instance_class):\n",
    "        print(self)\n",
    "        print(instance_self)\n",
    "        print(instance_class)\n",
    "        return self.n * instance_self.p\n",
    "\n",
    "    def __set__(self, instance_self, value):\n",
    "        raise AttributeError(\"field is read-only\")\n",
    "\n",
    "\n",
    "class Box:\n",
    "    volume = MyDescriptor(2) #Создание поля управляемого дескриптором\n",
    "    def __init__(self, x, y, z):\n",
    "        self.p = x * y * z\n",
    "\n",
    "box1 = Box(1, 2, 3)\n",
    "print(box1.volume)\n",
    "box1.volume = 50 # AttributeError: field is read-only"
   ]
  },
  {
   "cell_type": "code",
   "execution_count": null,
   "metadata": {},
   "outputs": [],
   "source": [
    "box1.volume "
   ]
  },
  {
   "cell_type": "code",
   "execution_count": null,
   "metadata": {
    "pycharm": {
     "name": "#%%\n"
    }
   },
   "outputs": [],
   "source": [
    "class NameDescriptor:\n",
    "\n",
    "    def __get__(self, instance_self, instance_class):\n",
    "        return instance_self._name\n",
    "\n",
    "    def __set__(self, instance_self, value):\n",
    "        instance_self._name = value\n",
    "\n",
    "class Cat:\n",
    "    name = NameDescriptor()\n",
    "    def __init__(self, _name, age):\n",
    "        self._name = _name\n",
    "        self.age = age\n",
    "\n",
    "cat = Cat('Barsik', 3)\n",
    "print(cat.name )\n",
    "cat.name = \"Devil\"\n",
    "print(cat.name )"
   ]
  },
  {
   "cell_type": "markdown",
   "metadata": {},
   "source": [
    "### О реализации метода `__delete__` дескриптора\n",
    "Метод `__delete__` принимает следующий ряд параметров `__delete__(self, instance_self)`\n",
    "* **self** — ссылка на объект дескриптора\n",
    "* **instance_self** — ссылка на объект который использует поля управляемые дескриптором. Если к полю выполнено обращение через имя класса, то этот параметр равен None"
   ]
  },
  {
   "cell_type": "code",
   "execution_count": null,
   "metadata": {
    "pycharm": {
     "name": "#%%\n"
    }
   },
   "outputs": [],
   "source": [
    "class NameDescriptor:\n",
    "\n",
    "    def __get__(self, instance_self, instance_class):\n",
    "        return instance_self._name\n",
    "\n",
    "    def __set__(self, instance_self, value):\n",
    "        instance_self._name = value\n",
    "\n",
    "    def __delete__(self, instance_self):\n",
    "        raise AttributeError(\"cannot delete field\")\n",
    "\n",
    "class Cat:\n",
    "    name = NameDescriptor()\n",
    "    def __init__(self, _name, age):\n",
    "        self._name = _name\n",
    "        self.age = age\n",
    "\n",
    "cat = Cat('Barsik', 3)\n",
    "print(cat.name )\n",
    "del cat.name # AttributeError: cannot delete field\n"
   ]
  }
 ],
 "metadata": {
  "kernelspec": {
   "display_name": "Python 3 (ipykernel)",
   "language": "python",
   "name": "python3"
  },
  "language_info": {
   "codemirror_mode": {
    "name": "ipython",
    "version": 3
   },
   "file_extension": ".py",
   "mimetype": "text/x-python",
   "name": "python",
   "nbconvert_exporter": "python",
   "pygments_lexer": "ipython3",
   "version": "3.8.10"
  }
 },
 "nbformat": 4,
 "nbformat_minor": 1
}
