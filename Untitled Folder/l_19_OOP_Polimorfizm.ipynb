{
 "cells": [
  {
   "cell_type": "markdown",
   "metadata": {},
   "source": [
    "## Перегрузка операторов \n",
    "\n",
    "### Полиморфизм в действии"
   ]
  },
  {
   "cell_type": "markdown",
   "metadata": {},
   "source": [
    "**Перегрузка операторов** — один из способов реализации полиморфизма, заключающийся в возможности одновременного существования в одной области видимости нескольких различных вариантов применения оператора, имеющих одно и то же имя, но различающихся типами параметров, к которым они применяются."
   ]
  },
  {
   "cell_type": "markdown",
   "metadata": {},
   "source": [
    "#### Как перегрузить операторы в Python?  \n",
    "На самом деле при выполнении того или иного оператора интерпретатор вызывает «магический метод» для соответствующего типа данных. Например, когда используется оператор «+», вызывается метод `__add__()` соответствующего типа данных.\n",
    "Таким образом для переопределения операторов экземплярам ваших классов достаточно просто реализовать эти «магические»  методы."
   ]
  },
  {
   "cell_type": "markdown",
   "metadata": {},
   "source": [
    "в Python есть ограничения на перегрузку операторов это:\n",
    "* Запрещено перегружать операторы для встроенных типов\n",
    "* Запрещено создавать новые операторы\n",
    "* Некоторые операторы перегружать нельзя"
   ]
  },
  {
   "cell_type": "code",
   "execution_count": 1,
   "metadata": {},
   "outputs": [
    {
     "data": {
      "text/html": [
       "<style>\n",
       "table {float:left}\n",
       "table th, table td {text-align:center !important; font-size: 150%;}\n",
       "</style>\n"
      ],
      "text/plain": [
       "<IPython.core.display.HTML object>"
      ]
     },
     "metadata": {},
     "output_type": "display_data"
    }
   ],
   "source": [
    "%%html\n",
    "<style>\n",
    "table {float:left}\n",
    "table th, table td {text-align:center !important; font-size: 150%;}\n",
    "</style>"
   ]
  },
  {
   "cell_type": "markdown",
   "metadata": {},
   "source": [
    "### Таблица соответствий инфиксных операторов и методов для их реализации\n",
    "|Оператор |Прямой |Инверсный |На месте |Описание|\n",
    "| :---: | :---: | :---: | :---: | :---: |\n",
    "|`+` |`__add__`| `__radd__` |`__iadd__` |Сложение или конкатенация|\n",
    "|`-`| `__sub__` |`__rsub__` |`__isub__` |Вычитание|\n",
    "|`*` |`__mul__` |`__rmul__` | `__imul__` |Умножение или повторение|\n",
    "|`/`| `__truediv__` |`__rtruediv__`| `__itruediv__` |Истинное деление|\n",
    "|`//` |`__floordiv__`| `__rfloordiv__` |`__ifloordiv__` |Деление с округлением|\n",
    "|`%` |`__mod__`| `__rmod__` |`__imod__`| Деление по модулю|\n",
    "|`**`, `pow()`| `__pow__` |`__rpow__`| `__ipow__` |Возведение в степень|"
   ]
  },
  {
   "cell_type": "markdown",
   "metadata": {},
   "source": [
    "Если для x определен метод `__add__` , то вызовется метод `x.__add__(y)`. Если результат его работы не равен NotImplemented, то возвращается полученный результат. Это **прямой** оператор. \n",
    "Если для x метод `__add__` не реализован или вернул ***NotImplemented***, то проверяется, реализован ли для y метод\n",
    "`__radd__`. Если да, то будет вызван метод `y.__radd__(x)`. Если результат его работы не равен NotImplemented, то возвращается полученный результат. Если же метода нет или вернулся ***NotImplemented***, то возбуждается ***TypeError***. Это **инверсный** оператор.\n",
    "\n",
    "\n",
    "Оператор вычисления на месте используется в выражениях вида `x += y`. В таком случае будет вызван метод `__iadd__`. Если он есть и результат его работы не равен ***NotImplenented***, то возвращается полученный результат. Это вычисление на\n",
    "месте. Если этого метода нет или возвращен **NotImplemented**, то вызывается метод **сложения**.\n",
    "\n",
    "**NotImplemented** - это переменная специального типа. Она определена в стандартной библиотеке Python и должна быть\n",
    "возвращена, если ваш метод не поддерживает нужный тип объектов, для которых вызывается оператор."
   ]
  },
  {
   "cell_type": "code",
   "execution_count": 2,
   "metadata": {
    "scrolled": true
   },
   "outputs": [
    {
     "data": {
      "text/plain": [
       "'Hello world'"
      ]
     },
     "execution_count": 2,
     "metadata": {},
     "output_type": "execute_result"
    }
   ],
   "source": [
    "'Hello'.__add__(' world')"
   ]
  },
  {
   "cell_type": "code",
   "execution_count": 3,
   "metadata": {},
   "outputs": [
    {
     "data": {
      "text/plain": [
       "'Hello world'"
      ]
     },
     "execution_count": 3,
     "metadata": {},
     "output_type": "execute_result"
    }
   ],
   "source": [
    "'Hello' + ' world'\n"
   ]
  },
  {
   "cell_type": "code",
   "execution_count": 4,
   "metadata": {
    "pycharm": {
     "name": "#%%\n"
    }
   },
   "outputs": [],
   "source": [
    "class Box:\n",
    "    def __init__(self, x, y, z):\n",
    "        self.x = x\n",
    "        self.y = y\n",
    "        self.z = z\n",
    "\n",
    "    def __str__(self):\n",
    "        return f\"Box [x = {self.x}, y = {self.y}, z = {self.z}]\"\n",
    "\n"
   ]
  },
  {
   "cell_type": "code",
   "execution_count": 5,
   "metadata": {},
   "outputs": [],
   "source": [
    "box_a = Box(1, 2, 3)\n",
    "box_b = Box(2, 3, 4)"
   ]
  },
  {
   "cell_type": "code",
   "execution_count": 6,
   "metadata": {
    "pycharm": {
     "name": "#%%\n"
    },
    "scrolled": true
   },
   "outputs": [
    {
     "ename": "TypeError",
     "evalue": "unsupported operand type(s) for +: 'Box' and 'Box'",
     "output_type": "error",
     "traceback": [
      "\u001b[0;31m---------------------------------------------------------------------------\u001b[0m",
      "\u001b[0;31mTypeError\u001b[0m                                 Traceback (most recent call last)",
      "\u001b[0;32m/tmp/ipykernel_2799/763232663.py\u001b[0m in \u001b[0;36m<module>\u001b[0;34m\u001b[0m\n\u001b[0;32m----> 1\u001b[0;31m \u001b[0mbox_c\u001b[0m \u001b[0;34m=\u001b[0m \u001b[0mbox_a\u001b[0m \u001b[0;34m+\u001b[0m \u001b[0mbox_b\u001b[0m\u001b[0;34m\u001b[0m\u001b[0;34m\u001b[0m\u001b[0m\n\u001b[0m\u001b[1;32m      2\u001b[0m \u001b[0mprint\u001b[0m\u001b[0;34m(\u001b[0m\u001b[0mbox_c\u001b[0m\u001b[0;34m)\u001b[0m\u001b[0;34m\u001b[0m\u001b[0;34m\u001b[0m\u001b[0m\n\u001b[1;32m      3\u001b[0m \u001b[0mprint\u001b[0m\u001b[0;34m(\u001b[0m\u001b[0mbox_a\u001b[0m\u001b[0;34m)\u001b[0m\u001b[0;34m\u001b[0m\u001b[0;34m\u001b[0m\u001b[0m\n\u001b[1;32m      4\u001b[0m \u001b[0;34m\u001b[0m\u001b[0m\n\u001b[1;32m      5\u001b[0m \u001b[0mbox_a\u001b[0m \u001b[0;34m+=\u001b[0m \u001b[0mbox_b\u001b[0m\u001b[0;34m\u001b[0m\u001b[0;34m\u001b[0m\u001b[0m\n",
      "\u001b[0;31mTypeError\u001b[0m: unsupported operand type(s) for +: 'Box' and 'Box'"
     ]
    }
   ],
   "source": [
    "\n",
    "\n",
    "box_c = box_a + box_b\n",
    "print(box_c)\n",
    "print(box_a)\n",
    "\n",
    "box_a += box_b\n",
    "print(box_a)\n"
   ]
  },
  {
   "cell_type": "code",
   "execution_count": 7,
   "metadata": {},
   "outputs": [
    {
     "ename": "TypeError",
     "evalue": "unsupported operand type(s) for +=: 'Box' and 'Box'",
     "output_type": "error",
     "traceback": [
      "\u001b[0;31m---------------------------------------------------------------------------\u001b[0m",
      "\u001b[0;31mTypeError\u001b[0m                                 Traceback (most recent call last)",
      "\u001b[0;32m/tmp/ipykernel_2799/2844690390.py\u001b[0m in \u001b[0;36m<module>\u001b[0;34m\u001b[0m\n\u001b[0;32m----> 1\u001b[0;31m \u001b[0mbox_a\u001b[0m \u001b[0;34m+=\u001b[0m \u001b[0mbox_a\u001b[0m\u001b[0;34m\u001b[0m\u001b[0;34m\u001b[0m\u001b[0m\n\u001b[0m\u001b[1;32m      2\u001b[0m \u001b[0mstr\u001b[0m\u001b[0;34m(\u001b[0m\u001b[0mbox_a\u001b[0m\u001b[0;34m)\u001b[0m\u001b[0;34m\u001b[0m\u001b[0;34m\u001b[0m\u001b[0m\n",
      "\u001b[0;31mTypeError\u001b[0m: unsupported operand type(s) for +=: 'Box' and 'Box'"
     ]
    }
   ],
   "source": [
    "box_a += box_a\n",
    "str(box_a)"
   ]
  },
  {
   "cell_type": "code",
   "execution_count": 9,
   "metadata": {},
   "outputs": [],
   "source": [
    "class Box:\n",
    "    def __init__(self, x, y, z):\n",
    "        self.x = x\n",
    "        self.y = y\n",
    "        self.z = z\n",
    "\n",
    "    def __str__(self):\n",
    "        return f\"Box [x = {self.x}, y = {self.y}, z = {self.z}]\"\n",
    "\n",
    "    def __iadd__(self, other):\n",
    "        print(\"iadd\")\n",
    "        return Box(self.x + other.x, self.y + other.y, self.z + other.z)\n",
    "\n",
    "    def __add__(self, other):\n",
    "        print(\"add\")\n",
    "        return Box(self.x + other.x, self.y + other.y, self.z + other.z)"
   ]
  },
  {
   "cell_type": "code",
   "execution_count": 10,
   "metadata": {},
   "outputs": [
    {
     "name": "stdout",
     "output_type": "stream",
     "text": [
      "iadd\n",
      "Box [x = 3, y = 5, z = 7]\n",
      "add\n",
      "Box [x = 5, y = 8, z = 11]\n"
     ]
    }
   ],
   "source": [
    "box_a = Box(1, 2, 3)\n",
    "box_b = Box(2, 3, 4)\n",
    "\n",
    "box_a += box_b\n",
    "print(box_a)\n",
    "\n",
    "box_c = box_a + box_b\n",
    "print(box_c)"
   ]
  },
  {
   "cell_type": "code",
   "execution_count": 11,
   "metadata": {},
   "outputs": [
    {
     "name": "stdout",
     "output_type": "stream",
     "text": [
      "iadd\n"
     ]
    },
    {
     "ename": "AttributeError",
     "evalue": "'int' object has no attribute 'x'",
     "output_type": "error",
     "traceback": [
      "\u001b[0;31m---------------------------------------------------------------------------\u001b[0m",
      "\u001b[0;31mAttributeError\u001b[0m                            Traceback (most recent call last)",
      "\u001b[0;32m/tmp/ipykernel_2799/1150204336.py\u001b[0m in \u001b[0;36m<module>\u001b[0;34m\u001b[0m\n\u001b[0;32m----> 1\u001b[0;31m \u001b[0mbox_a\u001b[0m \u001b[0;34m+=\u001b[0m \u001b[0;36m1\u001b[0m\u001b[0;34m\u001b[0m\u001b[0;34m\u001b[0m\u001b[0m\n\u001b[0m",
      "\u001b[0;32m/tmp/ipykernel_2799/1532499848.py\u001b[0m in \u001b[0;36m__iadd__\u001b[0;34m(self, other)\u001b[0m\n\u001b[1;32m     10\u001b[0m     \u001b[0;32mdef\u001b[0m \u001b[0m__iadd__\u001b[0m\u001b[0;34m(\u001b[0m\u001b[0mself\u001b[0m\u001b[0;34m,\u001b[0m \u001b[0mother\u001b[0m\u001b[0;34m)\u001b[0m\u001b[0;34m:\u001b[0m\u001b[0;34m\u001b[0m\u001b[0;34m\u001b[0m\u001b[0m\n\u001b[1;32m     11\u001b[0m         \u001b[0mprint\u001b[0m\u001b[0;34m(\u001b[0m\u001b[0;34m\"iadd\"\u001b[0m\u001b[0;34m)\u001b[0m\u001b[0;34m\u001b[0m\u001b[0;34m\u001b[0m\u001b[0m\n\u001b[0;32m---> 12\u001b[0;31m         \u001b[0;32mreturn\u001b[0m \u001b[0mBox\u001b[0m\u001b[0;34m(\u001b[0m\u001b[0mself\u001b[0m\u001b[0;34m.\u001b[0m\u001b[0mx\u001b[0m \u001b[0;34m+\u001b[0m \u001b[0mother\u001b[0m\u001b[0;34m.\u001b[0m\u001b[0mx\u001b[0m\u001b[0;34m,\u001b[0m \u001b[0mself\u001b[0m\u001b[0;34m.\u001b[0m\u001b[0my\u001b[0m \u001b[0;34m+\u001b[0m \u001b[0mother\u001b[0m\u001b[0;34m.\u001b[0m\u001b[0my\u001b[0m\u001b[0;34m,\u001b[0m \u001b[0mself\u001b[0m\u001b[0;34m.\u001b[0m\u001b[0mz\u001b[0m \u001b[0;34m+\u001b[0m \u001b[0mother\u001b[0m\u001b[0;34m.\u001b[0m\u001b[0mz\u001b[0m\u001b[0;34m)\u001b[0m\u001b[0;34m\u001b[0m\u001b[0;34m\u001b[0m\u001b[0m\n\u001b[0m\u001b[1;32m     13\u001b[0m \u001b[0;34m\u001b[0m\u001b[0m\n\u001b[1;32m     14\u001b[0m     \u001b[0;32mdef\u001b[0m \u001b[0m__add__\u001b[0m\u001b[0;34m(\u001b[0m\u001b[0mself\u001b[0m\u001b[0;34m,\u001b[0m \u001b[0mother\u001b[0m\u001b[0;34m)\u001b[0m\u001b[0;34m:\u001b[0m\u001b[0;34m\u001b[0m\u001b[0;34m\u001b[0m\u001b[0m\n",
      "\u001b[0;31mAttributeError\u001b[0m: 'int' object has no attribute 'x'"
     ]
    }
   ],
   "source": [
    "box_a += 1"
   ]
  },
  {
   "cell_type": "markdown",
   "metadata": {},
   "source": [
    "### Проверка типа второго аргумента\n"
   ]
  },
  {
   "cell_type": "code",
   "execution_count": 12,
   "metadata": {
    "pycharm": {
     "name": "#%%\n"
    }
   },
   "outputs": [],
   "source": [
    "class Box:\n",
    "    def __init__(self, x, y, z):\n",
    "        self.x = x\n",
    "        self.y = y\n",
    "        self.z = z\n",
    "\n",
    "    def __str__(self):\n",
    "        return \"Box [x = {}, y = {}, z = {}]\".format(self.x, self.y, self.z)\n",
    "\n",
    "    def __iadd__(self, other):\n",
    "        if isinstance(other, Box):\n",
    "            print(\"iadd\")\n",
    "            return Box(self.x + other.x, self.y + other.y, self.z + other.z)\n",
    "        return NotImplemented\n",
    "\n",
    "    def __add__(self, other):\n",
    "        print(type(other))\n",
    "        if isinstance(other, Box):\n",
    "            print(\"add\")\n",
    "            return Box(self.x + other.x, self.y + other.y, self.z + other.z)\n",
    "        return NotImplemented"
   ]
  },
  {
   "cell_type": "code",
   "execution_count": 13,
   "metadata": {
    "pycharm": {
     "name": "#%%\n"
    }
   },
   "outputs": [
    {
     "name": "stdout",
     "output_type": "stream",
     "text": [
      "iadd\n",
      "Box [x = 3, y = 5, z = 7]\n",
      "<class '__main__.Box'>\n",
      "add\n",
      "Box [x = 3, y = 5, z = 7]\n"
     ]
    }
   ],
   "source": [
    "box_a = Box(1, 2, 3)\n",
    "box_b = Box(2, 3, 4)\n",
    "\n",
    "box_a += box_b\n",
    "print(box_a)\n",
    "\n",
    "box_c = box_a + box_b\n",
    "print(box_a)"
   ]
  },
  {
   "cell_type": "code",
   "execution_count": 14,
   "metadata": {
    "pycharm": {
     "name": "#%%\n"
    },
    "scrolled": true
   },
   "outputs": [
    {
     "name": "stdout",
     "output_type": "stream",
     "text": [
      "<class 'int'>\n"
     ]
    },
    {
     "ename": "TypeError",
     "evalue": "unsupported operand type(s) for +: 'Box' and 'int'",
     "output_type": "error",
     "traceback": [
      "\u001b[0;31m---------------------------------------------------------------------------\u001b[0m",
      "\u001b[0;31mTypeError\u001b[0m                                 Traceback (most recent call last)",
      "\u001b[0;32m/tmp/ipykernel_2799/4201791991.py\u001b[0m in \u001b[0;36m<module>\u001b[0;34m\u001b[0m\n\u001b[0;32m----> 1\u001b[0;31m \u001b[0mbox_d\u001b[0m \u001b[0;34m=\u001b[0m \u001b[0mbox_a\u001b[0m \u001b[0;34m+\u001b[0m \u001b[0;36m1\u001b[0m \u001b[0;31m# TypeError\u001b[0m\u001b[0;34m\u001b[0m\u001b[0;34m\u001b[0m\u001b[0m\n\u001b[0m",
      "\u001b[0;31mTypeError\u001b[0m: unsupported operand type(s) for +: 'Box' and 'int'"
     ]
    }
   ],
   "source": [
    "box_d = box_a + 1 # TypeError"
   ]
  },
  {
   "cell_type": "code",
   "execution_count": 15,
   "metadata": {
    "scrolled": true
   },
   "outputs": [
    {
     "ename": "TypeError",
     "evalue": "unsupported operand type(s) for +: 'int' and 'str'",
     "output_type": "error",
     "traceback": [
      "\u001b[0;31m---------------------------------------------------------------------------\u001b[0m",
      "\u001b[0;31mTypeError\u001b[0m                                 Traceback (most recent call last)",
      "\u001b[0;32m/tmp/ipykernel_2799/2877782753.py\u001b[0m in \u001b[0;36m<module>\u001b[0;34m\u001b[0m\n\u001b[0;32m----> 1\u001b[0;31m \u001b[0;36m1\u001b[0m \u001b[0;34m+\u001b[0m \u001b[0;34m'1'\u001b[0m\u001b[0;34m\u001b[0m\u001b[0;34m\u001b[0m\u001b[0m\n\u001b[0m",
      "\u001b[0;31mTypeError\u001b[0m: unsupported operand type(s) for +: 'int' and 'str'"
     ]
    }
   ],
   "source": [
    "1 + '1'"
   ]
  },
  {
   "cell_type": "code",
   "execution_count": 16,
   "metadata": {
    "pycharm": {
     "name": "#%%\n"
    }
   },
   "outputs": [],
   "source": [
    "class Box:\n",
    "    def __init__(self, x, y, z):\n",
    "        self.x = x\n",
    "        self.y = y\n",
    "        self.z = z\n",
    "\n",
    "    def __str__(self):\n",
    "        return \"Box [x = {}, y = {}, z = {}]\".format(self.x, self.y, self.z)\n",
    "\n",
    "    def __iadd__(self, other):\n",
    "        if isinstance(other, Box):\n",
    "            print(\"iadd\")\n",
    "            return Box(self.x + other.x, self.y + other.y, self.z + other.z)\n",
    "        return NotImplemented\n",
    "\n",
    "    def __add__(self, other):\n",
    "        if isinstance(other, Box):\n",
    "            print(\"add\")\n",
    "            return Box(self.x + other.x, self.y + other.y, self.z + other.z)\n",
    "        if isinstance(other, (int, float)):\n",
    "            return Box(self.x + other, self.y + other, self.z + other)\n",
    "        return NotImplemented\n"
   ]
  },
  {
   "cell_type": "code",
   "execution_count": 17,
   "metadata": {
    "pycharm": {
     "name": "#%%\n"
    }
   },
   "outputs": [
    {
     "name": "stdout",
     "output_type": "stream",
     "text": [
      "Box [x = 11, y = 12, z = 13]\n"
     ]
    }
   ],
   "source": [
    "box_a = Box(1, 2, 3)\n",
    "box_d = box_a + 10\n",
    "print(box_d)"
   ]
  },
  {
   "cell_type": "code",
   "execution_count": 18,
   "metadata": {
    "pycharm": {
     "name": "#%%\n"
    }
   },
   "outputs": [
    {
     "name": "stdout",
     "output_type": "stream",
     "text": [
      "Box [x = 11.0, y = 12.0, z = 13.0]\n"
     ]
    }
   ],
   "source": [
    "box_e = box_a + 10.0 \n",
    "print(box_e)\n"
   ]
  },
  {
   "cell_type": "code",
   "execution_count": 19,
   "metadata": {},
   "outputs": [
    {
     "ename": "TypeError",
     "evalue": "unsupported operand type(s) for +: 'int' and 'Box'",
     "output_type": "error",
     "traceback": [
      "\u001b[0;31m---------------------------------------------------------------------------\u001b[0m",
      "\u001b[0;31mTypeError\u001b[0m                                 Traceback (most recent call last)",
      "\u001b[0;32m/tmp/ipykernel_2799/3570097730.py\u001b[0m in \u001b[0;36m<module>\u001b[0;34m\u001b[0m\n\u001b[0;32m----> 1\u001b[0;31m \u001b[0mbox_d\u001b[0m \u001b[0;34m=\u001b[0m \u001b[0;36m10\u001b[0m \u001b[0;34m+\u001b[0m \u001b[0mbox_a\u001b[0m \u001b[0;31m#  __radd__ not implemented\u001b[0m\u001b[0;34m\u001b[0m\u001b[0;34m\u001b[0m\u001b[0m\n\u001b[0m",
      "\u001b[0;31mTypeError\u001b[0m: unsupported operand type(s) for +: 'int' and 'Box'"
     ]
    }
   ],
   "source": [
    "box_d = 10 + box_a #  __radd__ not implemented"
   ]
  },
  {
   "cell_type": "code",
   "execution_count": 20,
   "metadata": {},
   "outputs": [],
   "source": [
    "class Box:\n",
    "    def __init__(self, x, y, z):\n",
    "        self.x = x\n",
    "        self.y = y\n",
    "        self.z = z\n",
    "\n",
    "    def __str__(self):\n",
    "        return \"Box [x = {}, y = {}, z = {}]\".format(self.x, self.y, self.z)\n",
    "\n",
    "    def __iadd__(self, other):\n",
    "        if isinstance(other, Box):\n",
    "            print(\"iadd\")\n",
    "            return Box(self.x + other.x, self.y + other.y, self.z + other.z)\n",
    "        return NotImplemented\n",
    "\n",
    "    def __radd__(self, other):\n",
    "        print(\"radd\")\n",
    "        return Box.__add__(self, other)\n",
    "\n",
    "    \n",
    "    def __add__(self, other):\n",
    "        print(\"add\")\n",
    "        if isinstance(other, Box):\n",
    "            return Box(self.x + other.x, self.y + other.y, self.z + other.z)\n",
    "        if isinstance(other, (int, float)):\n",
    "            return Box(self.x + other, self.y + other, self.z + other)\n",
    "        return NotImplemented"
   ]
  },
  {
   "cell_type": "code",
   "execution_count": 21,
   "metadata": {},
   "outputs": [
    {
     "name": "stdout",
     "output_type": "stream",
     "text": [
      "add\n"
     ]
    }
   ],
   "source": [
    "box_a = Box(1, 2, 3)\n",
    "box_b = Box(2, 3, 4)\n",
    "\n",
    "box_c = box_a + box_b"
   ]
  },
  {
   "cell_type": "code",
   "execution_count": 22,
   "metadata": {},
   "outputs": [
    {
     "name": "stdout",
     "output_type": "stream",
     "text": [
      "radd\n",
      "add\n"
     ]
    }
   ],
   "source": []
  },
  {
   "cell_type": "code",
   "execution_count": 23,
   "metadata": {
    "scrolled": true
   },
   "outputs": [
    {
     "name": "stdout",
     "output_type": "stream",
     "text": [
      "radd\n",
      "add\n"
     ]
    }
   ],
   "source": [
    "# Когда у левого объекта нет корректного метода сложения, этот метод ищется у правого\n",
    "box_d = 1 + box_a #  radd, add\n"
   ]
  },
  {
   "cell_type": "code",
   "execution_count": 24,
   "metadata": {},
   "outputs": [
    {
     "name": "stdout",
     "output_type": "stream",
     "text": [
      "add\n"
     ]
    }
   ],
   "source": [
    "box_d = box_a + 1 # add"
   ]
  },
  {
   "cell_type": "code",
   "execution_count": 25,
   "metadata": {},
   "outputs": [
    {
     "data": {
      "text/plain": [
       "8754498353285"
      ]
     },
     "execution_count": 25,
     "metadata": {},
     "output_type": "execute_result"
    }
   ],
   "source": [
    "hash(box_d)"
   ]
  },
  {
   "cell_type": "markdown",
   "metadata": {},
   "source": [
    "Чтобы не проверять все варианты чисел, можно прибегнуть к абстракции"
   ]
  },
  {
   "cell_type": "code",
   "execution_count": 27,
   "metadata": {
    "pycharm": {
     "name": "#%%\n"
    }
   },
   "outputs": [],
   "source": [
    "import numbers\n",
    "\n",
    "class Box:\n",
    "    def __init__(self, x, y, z):\n",
    "        self.x = x\n",
    "        self.y = y\n",
    "        self.z = z\n",
    "\n",
    "    def __str__(self):\n",
    "        return \"Box [x = {}, y = {}, z = {}]\".format(self.x, self.y, self.z)\n",
    "\n",
    "    def __iadd__(self, other):\n",
    "        if isinstance(other, Box):\n",
    "            print(\"iadd\")\n",
    "            return Box(self.x + other.x, self.y + other.y, self.z + other.z)\n",
    "        return NotImplemented\n",
    "\n",
    "    def __add__(self, other):\n",
    "        if isinstance(other, Box):\n",
    "            print(\"add\")\n",
    "            return Box(self.x + other.x, self.y + other.y, self.z + other.z)\n",
    "        if isinstance(other, numbers.Real):\n",
    "            return Box(self.x + other, self.y + other, self.z + other)\n",
    "        return NotImplemented\n",
    "    \n",
    "    # умножить Box на число\n",
    "    def __mul__(self, other):\n",
    "        if isinstance(other, numbers.Real):\n",
    "            return Box(self.x * other, self.y * other, self.z * other)\n",
    "        else:\n",
    "            return NotImplemented"
   ]
  },
  {
   "cell_type": "code",
   "execution_count": 28,
   "metadata": {},
   "outputs": [],
   "source": [
    "box_a = Box(1, 2, 3)\n",
    "b = box_a * 34"
   ]
  },
  {
   "cell_type": "code",
   "execution_count": 29,
   "metadata": {},
   "outputs": [
    {
     "data": {
      "text/plain": [
       "'Box [x = 34, y = 68, z = 102]'"
      ]
     },
     "execution_count": 29,
     "metadata": {},
     "output_type": "execute_result"
    }
   ],
   "source": [
    "str(b)"
   ]
  },
  {
   "cell_type": "markdown",
   "metadata": {},
   "source": [
    "## Перегрузка операторов сравнения.\n",
    "Стандартная реализация оператора == для пользовательских классов не сравнивает\n",
    "значение полей, а сравнивает просто ссылки на экземпляры."
   ]
  },
  {
   "cell_type": "code",
   "execution_count": 30,
   "metadata": {
    "pycharm": {
     "name": "#%%\n"
    }
   },
   "outputs": [
    {
     "name": "stdout",
     "output_type": "stream",
     "text": [
      "False\n"
     ]
    }
   ],
   "source": [
    "box_a = Box(1, 2, 3)\n",
    "box_b = Box(1, 2, 3)\n",
    "print(box_a == box_b)"
   ]
  },
  {
   "cell_type": "code",
   "execution_count": 31,
   "metadata": {
    "pycharm": {
     "name": "#%%\n"
    }
   },
   "outputs": [
    {
     "name": "stdout",
     "output_type": "stream",
     "text": [
      "140071973065152\n",
      "140071973066448\n"
     ]
    }
   ],
   "source": [
    "print(id(box_a))\n",
    "print(id(box_b))"
   ]
  },
  {
   "cell_type": "markdown",
   "metadata": {},
   "source": [
    "### Таблица методов для перегрузки операторов сравнения.\n",
    "|Оператор |Прямой |Инверсный |Описание|\n",
    "| :---: | :---: | :---: | :---: |\n",
    "|**x == y**| `x.__eq__(y)` |`y.__eq__(x)` |Равно|\n",
    "|**x != y** |`x.__ne__(y)` |`y.__ne__(x)` |Не равно|\n",
    "|**x > y**| `x.__gt__(y)` |`y.__lt__(x)`| x больше y|\n",
    "|**x < y** | `x.__lt__(y)` | `y.__gt__(x)` | x меньше y|\n",
    "|**x >= y** |`x.__ge__(y)` | `y.__le__(x)` | x больше или равен y|\n",
    "|**x <= y**|`x.__le__(y)` | `y.__ge__(x)` |x меньше или равен y|"
   ]
  },
  {
   "cell_type": "code",
   "execution_count": 32,
   "metadata": {
    "pycharm": {
     "name": "#%%\n"
    }
   },
   "outputs": [],
   "source": [
    "# Реализуем сравнение коробков по объему\n",
    "class Box:\n",
    "    def __init__(self, x, y, z):\n",
    "        self.x = x\n",
    "        self.y = y\n",
    "        self.z = z\n",
    "\n",
    "    def __str__(self):\n",
    "        return \"Box [x = {}, y = {}, z = {}]\".format(self.x, self.y, self.z)\n",
    "\n",
    "    def __iadd__(self, other):\n",
    "        if isinstance(other, Box):\n",
    "            print(\"iadd\")\n",
    "            return Box(self.x + other.x, self.y + other.y, self.z + other.z)\n",
    "        return NotImplemented\n",
    "\n",
    "    def __add__(self, other):\n",
    "        if isinstance(other, Box):\n",
    "            print(\"add\")\n",
    "            return Box(self.x + other.x, self.y + other.y, self.z + other.z)\n",
    "        if isinstance(other, numbers.Real):\n",
    "            return Box(self.x + other, self.y + other, self.z + other)\n",
    "        return NotImplemented\n",
    "\n",
    "    def __mul__(self, other):\n",
    "        if isinstance(other, numbers.Real):\n",
    "            return Box(self.x * other, self.y * other, self.z * other)\n",
    "        else:\n",
    "            return NotImplemented\n",
    "\n",
    "    @staticmethod\n",
    "    def volume(box):\n",
    "        return box.x * box.y * box.z\n",
    "\n",
    "    def __eq__(self, other):\n",
    "        # return self.x * self.y * self.z == other.x * other.y * other.z на слайде\n",
    "        if isinstance(other, Box):\n",
    "            # два коробка считаются равными в случае равенства объемов\n",
    "            return self.volume(self) == self.volume(other)\n",
    "        return NotImplemented\n",
    "\n",
    "    def __gt__(self, other):\n",
    "        if isinstance(other, Box):\n",
    "            return self.volume(self) > self.volume(other)\n",
    "        return NotImplemented\n",
    "\n",
    "    def __lt__(self, other):\n",
    "        #if isinstance(other, Box):\n",
    "           # return self.volume(self) < self.volume(other)\n",
    "        #return NotImplemented\n",
    "        return not self > other"
   ]
  },
  {
   "cell_type": "code",
   "execution_count": 33,
   "metadata": {
    "pycharm": {
     "name": "#%%\n"
    }
   },
   "outputs": [
    {
     "name": "stdout",
     "output_type": "stream",
     "text": [
      "True\n"
     ]
    }
   ],
   "source": [
    "box_a = Box(1, 2, 3)\n",
    "box_b = Box(1, 2, 3)\n",
    "print(box_a == box_b)\n"
   ]
  },
  {
   "cell_type": "code",
   "execution_count": 34,
   "metadata": {
    "pycharm": {
     "name": "#%%\n"
    },
    "scrolled": true
   },
   "outputs": [
    {
     "name": "stdout",
     "output_type": "stream",
     "text": [
      "add\n",
      "False\n",
      "True\n"
     ]
    }
   ],
   "source": [
    "box_c = box_a + box_b\n",
    "print(box_c == box_b)\n",
    "print(box_c > box_b)"
   ]
  },
  {
   "cell_type": "code",
   "execution_count": 35,
   "metadata": {
    "scrolled": true
   },
   "outputs": [
    {
     "name": "stdout",
     "output_type": "stream",
     "text": [
      "True\n"
     ]
    }
   ],
   "source": [
    "print(box_b < box_c)"
   ]
  },
  {
   "cell_type": "code",
   "execution_count": 36,
   "metadata": {
    "pycharm": {
     "name": "#%%\n"
    }
   },
   "outputs": [
    {
     "ename": "TypeError",
     "evalue": "'>=' not supported between instances of 'Box' and 'Box'",
     "output_type": "error",
     "traceback": [
      "\u001b[0;31m---------------------------------------------------------------------------\u001b[0m",
      "\u001b[0;31mTypeError\u001b[0m                                 Traceback (most recent call last)",
      "\u001b[0;32m/tmp/ipykernel_2799/3305917219.py\u001b[0m in \u001b[0;36m<module>\u001b[0;34m\u001b[0m\n\u001b[0;32m----> 1\u001b[0;31m \u001b[0mprint\u001b[0m\u001b[0;34m(\u001b[0m\u001b[0mbox_c\u001b[0m \u001b[0;34m>=\u001b[0m \u001b[0mbox_b\u001b[0m\u001b[0;34m)\u001b[0m \u001b[0;31m# TypeError\u001b[0m\u001b[0;34m\u001b[0m\u001b[0;34m\u001b[0m\u001b[0m\n\u001b[0m",
      "\u001b[0;31mTypeError\u001b[0m: '>=' not supported between instances of 'Box' and 'Box'"
     ]
    }
   ],
   "source": [
    "print(box_c >= box_b) # TypeError"
   ]
  },
  {
   "cell_type": "code",
   "execution_count": 42,
   "metadata": {
    "pycharm": {
     "name": "#%%\n"
    }
   },
   "outputs": [],
   "source": [
    "class Box:\n",
    "    def __init__(self, x, y, z):\n",
    "        self.x = x\n",
    "        self.y = y\n",
    "        self.z = z\n",
    "\n",
    "    def __str__(self):\n",
    "        return \"Box [x = {}, y = {}, z = {}]\".format(self.x, self.y, self.z)\n",
    "\n",
    "    def __iadd__(self, other):\n",
    "        if isinstance(other, Box):\n",
    "            print(\"iadd\")\n",
    "            return Box(self.x + other.x, self.y + other.y, self.z + other.z)\n",
    "        return NotImplemented\n",
    "\n",
    "    def __add__(self, other):\n",
    "        if isinstance(other, Box):\n",
    "            print(\"add\")\n",
    "            return Box(self.x + other.x, self.y + other.y, self.z + other.z)\n",
    "        if isinstance(other, numbers.Real):\n",
    "            return Box(self.x + other, self.y + other, self.z + other)\n",
    "        return NotImplemented\n",
    "\n",
    "    def __mul__(self, other):\n",
    "        if isinstance(other, numbers.Real):\n",
    "            return Box(self.x * other, self.y * other, self.z * other)\n",
    "        else:\n",
    "            return NotImplemented\n",
    "\n",
    "    @staticmethod\n",
    "    def volume(box):\n",
    "        return box.x * box.y * box.z\n",
    "\n",
    "    def __eq__(self, other):\n",
    "        if isinstance(other, Box):\n",
    "            return self.volume(self) == self.volume(other)\n",
    "        return NotImplemented\n",
    "\n",
    "    def __gt__(self, other):\n",
    "        if isinstance(other, Box):\n",
    "            return self.volume(self) > self.volume(other)\n",
    "        return NotImplemented\n",
    "\n",
    "    def __lt__(self, other):\n",
    "        if isinstance(other, Box):\n",
    "            return self.volume(self) < self.volume(other)\n",
    "        return NotImplemented\n",
    "\n",
    "    def __ge__(self, other):\n",
    "        if isinstance(other, Box):\n",
    "            return any((self > other, self == other))\n",
    "        return NotImplemented\n",
    "    \n",
    "    def __le__(self, other):\n",
    "        if isinstance(other, Box):\n",
    "            return  any((self < other, self == other))\n",
    "        return NotImplemented"
   ]
  },
  {
   "cell_type": "code",
   "execution_count": 43,
   "metadata": {
    "pycharm": {
     "name": "#%%\n"
    }
   },
   "outputs": [
    {
     "name": "stdout",
     "output_type": "stream",
     "text": [
      "True\n"
     ]
    }
   ],
   "source": [
    "box_a = Box(1, 2, 3)\n",
    "box_b = Box(1, 2, 3)\n",
    "print(box_a >= box_b)"
   ]
  },
  {
   "cell_type": "code",
   "execution_count": 39,
   "metadata": {
    "pycharm": {
     "name": "#%%\n"
    },
    "scrolled": true
   },
   "outputs": [
    {
     "name": "stdout",
     "output_type": "stream",
     "text": [
      "add\n",
      "True\n"
     ]
    }
   ],
   "source": [
    "box_c = box_a + box_b\n",
    "print(box_c >= box_b)"
   ]
  },
  {
   "cell_type": "code",
   "execution_count": 44,
   "metadata": {},
   "outputs": [
    {
     "name": "stdout",
     "output_type": "stream",
     "text": [
      "True\n"
     ]
    }
   ],
   "source": [
    "print(box_a <= box_b)"
   ]
  },
  {
   "cell_type": "code",
   "execution_count": 45,
   "metadata": {},
   "outputs": [
    {
     "data": {
      "text/plain": [
       "False"
      ]
     },
     "execution_count": 45,
     "metadata": {},
     "output_type": "execute_result"
    }
   ],
   "source": [
    "all([1, 0, True])"
   ]
  },
  {
   "cell_type": "code",
   "execution_count": 46,
   "metadata": {},
   "outputs": [
    {
     "data": {
      "text/plain": [
       "True"
      ]
     },
     "execution_count": 46,
     "metadata": {},
     "output_type": "execute_result"
    }
   ],
   "source": [
    "any([1, 0, True])"
   ]
  }
 ],
 "metadata": {
  "kernelspec": {
   "display_name": "Python 3 (ipykernel)",
   "language": "python",
   "name": "python3"
  },
  "language_info": {
   "codemirror_mode": {
    "name": "ipython",
    "version": 3
   },
   "file_extension": ".py",
   "mimetype": "text/x-python",
   "name": "python",
   "nbconvert_exporter": "python",
   "pygments_lexer": "ipython3",
   "version": "3.8.10"
  }
 },
 "nbformat": 4,
 "nbformat_minor": 1
}
