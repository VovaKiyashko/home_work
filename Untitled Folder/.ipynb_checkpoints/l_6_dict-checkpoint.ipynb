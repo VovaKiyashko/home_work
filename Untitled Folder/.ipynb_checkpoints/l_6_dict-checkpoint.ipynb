{
 "cells": [
  {
   "cell_type": "markdown",
   "metadata": {},
   "source": [
    "## Словари (dict)"
   ]
  },
  {
   "cell_type": "markdown",
   "metadata": {
    "pycharm": {
     "name": "#%% md\n"
    }
   },
   "source": [
    "Словарь — это пример хранилища значений ключей, также известного как Mapping в Python.\n",
    "Он позволяет хранить и извлекать элементы, ссылаясь на ключ. Так как словари ссылаются по ключу, в них быстро работает поиск, поскольку они в основном используются для ссылки на элементы по ключу и они не сортируются."
   ]
  },
  {
   "cell_type": "code",
   "execution_count": null,
   "metadata": {},
   "outputs": [],
   "source": [
    "d1 = dict()\n",
    "print(type(d1))\n",
    "\n",
    "d2 = {}\n",
    "print(type(d2))"
   ]
  },
  {
   "cell_type": "code",
   "execution_count": null,
   "metadata": {},
   "outputs": [],
   "source": [
    "d1 = dict(Ivan=\"manager\", Mark=\"worker\")\n",
    "print(d1)\n",
    "\n",
    "d2 = {\"A1\": \"123\", \"A2\": \"456\"}\n",
    "print(d2)\n",
    "\n",
    "gender_dict = {0: 'муж', 1: 'жен'}\n",
    "print(gender_dict)\n",
    "\n",
    "dict_one = {1: \"one\", 5: \"five\"}\n",
    "print(dict_one)"
   ]
  },
  {
   "cell_type": "markdown",
   "metadata": {},
   "source": [
    "### В качестве ключа могут быть только переменные хешируемого типа (неизменяемый тип данных).\n",
    "Хеш (он же хеш-код) — это, обычно, число, которое генерируется на основании содержимого объекта с помощью функции свертки."
   ]
  },
  {
   "cell_type": "code",
   "execution_count": null,
   "metadata": {},
   "outputs": [],
   "source": [
    "print(hash(10))\n",
    "print(hash('10'))\n",
    "print(hash('Hello world'))\n",
    "print(hash('Hello World'))\n",
    "print(hash((1, 5)))"
   ]
  },
  {
   "cell_type": "code",
   "execution_count": null,
   "metadata": {},
   "outputs": [],
   "source": [
    "id('Hello world')\n"
   ]
  },
  {
   "cell_type": "code",
   "execution_count": null,
   "metadata": {},
   "outputs": [],
   "source": [
    "print(hash([1, 5])) # error"
   ]
  },
  {
   "cell_type": "code",
   "execution_count": null,
   "metadata": {},
   "outputs": [],
   "source": [
    "a = dict_one[1]\n",
    "print(a)\n",
    "\n",
    "print(d2[\"A2\"])"
   ]
  },
  {
   "cell_type": "code",
   "execution_count": null,
   "metadata": {},
   "outputs": [],
   "source": [
    "a = dict_one[2] # error"
   ]
  },
  {
   "cell_type": "markdown",
   "metadata": {},
   "source": [
    "### Вложенные структуры"
   ]
  },
  {
   "cell_type": "code",
   "execution_count": null,
   "metadata": {},
   "outputs": [],
   "source": [
    "human = {\"name\": \"Alexander\",\n",
    "        \"lastname\": \"Block\",\n",
    "        \"age\": 36,\n",
    "         \"address\":\n",
    "             {\"street\": \"Lomonosova\",\n",
    "              \"house\": 87,\n",
    "              \"flat\": 705}\n",
    "}\n",
    "\n",
    "house = human[\"address\"][\"house\"]\n",
    "print(house)\n",
    "\n",
    "human[\"address\"][\"flat\"] = 700\n",
    "print(human)\n",
    "# Как развернуть вложенность? Об этом в конце."
   ]
  },
  {
   "cell_type": "code",
   "execution_count": null,
   "metadata": {},
   "outputs": [],
   "source": [
    "a = [{\"name\": \"Alexander\", \"lastname\": \"Block\", \"age\": 36}, \n",
    "     {\"name\": \"Bob\", \"lastname\": \"Young\",  \"age\": 25}\n",
    "    ]"
   ]
  },
  {
   "cell_type": "markdown",
   "metadata": {},
   "source": [
    "### Добавление и обновление элемента"
   ]
  },
  {
   "cell_type": "code",
   "execution_count": null,
   "metadata": {},
   "outputs": [],
   "source": [
    "print(dict_one)\n",
    "dict_one[1] = 'ONE'\n",
    "print(dict_one)\n",
    "\n",
    "dict_one[2] = 'Two'\n",
    "print(dict_one)"
   ]
  },
  {
   "cell_type": "code",
   "execution_count": null,
   "metadata": {},
   "outputs": [],
   "source": [
    "print(d2)\n",
    "del d2[\"A1\"]\n",
    "print(d2)"
   ]
  },
  {
   "cell_type": "markdown",
   "metadata": {},
   "source": [
    "#### Проверка наличия ключа в словаре"
   ]
  },
  {
   "cell_type": "code",
   "execution_count": null,
   "metadata": {},
   "outputs": [],
   "source": [
    "print(d1)\n",
    "print(\"Ivan\" in d1)\n",
    "print(\"Iva\" in d1)"
   ]
  },
  {
   "cell_type": "markdown",
   "metadata": {},
   "source": [
    "## Методы словарей"
   ]
  },
  {
   "cell_type": "markdown",
   "metadata": {},
   "source": [
    "### *clear()* - очищает словарь."
   ]
  },
  {
   "cell_type": "code",
   "execution_count": null,
   "metadata": {},
   "outputs": [],
   "source": [
    "d2 = {\"A1\":\"123\", \"A2\":\"456\"}\n",
    "print(d2)\n",
    "\n",
    "d2.clear()\n",
    "print('clear', d2)\n",
    "\n",
    "# d2 = {}"
   ]
  },
  {
   "cell_type": "markdown",
   "metadata": {},
   "source": [
    "### *copy()* - возвращает копию словаря."
   ]
  },
  {
   "cell_type": "code",
   "execution_count": null,
   "metadata": {},
   "outputs": [],
   "source": [
    "d2 = {\"A1\":\"123\", \"A2\":\"456\"}\n",
    "d3 = d2.copy()\n",
    "print(d3)\n",
    "\n",
    "d3[\"A1\"] = \"789\"\n",
    "print(d2)\n",
    "print(d3)\n"
   ]
  },
  {
   "cell_type": "code",
   "execution_count": null,
   "metadata": {},
   "outputs": [],
   "source": [
    "d2 = {\"A1\": {1: \"one\", 5: \"five\"}, \"A2\":\"456\"}\n",
    "d3 = d2.copy()\n",
    "print(id(d2))\n",
    "print(id(d3))\n",
    "print('d3 ->', d3)\n",
    "\n",
    "d3[\"A1\"][1] = \"789\"\n",
    "print('d2 ->', d2)\n",
    "print('d3 ->', d3)"
   ]
  },
  {
   "cell_type": "code",
   "execution_count": null,
   "metadata": {},
   "outputs": [],
   "source": [
    "import copy\n",
    "\n",
    "d2 = {\"A1\":{1: \"one\", 5: \"five\"}, \"A2\":\"456\"}\n",
    "d3 = copy.deepcopy(d2)\n",
    "print('d3 ->', d3)\n",
    "\n",
    "d3[\"A1\"][1] = \"789\"\n",
    "print('d2 ->', d2)\n",
    "print('d3 ->', d3)"
   ]
  },
  {
   "cell_type": "markdown",
   "metadata": {},
   "source": [
    "### *fromkeys(seq[, value])* - создает словарь с ключами из seq и значением value (по умолчанию None)."
   ]
  },
  {
   "cell_type": "code",
   "execution_count": null,
   "metadata": {},
   "outputs": [],
   "source": [
    "my_new_dict = dict.fromkeys(['one', 'two', 3])\n",
    "print(my_new_dict)\n",
    "\n",
    "my_new_dict = dict.fromkeys(['one', 'two', 3], 10)\n",
    "print(my_new_dict)"
   ]
  },
  {
   "cell_type": "code",
   "execution_count": null,
   "metadata": {},
   "outputs": [],
   "source": [
    "# Ошибочная попытка инициализировать все элементы пустыми списками.\n",
    "my_new_dict = dict.fromkeys([1, 2, 3], [])\n",
    "print(my_new_dict)\n"
   ]
  },
  {
   "cell_type": "code",
   "execution_count": null,
   "metadata": {},
   "outputs": [],
   "source": [
    "my_new_dict[1].append('added')\n",
    "print(my_new_dict)"
   ]
  },
  {
   "cell_type": "code",
   "execution_count": null,
   "metadata": {},
   "outputs": [],
   "source": [
    "# Правильный вариант, но без fromkeys:\n",
    "my_new_dict = {}\n",
    "for key in [1, 2, 3]:\n",
    "    my_new_dict[key] =  []\n",
    "\n",
    "my_new_dict[1].append('added')\n",
    "print(my_new_dict)\n"
   ]
  },
  {
   "cell_type": "code",
   "execution_count": null,
   "metadata": {
    "scrolled": true
   },
   "outputs": [],
   "source": [
    "# Создание словаря с помощью генераторного выражения\n",
    "my_new_dict = {key: [] for key in [1, 2, 3] }\n",
    "my_new_dict[1].append('added')\n",
    "print(my_new_dict)"
   ]
  },
  {
   "cell_type": "markdown",
   "metadata": {},
   "source": [
    "### *get(key)* - возвращает значение ключа, но если его нет, не бросает исключение, а возвращает default (по умолчанию None)."
   ]
  },
  {
   "cell_type": "code",
   "execution_count": null,
   "metadata": {},
   "outputs": [],
   "source": [
    "d2 = {\"A1\":{1: \"one\", 5: \"five\"}, \"A2\":\"456\"}\n",
    "d2[4]"
   ]
  },
  {
   "cell_type": "code",
   "execution_count": null,
   "metadata": {},
   "outputs": [],
   "source": [
    "\n",
    "print(d2.get('A2'))\n",
    "\n",
    "print(d2.get('A5'))\n"
   ]
  },
  {
   "cell_type": "code",
   "execution_count": null,
   "metadata": {},
   "outputs": [],
   "source": [
    "print(d2.get('A5', {})) # значение по умолчанию\n",
    "\n",
    "print(d2)"
   ]
  },
  {
   "cell_type": "code",
   "execution_count": null,
   "metadata": {},
   "outputs": [],
   "source": [
    "x = d2[\"A1\"][1]\n",
    "print(x)"
   ]
  },
  {
   "cell_type": "code",
   "execution_count": null,
   "metadata": {
    "scrolled": true
   },
   "outputs": [],
   "source": [
    "y = d2.get('A5')\n",
    "z = y[1]"
   ]
  },
  {
   "cell_type": "code",
   "execution_count": null,
   "metadata": {},
   "outputs": [],
   "source": [
    "y = d2.get('A5', {})\n",
    "z = y[1]"
   ]
  },
  {
   "cell_type": "code",
   "execution_count": null,
   "metadata": {},
   "outputs": [],
   "source": [
    "y = d2.get('A5', {})\n",
    "z = y.get(1)\n",
    "print(z)"
   ]
  },
  {
   "cell_type": "code",
   "execution_count": null,
   "metadata": {},
   "outputs": [],
   "source": [
    "z = d2.get('address', {}).get('home', 0)\n",
    "# if 'A5' in d2:\n",
    "#     if 1 in d2['A5']:\n",
    "#         z = d2[\"A5\"][1]"
   ]
  },
  {
   "cell_type": "markdown",
   "metadata": {},
   "source": [
    "### *items()* - возвращает пары (ключ, значение)."
   ]
  },
  {
   "cell_type": "code",
   "execution_count": null,
   "metadata": {},
   "outputs": [],
   "source": [
    "student = {\"name\": \"Alexander\", \"lastname\": \"Ts\", \"age\": 36, \"group\": \"PN121\"}\n",
    "print(student.items())\n"
   ]
  },
  {
   "cell_type": "code",
   "execution_count": null,
   "metadata": {},
   "outputs": [],
   "source": [
    "lst = student.items() # Это списко-подобный элемент\n",
    "lst[0]"
   ]
  },
  {
   "cell_type": "code",
   "execution_count": null,
   "metadata": {},
   "outputs": [],
   "source": [
    "a = student.get('address', {})\n",
    "print(a.items())"
   ]
  },
  {
   "cell_type": "code",
   "execution_count": null,
   "metadata": {
    "scrolled": true
   },
   "outputs": [],
   "source": [
    "for key, val in student.items():\n",
    "    print(f'Key: {key}, value: {val}')"
   ]
  },
  {
   "cell_type": "code",
   "execution_count": null,
   "metadata": {},
   "outputs": [],
   "source": [
    "for pair in student.items():\n",
    "    print(f'Key: {pair[0]}, value: {pair[1]}')"
   ]
  },
  {
   "cell_type": "markdown",
   "metadata": {},
   "source": [
    "### *keys()* - возвращает ключи в словаре."
   ]
  },
  {
   "cell_type": "code",
   "execution_count": null,
   "metadata": {},
   "outputs": [],
   "source": [
    "# Это списко-подобный элемент\n",
    "print(student.keys())\n"
   ]
  },
  {
   "cell_type": "code",
   "execution_count": null,
   "metadata": {},
   "outputs": [],
   "source": [
    "lst = student.keys()\n",
    "print(lst[0]) # error"
   ]
  },
  {
   "cell_type": "code",
   "execution_count": null,
   "metadata": {},
   "outputs": [],
   "source": [
    "print(list(lst)[0])"
   ]
  },
  {
   "cell_type": "code",
   "execution_count": null,
   "metadata": {},
   "outputs": [],
   "source": [
    "for key in student:\n",
    "    print(f'Key: {key}, value:{student[key]}')"
   ]
  },
  {
   "cell_type": "markdown",
   "metadata": {},
   "source": [
    "### *values()* - возвращает значения в словаре."
   ]
  },
  {
   "cell_type": "code",
   "execution_count": null,
   "metadata": {},
   "outputs": [],
   "source": [
    "print(student.values())\n",
    "# Это тоже списко подобный элемент, как и для keys(). Действия аналогичные"
   ]
  },
  {
   "cell_type": "markdown",
   "metadata": {},
   "source": [
    "### *pop(key[, default])*"
   ]
  },
  {
   "cell_type": "code",
   "execution_count": null,
   "metadata": {},
   "outputs": [],
   "source": [
    "d = {\"A1\":\"123\", \"A2\":\"456\"}\n",
    "a = d.pop(\"A1\")\n",
    "\n",
    "print(d, a)"
   ]
  },
  {
   "cell_type": "code",
   "execution_count": null,
   "metadata": {},
   "outputs": [],
   "source": [
    "a = d.pop(\"A1\") #error\n"
   ]
  },
  {
   "cell_type": "code",
   "execution_count": null,
   "metadata": {},
   "outputs": [],
   "source": [
    "a = d.pop(\"A1\", None) # Значение по умолчанию, ошибки не будет\n",
    "print(a)"
   ]
  },
  {
   "cell_type": "markdown",
   "metadata": {},
   "source": [
    "### *popitem()*  - удаляет и возвращает пару (ключ, значение). Если словарь пуст, бросает исключение KeyError. Помните, что словари неупорядочены.\n"
   ]
  },
  {
   "cell_type": "code",
   "execution_count": null,
   "metadata": {},
   "outputs": [],
   "source": [
    "d = {\"A1\":\"123\", \"A2\":\"456\"}\n",
    "k, v = d.popitem()\n",
    "print(k, v)\n",
    "print(d)"
   ]
  },
  {
   "cell_type": "code",
   "execution_count": null,
   "metadata": {
    "pycharm": {
     "name": "#%%\n"
    }
   },
   "outputs": [],
   "source": [
    "\n",
    "k, v = d.popitem()\n",
    "print(d)"
   ]
  },
  {
   "cell_type": "code",
   "execution_count": null,
   "metadata": {
    "scrolled": true
   },
   "outputs": [],
   "source": [
    "k, v = d.popitem() # Ошибка KeyError, если словарь уже пустой"
   ]
  },
  {
   "cell_type": "code",
   "execution_count": null,
   "metadata": {},
   "outputs": [],
   "source": [
    "k, v = d.popitem(None) # TypeError: popitem() takes no arguments (1 given)"
   ]
  },
  {
   "cell_type": "markdown",
   "metadata": {},
   "source": [
    "### *setdefault(key[, default])*  - возвращает значение ключа, но если его нет, не бросает исключение, а создает ключ со значением default (по умолчанию None)."
   ]
  },
  {
   "cell_type": "code",
   "execution_count": null,
   "metadata": {},
   "outputs": [],
   "source": [
    "# Необходимо посчитать количество повторений каждого числа в списке\n",
    "dict_one = {}\n",
    "l = [1, 2, 3, 6, 3, 1, 7]\n",
    "for i in l:\n",
    "    count = dict_one.get(i)\n",
    "    if count:\n",
    "        dict_one[i] = count + 1\n",
    "    else:\n",
    "        dict_one[i] = 1\n",
    "# словарь, в котором ключами являются элементы списка, а значениями то,\n",
    "# сколько раз они встречались в списке\n",
    "print(dict_one)"
   ]
  },
  {
   "cell_type": "code",
   "execution_count": null,
   "metadata": {},
   "outputs": [],
   "source": [
    "dict_one = {}\n",
    "l = [1, 2, 3, 6, 3, 1, 7]\n",
    "for i in l:\n",
    "    dict_one.setdefault(i, 0)\n",
    "    dict_one[i] += 1 # dict_one[i] = dict_one[i] + 1\n",
    "\n",
    "print(dict_one)"
   ]
  },
  {
   "cell_type": "code",
   "execution_count": null,
   "metadata": {},
   "outputs": [],
   "source": [
    "dict_one = {}\n",
    "l = [1, 2, 3, 6, 3, 1, 7]\n",
    "for i in l:\n",
    "    # dict_one.setdefault(i, 0)\n",
    "    dict_one[i] = dict_one[i] + 1 # KeyError\n",
    "\n",
    "print(dict_one)"
   ]
  },
  {
   "cell_type": "markdown",
   "metadata": {},
   "source": [
    "### *update([other])* обновляет словарь, добавляя пары (ключ, значение) из other. Существующие ключи перезаписываются. Возвращает None (не новый словарь!)."
   ]
  },
  {
   "cell_type": "code",
   "execution_count": null,
   "metadata": {},
   "outputs": [],
   "source": [
    "student = {\"name\": \"Alexander\", \"lastname\": \"Ts\", \"age\": 36, \"group\": \"PN121\"}\n",
    "address = {\"address\":\n",
    "             {\"street\": \"Lomonosova\",\n",
    "              \"house\": 87,\n",
    "              \"flat\": 705}\n",
    "          }\n",
    "student.update(address)\n",
    "print(student)"
   ]
  },
  {
   "cell_type": "code",
   "execution_count": null,
   "metadata": {},
   "outputs": [],
   "source": [
    "student = {\"name\": \"Alexander\", \"lastname\": \"Ts\", \"age\": 36, \"group\": \"PN121\"}\n",
    "address = {\"address\":\n",
    "             {\"street\": \"Lomonosova\",\n",
    "              \"house\": 87,\n",
    "              \"flat\": 705}\n",
    "          }\n",
    "student.update(address)\n",
    "student['address'].update({\"house\": 86, \"flat\": 76})\n",
    "print(student)"
   ]
  },
  {
   "cell_type": "code",
   "execution_count": null,
   "metadata": {},
   "outputs": [],
   "source": [
    "student.update({\"name\": \"Bob\", \"lastname\": \"Nolan\", \"address\": ''})\n",
    "print(student)"
   ]
  },
  {
   "cell_type": "code",
   "execution_count": null,
   "metadata": {
    "pycharm": {
     "name": "#%%\n"
    }
   },
   "outputs": [],
   "source": [
    "# Начиная с версии 3.5, можно надеяться на порядок добавления ключей\n",
    "dct = {}\n",
    "dct['a'] = 1\n",
    "dct['b'] = 2\n",
    "dct['c'] = 3\n",
    "dct['d'] = 4\n",
    "for k in dct:\n",
    "    print(k)"
   ]
  },
  {
   "cell_type": "markdown",
   "metadata": {},
   "source": [
    "## OrderedDict\n",
    "#### ещё один похожий на словарь объект, но он помнит порядок, в котором ему были даны ключи."
   ]
  },
  {
   "cell_type": "markdown",
   "metadata": {
    "pycharm": {
     "name": "#%% md\n"
    }
   },
   "source": [
    "#### Методы в основном как и у обычного словаря, но есть несколько особенных"
   ]
  },
  {
   "cell_type": "markdown",
   "metadata": {
    "pycharm": {
     "name": "#%% md\n"
    }
   },
   "source": [
    "**popitem**(last=True) - удаляет последний элемент если `last=True`, и первый,\n",
    "если `last=False`."
   ]
  },
  {
   "cell_type": "code",
   "execution_count": null,
   "metadata": {
    "pycharm": {
     "name": "#%%\n"
    }
   },
   "outputs": [],
   "source": [
    "from   collections import OrderedDict\n",
    "d = {'banana': 3, 'apple': 4, 'pear': 1, 'orange': 2}\n",
    "dct = OrderedDict(sorted(d.items(), key=lambda t: t[1]))\n",
    "print(dct)\n",
    "dct = OrderedDict(sorted(d.items(), key=lambda t: t[0]))\n",
    "print(dct)"
   ]
  },
  {
   "cell_type": "code",
   "execution_count": null,
   "metadata": {
    "pycharm": {
     "name": "#%%\n"
    }
   },
   "outputs": [],
   "source": [
    "dct"
   ]
  },
  {
   "cell_type": "code",
   "execution_count": null,
   "metadata": {
    "pycharm": {
     "name": "#%%\n"
    }
   },
   "outputs": [],
   "source": [
    "dct.popitem()"
   ]
  },
  {
   "cell_type": "code",
   "execution_count": null,
   "metadata": {
    "pycharm": {
     "name": "#%%\n"
    },
    "scrolled": true
   },
   "outputs": [],
   "source": [
    "dct.popitem(last=False)"
   ]
  },
  {
   "cell_type": "code",
   "execution_count": null,
   "metadata": {},
   "outputs": [],
   "source": [
    "print(dct)"
   ]
  },
  {
   "cell_type": "markdown",
   "metadata": {},
   "source": [
    "**move_to_end**(key, last=True) - перемещает ключ в конец если last=True, и в начало, если last=False."
   ]
  },
  {
   "cell_type": "code",
   "execution_count": null,
   "metadata": {
    "pycharm": {
     "name": "#%%\n"
    }
   },
   "outputs": [],
   "source": [
    "dct['apple'] = 1\n",
    "print(dct)"
   ]
  },
  {
   "cell_type": "code",
   "execution_count": null,
   "metadata": {},
   "outputs": [],
   "source": [
    "dct.move_to_end('banana')\n",
    "print(dct)"
   ]
  },
  {
   "cell_type": "code",
   "execution_count": null,
   "metadata": {
    "pycharm": {
     "name": "#%%\n"
    }
   },
   "outputs": [],
   "source": [
    "dct.move_to_end('apple', last=False)\n",
    "print(dct)"
   ]
  },
  {
   "cell_type": "markdown",
   "metadata": {},
   "source": [
    "## defaultdict\n",
    "ничем не отличается от обычного словаря за исключением того, что по умолчанию\n",
    "всегда вызывается функция, возвращающая значение"
   ]
  },
  {
   "cell_type": "code",
   "execution_count": null,
   "metadata": {
    "pycharm": {
     "name": "#%%\n"
    }
   },
   "outputs": [],
   "source": [
    "from collections import defaultdict\n",
    "defdict = defaultdict(list)\n",
    "print(defdict)"
   ]
  },
  {
   "cell_type": "code",
   "execution_count": null,
   "metadata": {
    "pycharm": {
     "name": "#%%\n"
    }
   },
   "outputs": [],
   "source": [
    "for i in range(5):\n",
    "    defdict[i].append(i * 5)\n",
    "\n",
    "print(defdict)\n"
   ]
  },
  {
   "cell_type": "code",
   "execution_count": null,
   "metadata": {},
   "outputs": [],
   "source": [
    "dict_one = {}\n",
    "\n",
    "for i in range(5):\n",
    "    dict_one.setdefault(i, [])\n",
    "    dict_one[i].append(i * 5)\n",
    "print(dict_one)"
   ]
  },
  {
   "cell_type": "markdown",
   "metadata": {},
   "source": [
    "### Преобразования словаря из вложенной структуры, в плоскую."
   ]
  },
  {
   "cell_type": "code",
   "execution_count": null,
   "metadata": {
    "pycharm": {
     "name": "#%%\n"
    }
   },
   "outputs": [],
   "source": [
    "dct = {\n",
    "    'a': 1,\n",
    "    'c': {\n",
    "        'a': 2,\n",
    "        'b': {\n",
    "            'x': 3,\n",
    "            'y': 4,\n",
    "            'z': 5}\n",
    "    },\n",
    "    'd': [6, 7, 8]\n",
    "}"
   ]
  },
  {
   "cell_type": "code",
   "execution_count": null,
   "metadata": {},
   "outputs": [],
   "source": [
    "dct['c']['b']['x']\n"
   ]
  },
  {
   "cell_type": "markdown",
   "metadata": {},
   "source": [
    "#### Есть несколько способов, но поскольку мы ещё многого не знаем, рассмотрим только один - с помощью flatdict"
   ]
  },
  {
   "cell_type": "code",
   "execution_count": null,
   "metadata": {
    "pycharm": {
     "is_executing": true,
     "name": "#%%\n"
    }
   },
   "outputs": [],
   "source": [
    "# pip install flatdict"
   ]
  },
  {
   "cell_type": "code",
   "execution_count": null,
   "metadata": {
    "pycharm": {
     "is_executing": true,
     "name": "#%%\n"
    }
   },
   "outputs": [],
   "source": [
    "import flatdict\n",
    "d =  flatdict.FlatDict(dct, delimiter='.')  #  delimiter=':' by default"
   ]
  },
  {
   "cell_type": "code",
   "execution_count": null,
   "metadata": {
    "pycharm": {
     "name": "#%%\n"
    }
   },
   "outputs": [],
   "source": [
    "d"
   ]
  },
  {
   "cell_type": "code",
   "execution_count": null,
   "metadata": {
    "pycharm": {
     "name": "#%%\n"
    }
   },
   "outputs": [],
   "source": [
    "d['c.b.x']\n"
   ]
  },
  {
   "cell_type": "code",
   "execution_count": null,
   "metadata": {
    "pycharm": {
     "name": "#%%\n"
    }
   },
   "outputs": [],
   "source": [
    "d['c']['b']['y']"
   ]
  },
  {
   "cell_type": "code",
   "execution_count": null,
   "metadata": {
    "pycharm": {
     "name": "#%%\n"
    }
   },
   "outputs": [],
   "source": [
    "dict(d)"
   ]
  },
  {
   "cell_type": "markdown",
   "metadata": {},
   "source": [
    "### Калькулятор на основе словаря"
   ]
  },
  {
   "cell_type": "code",
   "execution_count": null,
   "metadata": {
    "pycharm": {
     "name": "#%%\n"
    }
   },
   "outputs": [],
   "source": [
    "import operator\n",
    "actions = {\n",
    "    \"+\": operator.add,\n",
    "    \"-\": operator.sub,\n",
    "    \"*\": operator.mul,\n",
    "    \"/\": operator.truediv,\n",
    "    \"//\": operator.floordiv,\n",
    "    \"%\": operator.mod,\n",
    "    \"**\": operator.pow,\n",
    "}\n",
    "x = float(input('Type X: '))\n",
    "action = input('Type Action: ')\n",
    "y = float(input('Type Y: '))\n",
    "if y == 0.0 and action in ['/', '//', '%']:\n",
    "    print('Error. Division by zero!')\n",
    "else:\n",
    "    action = actions.get(action)\n",
    "    if not action:\n",
    "        print('Not supported action')\n",
    "    else:\n",
    "        print(action(x, y))\n"
   ]
  }
 ],
 "metadata": {
  "kernelspec": {
   "display_name": "Python 3 (ipykernel)",
   "language": "python",
   "name": "python3"
  },
  "language_info": {
   "codemirror_mode": {
    "name": "ipython",
    "version": 3
   },
   "file_extension": ".py",
   "mimetype": "text/x-python",
   "name": "python",
   "nbconvert_exporter": "python",
   "pygments_lexer": "ipython3",
   "version": "3.8.10"
  }
 },
 "nbformat": 4,
 "nbformat_minor": 2
}
