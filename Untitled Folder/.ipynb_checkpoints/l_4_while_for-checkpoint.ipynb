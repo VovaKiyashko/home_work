{
 "cells": [
  {
   "cell_type": "markdown",
   "metadata": {
    "pycharm": {
     "name": "#%% md\n"
    }
   },
   "source": [
    "# Циклы\n"
   ]
  },
  {
   "cell_type": "markdown",
   "metadata": {
    "pycharm": {
     "name": "#%% md\n"
    }
   },
   "source": [
    "**Цикл** — разновидность управляющей конструкции в высокоуровневых языках программирования,\n",
    "предназначенная для организации многократного исполнения набора инструкций.\n",
    "Последовательность инструкций, предназначенная для многократного исполнения, называется **телом цикла**.\n",
    "Единичное выполнение тела цикла называется **итерацией**.\n",
    "Выражение, определяющее, будет в очередной раз выполняться итерация, или цикл завершится, называется\n",
    "**условием выхода** или **условием окончания цикла** (либо условием продолжения в зависимости от того, как\n",
    "интерпретируется его истинность — как признак необходимости завершения или продолжения цикла).\n"
   ]
  },
  {
   "cell_type": "markdown",
   "metadata": {
    "pycharm": {
     "name": "#%% md\n"
    }
   },
   "source": [
    "### Типы циклов в Python\n",
    "В Python существует два вида циклов:\n",
    "**while** -  используется в Python для неоднократного исполнения определенной инструкции до тех пор, пока заданное условие остается истинным..\n",
    "**for** - узкоспециализированная версия цикла. Предназначен для прохода по итерируемым последовательностям.\n"
   ]
  },
  {
   "cell_type": "markdown",
   "metadata": {
    "pycharm": {
     "name": "#%% md\n"
    }
   },
   "source": [
    "### Пример использования цикла while\n",
    "Предположим, что перед вами поставили задачу вывести на экран все числа от 1 до 10. Написать 10 строк с\n",
    "функцией print() явно не самый хороший выход. Так вот, когда нужно повторить какую-то\n",
    "последовательность операторов много раз, и используются циклы.\n"
   ]
  },
  {
   "cell_type": "code",
   "execution_count": null,
   "metadata": {},
   "outputs": [],
   "source": [
    "number = 1\n",
    "\n",
    "while number <= 10:\n",
    "    print(number)\n",
    "    number = number + 1\n",
    "print('End')"
   ]
  },
  {
   "cell_type": "code",
   "execution_count": null,
   "metadata": {},
   "outputs": [],
   "source": [
    "number\n"
   ]
  },
  {
   "cell_type": "markdown",
   "metadata": {
    "pycharm": {
     "name": "#%% md\n"
    }
   },
   "source": [
    "**continue** — прерывает текущую итерацию цикла и сразу переходит к следующей."
   ]
  },
  {
   "cell_type": "code",
   "execution_count": null,
   "metadata": {
    "scrolled": true
   },
   "outputs": [],
   "source": [
    "number = 0\n",
    "\n",
    "while number < 10:\n",
    "    number = number + 1 # До continue !!!!\n",
    "    if not number % 2: #  number % 2 == 0\n",
    "        continue\n",
    "    print(number)\n",
    "#     number = number + 1"
   ]
  },
  {
   "cell_type": "code",
   "execution_count": null,
   "metadata": {},
   "outputs": [],
   "source": [
    "bool([1])"
   ]
  },
  {
   "cell_type": "code",
   "execution_count": null,
   "metadata": {},
   "outputs": [],
   "source": [
    "lst = [1, 3, 5, 6]\n",
    "\n",
    "while lst:\n",
    "    print(len(lst), '---', lst.pop(0))\n",
    "print('OK')"
   ]
  },
  {
   "cell_type": "markdown",
   "metadata": {
    "pycharm": {
     "name": "#%% md\n"
    }
   },
   "source": [
    "**break** — прекращает выполнение цикла."
   ]
  },
  {
   "cell_type": "code",
   "execution_count": null,
   "metadata": {},
   "outputs": [],
   "source": [
    "number = 0\n",
    "\n",
    "while number <= 10:\n",
    "    number = number + 1\n",
    "    if number == 5:\n",
    "        break\n",
    "    print(number)\n",
    "print('End')"
   ]
  },
  {
   "cell_type": "code",
   "execution_count": null,
   "metadata": {},
   "outputs": [],
   "source": [
    "number = 0\n",
    "\n",
    "while True: # Если есть break то можно делать и так :)\n",
    "    number += 1\n",
    "    if number == 11:\n",
    "        break\n",
    "    print(number)"
   ]
  },
  {
   "cell_type": "code",
   "execution_count": null,
   "metadata": {
    "pycharm": {
     "name": "#%%\n"
    }
   },
   "outputs": [],
   "source": [
    "number = 0\n",
    "while number < 12: # continue и break в одном цикле\n",
    "    number = number + 1\n",
    "    if number == 5:\n",
    "        continue\n",
    "    if number == 11:\n",
    "        break\n",
    "    print(number)\n"
   ]
  },
  {
   "cell_type": "markdown",
   "metadata": {
    "pycharm": {
     "name": "#%% md\n"
    }
   },
   "source": [
    "### Дополнение блока while оператором else\n",
    "Как и условный оператор **if**, так и цикл **while** можно дополнить\n",
    "блоком **else**. Принцип работы такого оператора довольно интересен. Блок **else** выполнится лишь в том случае, если цикл\n",
    "завершится нормально. Если же цикл будет прерван с помощью оператора **break** или еще каким образом, то этот блок будет\n",
    "пропущен."
   ]
  },
  {
   "cell_type": "code",
   "execution_count": null,
   "metadata": {},
   "outputs": [],
   "source": [
    "# Проверка простоты числа с помощью цикла\n",
    "number = int(input(\"input positive number \"))\n",
    "i = 2\n",
    "while i < number:\n",
    "    if number % i == 0:\n",
    "        print(\"It is not a prime number\")\n",
    "        break\n",
    "    i = i + 1\n",
    "else: # выполнится, только если break в цикле не будет вызван.\n",
    "    print(\"It is a prime number\")"
   ]
  },
  {
   "cell_type": "markdown",
   "metadata": {
    "pycharm": {
     "name": "#%% md\n"
    }
   },
   "source": [
    "### Использование вложенных циклов while\n",
    "Как и условный оператор **if**, так и цикл **while** можно вложить внутрь другого цикла **while**. Получится цикл в цикле."
   ]
  },
  {
   "cell_type": "code",
   "execution_count": null,
   "metadata": {},
   "outputs": [],
   "source": [
    "# выведет на экран прямоугольник из символов «*».\n",
    "a = int(input(\"Input a \"))\n",
    "b = int(input(\"Input b \"))\n",
    "i = 0\n",
    "while i < a: # Высота\n",
    "    j = 0\n",
    "    while j < b: # ширина\n",
    "        print(\"*\", end='') # строка не будет переведена\n",
    "        j += 1\n",
    "    print()\n",
    "    i += 1"
   ]
  },
  {
   "cell_type": "markdown",
   "metadata": {
    "pycharm": {
     "name": "#%% md\n"
    }
   },
   "source": [
    "### Дополнительный параметр для функции print\n",
    "Функция **print** может принимать несколько необязательных параметров - *end* и *sep*.\n"
   ]
  },
  {
   "cell_type": "code",
   "execution_count": null,
   "metadata": {},
   "outputs": [],
   "source": [
    "print(1, 6, 9)"
   ]
  },
  {
   "cell_type": "code",
   "execution_count": null,
   "metadata": {
    "scrolled": true
   },
   "outputs": [],
   "source": [
    "print(1, 6, 9, sep=',', end='\\n ')\n",
    "print(4, 8, 1, sep='')"
   ]
  },
  {
   "cell_type": "markdown",
   "metadata": {
    "pycharm": {
     "name": "#%% md\n"
    }
   },
   "source": [
    "### Цикл for в Python\n",
    "\n",
    "**for** *`имя_итерационной_переменной`* **in** *`имя_списка`*:\n",
    "\n",
    "Операторы для работы с итерационной_переменной На каждой итерации такого цикла итерационная\n",
    "переменная принимает значение текущего элемента списка и будет сдвинута на следующий элемент во время следующей\n",
    "итерации. Таким образом этот цикл по очереди переберет все элементы списка.\n",
    " Перевести конструкцию с языка программирования на человеческий можно так:\n",
    " для каждого элемента в списке делать следующее (то, что в теле цикла).\n"
   ]
  },
  {
   "cell_type": "code",
   "execution_count": null,
   "metadata": {},
   "outputs": [],
   "source": [
    "# Доступ к элементам списка с помощью цикла while\n",
    "lst = [4, 6, 8, 7]\n",
    "i = 0\n",
    "while i < len(lst):\n",
    "    print(lst[i])\n",
    "    i += 1"
   ]
  },
  {
   "cell_type": "code",
   "execution_count": null,
   "metadata": {},
   "outputs": [],
   "source": [
    "# То же самое, но с помощью цикла for\n",
    "for l in lst:\n",
    "    print(l)"
   ]
  },
  {
   "cell_type": "code",
   "execution_count": null,
   "metadata": {},
   "outputs": [],
   "source": [
    "print(lst)\n",
    "for el in lst:\n",
    "    el = el + 5\n",
    "    print(el)"
   ]
  },
  {
   "cell_type": "code",
   "execution_count": null,
   "metadata": {},
   "outputs": [],
   "source": [
    "print(lst)"
   ]
  },
  {
   "cell_type": "code",
   "execution_count": null,
   "metadata": {
    "scrolled": false
   },
   "outputs": [],
   "source": [
    "i = 0\n",
    "for el in lst:\n",
    "    lst[i] = el + 5\n",
    "    print(el)\n",
    "    i += 1"
   ]
  },
  {
   "cell_type": "code",
   "execution_count": null,
   "metadata": {},
   "outputs": [],
   "source": [
    "print(lst)"
   ]
  },
  {
   "cell_type": "code",
   "execution_count": null,
   "metadata": {},
   "outputs": [],
   "source": [
    "lst = [4, 6, 8, 7]\n",
    "i = 0\n",
    "while i < len(lst):\n",
    "    lst[i] = lst[i] + 5\n",
    "    i += 1"
   ]
  },
  {
   "cell_type": "code",
   "execution_count": null,
   "metadata": {},
   "outputs": [],
   "source": [
    "print(lst)\n"
   ]
  },
  {
   "cell_type": "code",
   "execution_count": null,
   "metadata": {
    "scrolled": false
   },
   "outputs": [],
   "source": [
    "lst = [4, 6, 8, 7]\n",
    "for i, el in enumerate(lst):\n",
    "    lst[i] = el + 5\n",
    "    print(el)"
   ]
  },
  {
   "cell_type": "code",
   "execution_count": null,
   "metadata": {},
   "outputs": [],
   "source": [
    "print(lst)"
   ]
  },
  {
   "cell_type": "markdown",
   "metadata": {
    "pycharm": {
     "name": "#%% md\n"
    }
   },
   "source": [
    "### Генератор числовой последовательности *range*"
   ]
  },
  {
   "cell_type": "code",
   "execution_count": null,
   "metadata": {},
   "outputs": [],
   "source": [
    "range(10)\n"
   ]
  },
  {
   "cell_type": "code",
   "execution_count": null,
   "metadata": {},
   "outputs": [],
   "source": [
    "print(type(range(10)))"
   ]
  },
  {
   "cell_type": "code",
   "execution_count": null,
   "metadata": {
    "scrolled": true
   },
   "outputs": [],
   "source": [
    "list(range(10))"
   ]
  },
  {
   "cell_type": "code",
   "execution_count": null,
   "metadata": {},
   "outputs": [],
   "source": [
    "import sys\n",
    "sys.getsizeof(range(10_000_000))"
   ]
  },
  {
   "cell_type": "code",
   "execution_count": null,
   "metadata": {},
   "outputs": [],
   "source": [
    "sys.getsizeof(list(range(10000000)))"
   ]
  },
  {
   "cell_type": "code",
   "execution_count": null,
   "metadata": {},
   "outputs": [],
   "source": [
    "lst = [4, 6, 8, 7]\n",
    "for i in range(len(lst)):\n",
    "    lst[i] = lst[i] + 5\n",
    "lst"
   ]
  },
  {
   "cell_type": "code",
   "execution_count": null,
   "metadata": {},
   "outputs": [],
   "source": [
    "list(range(3, 10))"
   ]
  },
  {
   "cell_type": "code",
   "execution_count": null,
   "metadata": {},
   "outputs": [],
   "source": [
    "list(range(3, 10, 2))"
   ]
  },
  {
   "cell_type": "code",
   "execution_count": null,
   "metadata": {},
   "outputs": [],
   "source": [
    "list(range(-13, -10))"
   ]
  },
  {
   "cell_type": "code",
   "execution_count": null,
   "metadata": {},
   "outputs": [],
   "source": [
    "list(range(0, -10, -1))"
   ]
  },
  {
   "cell_type": "code",
   "execution_count": null,
   "metadata": {},
   "outputs": [],
   "source": [
    "list(range(0.5, 10.5)) # TypeError: 'float' object cannot be interpreted as an integer"
   ]
  },
  {
   "cell_type": "markdown",
   "metadata": {
    "pycharm": {
     "name": "#%% md\n"
    }
   },
   "source": [
    "#### заполнить список десятью случайными числами от 1 до 100 и посчитать их сумму."
   ]
  },
  {
   "cell_type": "code",
   "execution_count": null,
   "metadata": {},
   "outputs": [],
   "source": [
    "import random\n",
    "my_list = []\n",
    "\n",
    "for i in range(10):\n",
    "    my_list.append(random.randint(1,100))\n",
    "print(my_list)\n",
    "\n",
    "summa = 0\n",
    "for element in my_list:\n",
    "    summa += element\n",
    "print(summa)"
   ]
  },
  {
   "cell_type": "code",
   "execution_count": null,
   "metadata": {},
   "outputs": [],
   "source": [
    "my_list = [random.randint(1,100) for i in range(10)]\n",
    "print(my_list)"
   ]
  },
  {
   "cell_type": "code",
   "execution_count": null,
   "metadata": {},
   "outputs": [],
   "source": [
    "lst = [88, 13, 6, 79, 1, 19, 79, 17, 1, 70]\n",
    "y = 10\n",
    "# my_list = [i + random.randint(1,100) for i in lst]\n",
    "my_list = [i + y for i in lst]\n",
    "\n",
    "print(sum(my_list))"
   ]
  },
  {
   "cell_type": "markdown",
   "metadata": {
    "pycharm": {
     "name": "#%% md\n"
    }
   },
   "source": [
    "#### Модуль random\n",
    "Несколько основных методов"
   ]
  },
  {
   "cell_type": "code",
   "execution_count": null,
   "metadata": {
    "pycharm": {
     "name": "#%%\n"
    }
   },
   "outputs": [],
   "source": [
    "print(\"Вывод случайного числа от 0 до 1\")\n",
    "print(random.random())"
   ]
  },
  {
   "cell_type": "code",
   "execution_count": null,
   "metadata": {
    "pycharm": {
     "name": "#%%\n"
    }
   },
   "outputs": [],
   "source": [
    "print(\"Вывод случайного целого числа randint\")\n",
    "print( random.randint(0, 100))\n",
    "\n",
    "print(\"Вывод случайного целого числа randrange\")\n",
    "print(random.randrange(0, 500, 2))\n"
   ]
  },
  {
   "cell_type": "code",
   "execution_count": null,
   "metadata": {
    "pycharm": {
     "name": "#%%\n"
    },
    "scrolled": true
   },
   "outputs": [],
   "source": [
    "city_list = ['New York', 'Los Angeles', 'Chicago', 'Houston', 'Philadelphia']\n",
    "print(\"Выбор случайного города из списка \")\n",
    "print(random.choice(city_list))\n",
    "\n",
    "lst = [55, 66, 77, 88, 99]\n",
    "print(\"random.choice используется для выбора случайного элемента из списка - \")\n",
    "print(random.choice(lst))"
   ]
  },
  {
   "cell_type": "code",
   "execution_count": null,
   "metadata": {
    "pycharm": {
     "name": "#%%\n"
    }
   },
   "outputs": [],
   "source": [
    "lst = [2, 5, 8, 9, 12, 55, 66, 77, 88, 99]\n",
    "\n",
    "random.shuffle(lst)\n",
    "print (\"Вывод перемешанного списка \", lst)"
   ]
  },
  {
   "cell_type": "code",
   "execution_count": null,
   "metadata": {},
   "outputs": [],
   "source": [
    "random.shuffle(range(15)) # TypeError"
   ]
  },
  {
   "cell_type": "code",
   "execution_count": null,
   "metadata": {},
   "outputs": [],
   "source": [
    "# Пример создания и заполнения списка списков\n",
    "import random\n",
    "\n",
    "matrix = []\n",
    "for i in range(5):\n",
    "    col = []\n",
    "    for j in range(4):\n",
    "        col.append(random.randint(0,100))\n",
    "    matrix.append(col)\n",
    "print(matrix)"
   ]
  },
  {
   "cell_type": "code",
   "execution_count": null,
   "metadata": {},
   "outputs": [],
   "source": [
    "for lst in matrix:\n",
    "    print(lst)"
   ]
  },
  {
   "cell_type": "code",
   "execution_count": null,
   "metadata": {},
   "outputs": [],
   "source": [
    "matrix = [[random.randint(0, 100) for i in range(4)] for j in range(5)]\n",
    "print(matrix)\n"
   ]
  },
  {
   "cell_type": "code",
   "execution_count": null,
   "metadata": {
    "scrolled": false
   },
   "outputs": [],
   "source": [
    "# Плохая идея в цикле проходить по элементам списка и изменять его!\n",
    "lst = [56, 6, 8, 7]\n",
    "for i in range(len(lst)):\n",
    "    print(i , end=' ')\n",
    "    print(' -- ' , lst[i])\n",
    "    if lst[i] == 6:\n",
    "        _ = lst.pop(i)\n",
    "    print(lst[i])\n",
    "print(lst)"
   ]
  },
  {
   "cell_type": "code",
   "execution_count": null,
   "metadata": {},
   "outputs": [],
   "source": [
    "# Ошибки нет\n",
    "lst = [56, 6, 8, 7]\n",
    "for i in lst:\n",
    "    if i == 6:\n",
    "        lst.remove(6)\n",
    "    print(i)"
   ]
  },
  {
   "cell_type": "code",
   "execution_count": null,
   "metadata": {},
   "outputs": [],
   "source": [
    "i = 0\n",
    "lst = [56, 6, 8, 7]\n",
    "while i < 6:\n",
    "    for e in lst:\n",
    "        print(e + i, end=' ')\n",
    "    print()\n",
    "    i += 1\n",
    "    "
   ]
  }
 ],
 "metadata": {
  "kernelspec": {
   "display_name": "Python 3 (ipykernel)",
   "language": "python",
   "name": "python3"
  },
  "language_info": {
   "codemirror_mode": {
    "name": "ipython",
    "version": 3
   },
   "file_extension": ".py",
   "mimetype": "text/x-python",
   "name": "python",
   "nbconvert_exporter": "python",
   "pygments_lexer": "ipython3",
   "version": "3.8.10"
  }
 },
 "nbformat": 4,
 "nbformat_minor": 2
}
