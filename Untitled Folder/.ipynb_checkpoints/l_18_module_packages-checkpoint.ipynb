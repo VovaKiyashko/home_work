{
 "cells": [
  {
   "cell_type": "markdown",
   "metadata": {
    "pycharm": {
     "name": "#%% md\n"
    }
   },
   "source": [
    "## Модули и пакеты"
   ]
  },
  {
   "cell_type": "markdown",
   "metadata": {},
   "source": [
    "В книге **“Совершенный Код”** Стив Макконнелл формулирует главный технический императив программирования – это управление сложностью. Основная суть, которого заключается в том, что на каждом этапе разработки ПО мы должны прикладывать максимум усилий для того чтобы **сложность нашего проекта не “вышла из берегов”**.\n",
    "\n",
    "Показателем этого является возможность одновременно удержать в голове основные компоненты проекта на всех уровнях абстракции. В моделировании систем (да и не только там) выделят такой инструмент как **декомпозиция – разделение целого на части,** этот принцип является одним из наиболее часто используемых способов работать со сложностью.\n",
    "\n",
    "Декомпозицию можно делать на логическом и на физическом уровне. Для реализации последней цели (декомпозиция на физическом уровне) в программном проекте на Python могут служить модули и пакеты."
   ]
  },
  {
   "cell_type": "markdown",
   "metadata": {
    "pycharm": {
     "name": "#%%\n"
    }
   },
   "source": [
    "Модули и пакеты являются неотъемлемой частью модульного программирования - организации программы как совокупности небольших независимых блоков, структура и поведение которых подчиняются определенным правилам.\n",
    "\n",
    "Разработка программы как совокупности модулей позволяет:\n",
    "\n",
    "\n",
    " - упростить задачи проектирования программы и распределения процесса разработки между группами разработчиков;\n",
    "\n",
    "\n",
    " - предоставить возможность обновления (замены) модуля, без необходимости изменения остальной системы;\n",
    "\n",
    "\n",
    " - упростить тестирование программы;\n",
    "\n",
    "\n",
    " - упростить обнаружение ошибок.\n",
    "\n",
    "\n",
    "Программный код часто разбивается на несколько файлов, каждый из которых используется отдельно от остальных."
   ]
  },
  {
   "cell_type": "markdown",
   "metadata": {},
   "source": [
    "**Модуль** (англ. *Module*) - специальное средство языка программирования, позволяющее объединить вместе данные и функции и использовать их как одну функционально-законченную единицу (например, математический модуль, содержащий тригонометрические и прочие функции, константы , и т.д.)."
   ]
  },
  {
   "cell_type": "markdown",
   "metadata": {},
   "source": [
    "Модуль - отдельный файл с кодом на Python, содержащий функции и данные:\n",
    "\n",
    "\n",
    " - имеет расширение *.py (имя файла является именем модуля);\n",
    "\n",
    "\n",
    " - может быть импортирован (подключен) (директива import ...);\n",
    "\n",
    "\n",
    " - может быть многократно использован.\n",
    "\n"
   ]
  },
  {
   "cell_type": "code",
   "execution_count": null,
   "metadata": {},
   "outputs": [],
   "source": [
    "import math # Модуль, поскольку все, что есть в нем, содержится в одном файле."
   ]
  },
  {
   "cell_type": "code",
   "execution_count": null,
   "metadata": {},
   "outputs": [],
   "source": [
    "math.pi"
   ]
  },
  {
   "cell_type": "code",
   "execution_count": null,
   "metadata": {},
   "outputs": [],
   "source": [
    "import simplemath # модуль в корневом каталоге проекта\n",
    "\n",
    "print(simplemath.add(1, 2))\n",
    "print(simplemath.sub(1, 2))\n",
    "print(simplemath.mul(1, 2))\n",
    "print(simplemath.div(1, 2))"
   ]
  },
  {
   "cell_type": "code",
   "execution_count": null,
   "metadata": {},
   "outputs": [],
   "source": [
    "print(simplemath.x)"
   ]
  },
  {
   "cell_type": "code",
   "execution_count": null,
   "metadata": {
    "scrolled": true
   },
   "outputs": [],
   "source": [
    "box = simplemath.Box(2, 4, 7)\n",
    "print(box.get_volume())"
   ]
  },
  {
   "cell_type": "markdown",
   "metadata": {},
   "source": [
    "### Теже действия, но внутри файла (другого модуля) use_module.py"
   ]
  },
  {
   "cell_type": "code",
   "execution_count": null,
   "metadata": {},
   "outputs": [],
   "source": [
    "from simplemath import add # Если нам нужна только функция сложения\n",
    "\n",
    "print(add(1, 2))\n"
   ]
  },
  {
   "cell_type": "code",
   "execution_count": null,
   "metadata": {},
   "outputs": [],
   "source": [
    "print(sub(1, 2)) # NameError: name 'sub' is not defined\n"
   ]
  },
  {
   "cell_type": "markdown",
   "metadata": {},
   "source": [
    "#### О работе операторов import и from\n",
    "Как и оператор **import**, так и оператор **from** выполняются один раз. Все последующие вызовы уже не проводят вычитку из файла с байт кодом, а просто возвращают загруженный объект модуля.\n",
    "Также оба этих оператора являются операторами выполнения (они исполняются в момент выполнения программы, а не на этапе компиляции). Т.е. можно вызвать операцию импорта в условном операторе.\n",
    "Однако правилами оформления кода предписано помещать операторы импорта в начале файла."
   ]
  },
  {
   "cell_type": "markdown",
   "metadata": {},
   "source": [
    "#### Расширение операторов import и from с помощью оператора as\n",
    "Оба оператора (*import* и *from*) могут быть дополнены инструкцией **as**. Эта инструкция предназначена для того, чтобы дать иные имена импортируемым модулям.\n",
    "Ее синтаксис таков:\n",
    "\n",
    "***import module_name as new_name***\n",
    "\n",
    "Где:\n",
    "\n",
    "**module_name** — Имя импортируемого модуля\n",
    "\n",
    "**new_name** — Новое имя, которое получит объект импортируемого модуля\n",
    "\n",
    "Этот оператор используют для сокращения длинных имен модулей в короткие - удобные для последующего использования имена. Либо для случаев, когда из разных модулей, нужно импортировать что-то, что имеет одинаковое название (такое тоже бывает)"
   ]
  },
  {
   "cell_type": "code",
   "execution_count": null,
   "metadata": {},
   "outputs": [],
   "source": [
    "import datetime as dt"
   ]
  },
  {
   "cell_type": "code",
   "execution_count": null,
   "metadata": {},
   "outputs": [],
   "source": [
    "from math import pi as PI\n",
    "print(PI)"
   ]
  },
  {
   "cell_type": "code",
   "execution_count": null,
   "metadata": {},
   "outputs": [],
   "source": [
    "print(pi)"
   ]
  },
  {
   "cell_type": "markdown",
   "metadata": {},
   "source": [
    "### Пакеты \n",
    "**Пакеты** в Python - это способ структуризации модулей. Пакет представляет собой папку, в которой содержатся модули и другие пакеты и обязательный файл `__init.py__`, отвечающий за инициализацию пакета."
   ]
  },
  {
   "cell_type": "markdown",
   "metadata": {},
   "source": [
    "Посмотреть содержимое модуля или пакета и справку по нему возможно с помощью функций dir() и help():"
   ]
  },
  {
   "cell_type": "code",
   "execution_count": null,
   "metadata": {},
   "outputs": [],
   "source": [
    "import math\n",
    "\n",
    "dir(math)"
   ]
  },
  {
   "cell_type": "code",
   "execution_count": null,
   "metadata": {},
   "outputs": [],
   "source": [
    "help(math)"
   ]
  },
  {
   "cell_type": "markdown",
   "metadata": {},
   "source": [
    "Простейший пакет\n",
    "\n",
    "Давайте рассмотрим пример простейшего пакета. Пусть пакет состоит из каталога simple_package и модуля `__init__.py`\n",
    "\n",
    "Файл `__init__.py` содержит код:\n",
    "\n",
    "\n",
    "NAME = 'Super_package'"
   ]
  },
  {
   "cell_type": "markdown",
   "metadata": {},
   "source": [
    "Это, хотя и небольшой, но уже полноценный пакет. Его можно импортировать так же, как мы импортировали бы модуль:"
   ]
  },
  {
   "cell_type": "code",
   "execution_count": null,
   "metadata": {},
   "outputs": [],
   "source": [
    "import simple_package\n",
    "\n",
    "print(simple_package.NAME)\n"
   ]
  },
  {
   "cell_type": "markdown",
   "metadata": {},
   "source": [
    "Заметьте — мы не импортировали файл `__init__.py` непосредственно. При первом обращении к пакету Python автоматически импортирует модуль `__init__.py` в этом пакете. Поэтому, очевидно, нельзя импортировать \"просто каталог\" — ведь каталог без файла `__init__.py` не будет полноценным пакетом!"
   ]
  },
  {
   "cell_type": "markdown",
   "metadata": {},
   "source": [
    "Допустим, мы пишем пакет модулей для вычисления площадей и периметров фигур. Пакет будет состоять из двух модулей. В одном будут описаны классы двумерных фигур, в другом – трехмерных.\n",
    "\n",
    "Каталог-пакет назовем **geometry**. Один модуль – **planimetry.py**, другой – **stereometry.py**"
   ]
  },
  {
   "cell_type": "code",
   "execution_count": null,
   "metadata": {},
   "outputs": [],
   "source": [
    "import geometry.planimetry as pl\n",
    "import geometry.stereometry as st\n",
    "a = pl.Rectangle(3, 4)\n",
    "b = st.Ball(5)\n",
    "\n",
    "a.square()\n"
   ]
  },
  {
   "cell_type": "code",
   "execution_count": null,
   "metadata": {},
   "outputs": [],
   "source": [
    "b.volume()"
   ]
  },
  {
   "cell_type": "markdown",
   "metadata": {},
   "source": [
    "Если сделать импорт только пакета, то мы не сможем обращаться к модулям (Нужно это сделать в другом шелле или обновить ядро)"
   ]
  },
  {
   "cell_type": "code",
   "execution_count": null,
   "metadata": {},
   "outputs": [],
   "source": [
    "import geometry\n",
    "c = geometry.stereometry.Ball(7) # AttributeError: module 'geometry' has no attribute 'stereometry'\n",
    "\n",
    "c.volume()"
   ]
  },
  {
   "cell_type": "markdown",
   "metadata": {},
   "source": [
    "Но можно сделать по другому, добавить импорты в `__init__.py` и в переменную `__all__` в каждом модуле (new_geometry)"
   ]
  },
  {
   "cell_type": "code",
   "execution_count": 1,
   "metadata": {},
   "outputs": [],
   "source": [
    "from new_geometry import *\n",
    "\n",
    "b = Ball(7)\n",
    "a = Rectangle(3, 4)\n",
    "box = Box(1, 3, 6)"
   ]
  },
  {
   "cell_type": "code",
   "execution_count": null,
   "metadata": {},
   "outputs": [],
   "source": [
    "b.volume()"
   ]
  },
  {
   "cell_type": "code",
   "execution_count": null,
   "metadata": {},
   "outputs": [],
   "source": [
    "a.perimeter()"
   ]
  },
  {
   "cell_type": "code",
   "execution_count": null,
   "metadata": {},
   "outputs": [],
   "source": [
    "box.get_volume()"
   ]
  },
  {
   "cell_type": "code",
   "execution_count": 2,
   "metadata": {},
   "outputs": [
    {
     "ename": "NameError",
     "evalue": "name 'C' is not defined",
     "output_type": "error",
     "traceback": [
      "\u001b[0;31m---------------------------------------------------------------------------\u001b[0m",
      "\u001b[0;31mNameError\u001b[0m                                 Traceback (most recent call last)",
      "\u001b[0;32m/tmp/ipykernel_6523/463182946.py\u001b[0m in \u001b[0;36m<module>\u001b[0;34m\u001b[0m\n\u001b[0;32m----> 1\u001b[0;31m \u001b[0mC\u001b[0m\u001b[0;34m\u001b[0m\u001b[0;34m\u001b[0m\u001b[0m\n\u001b[0m",
      "\u001b[0;31mNameError\u001b[0m: name 'C' is not defined"
     ]
    }
   ],
   "source": [
    "C"
   ]
  },
  {
   "cell_type": "markdown",
   "metadata": {},
   "source": [
    "### Классификация\n",
    "\n",
    "Все модули/пакеты в Python можно разделить на 4 категории:\n",
    "\n"
   ]
  },
  {
   "cell_type": "markdown",
   "metadata": {},
   "source": [
    "#### 1. Встроенные (англ. Built-in).\n",
    "Модули, встроенные в язык и предоставляющие базовые возможности языка (написаны на языке Си).\n",
    "\n",
    "К встроенным относятся как модули общего назначения (например, math или random), так и плаиформозависимые модули (например, модуль winreg, предназначенный для работы с реестром ОС Windows, устанавливается только на соответствующей ОС).\n",
    "\n",
    "Список установленных встроенных модулей можно посмотреть следующим образом:"
   ]
  },
  {
   "cell_type": "code",
   "execution_count": 3,
   "metadata": {
    "scrolled": true
   },
   "outputs": [
    {
     "name": "stdout",
     "output_type": "stream",
     "text": [
      "('_abc', '_ast', '_bisect', '_blake2', '_codecs', '_collections', '_csv', '_datetime', '_elementtree', '_functools', '_heapq', '_imp', '_io', '_locale', '_md5', '_operator', '_pickle', '_posixsubprocess', '_random', '_sha1', '_sha256', '_sha3', '_sha512', '_signal', '_socket', '_sre', '_stat', '_statistics', '_string', '_struct', '_symtable', '_thread', '_tracemalloc', '_warnings', '_weakref', 'array', 'atexit', 'binascii', 'builtins', 'cmath', 'errno', 'faulthandler', 'fcntl', 'gc', 'grp', 'itertools', 'marshal', 'math', 'posix', 'pwd', 'pyexpat', 'select', 'spwd', 'sys', 'syslog', 'time', 'unicodedata', 'xxsubtype', 'zlib')\n"
     ]
    }
   ],
   "source": [
    "import sys\n",
    "print(sys.builtin_module_names)"
   ]
  },
  {
   "cell_type": "markdown",
   "metadata": {},
   "source": [
    "#### 2. Стандартная библиотека (англ. Standard Library).\n",
    "\n",
    "Модули и пакеты, написанные на Python, предоставляющие расширенные возможности, например, **json** или **os**.\n",
    "\n"
   ]
  },
  {
   "cell_type": "markdown",
   "metadata": {},
   "source": [
    "#### 3. Сторонние (англ. 3rd Party).\n",
    "\n",
    "Модули и пакеты, которые не входят в дистрибутив Python, и могут быть установлены из каталога пакетов Python (англ. PyPI - the Python Package Index, более 90.000 пакетов) с помощью утилиты pip:"
   ]
  },
  {
   "cell_type": "code",
   "execution_count": 4,
   "metadata": {
    "scrolled": true
   },
   "outputs": [
    {
     "name": "stdout",
     "output_type": "stream",
     "text": [
      "Package               Version\n",
      "--------------------- --------------------\n",
      "appdirs               1.4.3\n",
      "apt-clone             0.2.1\n",
      "apturl                0.5.2\n",
      "argon2-cffi           20.1.0\n",
      "async-generator       1.10\n",
      "attrs                 21.2.0\n",
      "backcall              0.2.0\n",
      "beautifulsoup4        4.8.2\n",
      "bleach                4.0.0\n",
      "blinker               1.4\n",
      "Brlapi                0.7.0\n",
      "certifi               2019.11.28\n",
      "cffi                  1.14.6\n",
      "chardet               3.0.4\n",
      "Click                 7.0\n",
      "colorama              0.4.3\n",
      "command-not-found     0.3\n",
      "configobj             5.0.6\n",
      "cryptography          2.8\n",
      "cupshelpers           1.0\n",
      "dbus-python           1.2.16\n",
      "debugpy               1.4.1\n",
      "decorator             5.0.9\n",
      "defer                 1.0.6\n",
      "defusedxml            0.7.1\n",
      "distlib               0.3.0\n",
      "distro                1.4.0\n",
      "entrypoints           0.3\n",
      "filelock              3.0.12\n",
      "flatdict              4.0.1\n",
      "grpcio                1.16.1\n",
      "httplib2              0.14.0\n",
      "idna                  2.8\n",
      "ifaddr                0.1.6\n",
      "IMDbPY                6.8\n",
      "importlib-metadata    1.5.0\n",
      "ipykernel             6.0.3\n",
      "ipython               7.26.0\n",
      "ipython-genutils      0.2.0\n",
      "ipywidgets            7.6.3\n",
      "jedi                  0.18.0\n",
      "Jinja2                3.0.1\n",
      "jsonschema            3.2.0\n",
      "jupyter               1.0.0\n",
      "jupyter-client        6.1.12\n",
      "jupyter-console       6.4.0\n",
      "jupyter-core          4.7.1\n",
      "jupyterlab-pygments   0.1.2\n",
      "jupyterlab-widgets    1.0.0\n",
      "keyring               18.0.1\n",
      "launchpadlib          1.10.13\n",
      "lazr.restfulclient    0.14.2\n",
      "lazr.uri              1.0.3\n",
      "louis                 3.12.0\n",
      "macaroonbakery        1.3.1\n",
      "Mako                  1.1.0\n",
      "MarkupSafe            2.0.1\n",
      "matplotlib-inline     0.1.2\n",
      "mistune               0.8.4\n",
      "more-itertools        4.2.0\n",
      "nbclient              0.5.3\n",
      "nbconvert             6.1.0\n",
      "nbformat              5.1.3\n",
      "nemo-emblems          5.2.0\n",
      "nest-asyncio          1.5.1\n",
      "netaddr               0.7.19\n",
      "netifaces             0.10.4\n",
      "notebook              6.4.0\n",
      "oauthlib              3.1.0\n",
      "onboard               1.4.1\n",
      "packaging             20.3\n",
      "PAM                   0.4.2\n",
      "pandocfilters         1.4.3\n",
      "parso                 0.8.2\n",
      "pexpect               4.6.0\n",
      "pickleshare           0.7.5\n",
      "Pillow                7.0.0\n",
      "pip                   21.3.1\n",
      "prometheus-client     0.11.0\n",
      "prompt-toolkit        3.0.19\n",
      "protobuf              3.6.1\n",
      "psutil                5.5.1\n",
      "ptyprocess            0.7.0\n",
      "pycairo               1.16.2\n",
      "pycparser             2.20\n",
      "pycrypto              2.6.1\n",
      "pycups                1.9.73\n",
      "pycurl                7.43.0.2\n",
      "Pygments              2.9.0\n",
      "PyGObject             3.36.0\n",
      "PyICU                 2.4.2\n",
      "pyinotify             0.9.6\n",
      "PyJWT                 1.7.1\n",
      "pymacaroons           0.13.0\n",
      "PyNaCl                1.3.0\n",
      "pyparsing             2.4.6\n",
      "pyparted              3.11.2\n",
      "pyRFC3339             1.1\n",
      "pyrsistent            0.18.0\n",
      "python-apt            2.0.0+ubuntu0.20.4.7\n",
      "python-dateutil       2.8.2\n",
      "python-debian         0.1.36ubuntu1\n",
      "python-magic          0.4.16\n",
      "python-xapp           2.2.1\n",
      "python-xlib           0.23\n",
      "pytz                  2019.3\n",
      "pyxdg                 0.26\n",
      "PyYAML                5.3.1\n",
      "pyzmq                 22.2.0\n",
      "qtconsole             5.1.1\n",
      "QtPy                  1.9.0\n",
      "reportlab             3.5.34\n",
      "requests              2.22.0\n",
      "requests-file         1.4.3\n",
      "requests-unixsocket   0.2.0\n",
      "SecretStorage         2.3.1\n",
      "Send2Trash            1.7.1\n",
      "setproctitle          1.1.10\n",
      "setuptools            45.2.0\n",
      "simplejson            3.16.0\n",
      "six                   1.14.0\n",
      "soupsieve             1.9.5\n",
      "systemd-python        234\n",
      "terminado             0.10.1\n",
      "testpath              0.5.0\n",
      "tinycss2              1.0.2\n",
      "tldextract            2.2.1\n",
      "tornado               6.1\n",
      "traitlets             5.0.5\n",
      "ubuntu-drivers-common 0.0.0\n",
      "ufw                   0.36\n",
      "Unidecode             1.1.1\n",
      "urllib3               1.25.8\n",
      "virtualenv            20.0.17\n",
      "wadllib               1.3.3\n",
      "wcwidth               0.2.5\n",
      "webencodings          0.5.1\n",
      "wheel                 0.34.2\n",
      "widgetsnbextension    3.5.1\n",
      "xkit                  0.0.0\n",
      "xlrd                  1.1.0\n",
      "youtube-dl            2021.4.26\n",
      "zipp                  1.0.0\n",
      "\u001b[33mWARNING: You are using pip version 21.3.1; however, version 22.2 is available.\n",
      "You should consider upgrading via the '/usr/bin/python3 -m pip install --upgrade pip' command.\u001b[0m\n",
      "Note: you may need to restart the kernel to use updated packages.\n"
     ]
    }
   ],
   "source": [
    "pip list"
   ]
  },
  {
   "cell_type": "markdown",
   "metadata": {},
   "source": [
    "#### 4. Пользовательские (собственные).\n",
    "\n",
    "Модули и пакеты, создаваемые разработчиком."
   ]
  },
  {
   "cell_type": "markdown",
   "metadata": {},
   "source": [
    "В собственной программе рекомендуется выполнять импорт именно в таком порядке: от встроенных до собственных модулей/пакетов."
   ]
  },
  {
   "cell_type": "markdown",
   "metadata": {},
   "source": [
    "#### Как работает импорт модулей в Python?\n",
    "\n",
    "Импорт модуля последовательно выполняет такие действия:\n",
    "\n",
    "1) Поиск файла модуля;\n",
    "\n",
    "2) Компиляция в байт-код. Если модуль уже откомпилирован,то этот этап пропускается;\n",
    "\n",
    "3) Запуск модуля на выполнение для создания и загрузки всего содержимого модуля. После этого создается объект модуля с атрибутами, который и можно использовать по имени.\n",
    "\n",
    "**Стоит отметить, что такая последовательность выполняется только при первом импорте модуля!**"
   ]
  },
  {
   "cell_type": "markdown",
   "metadata": {},
   "source": [
    "При импорте модуля или пакета Python выполняет его поиск в следующем порядке:\n",
    "\n",
    "- Каталог вашего приложения\n",
    "\n",
    "- Каталоги, на которые указывает переменная окружения PYTHONPATH (она может быть и неопределенна)\n",
    "\n",
    "- Каталоги стандартной библиотеки\n",
    "\n",
    "\n",
    "Если модуль не удается найти, возбуждается исключение **ModuleNotFoundError**. При ошибке загрузки существующего модуля - **ImportError**."
   ]
  },
  {
   "cell_type": "markdown",
   "metadata": {},
   "source": [
    "Для проверки содержимого sys.path можно выполнить следующий код:"
   ]
  },
  {
   "cell_type": "code",
   "execution_count": 5,
   "metadata": {},
   "outputs": [
    {
     "name": "stdout",
     "output_type": "stream",
     "text": [
      "['/home/oleg/Hillel/notebooks', '/usr/lib/python38.zip', '/usr/lib/python3.8', '/usr/lib/python3.8/lib-dynload', '', '/home/oleg/.local/lib/python3.8/site-packages', '/usr/local/lib/python3.8/dist-packages', '/usr/lib/python3/dist-packages', '/usr/lib/python3.8/dist-packages', '/home/oleg/.local/lib/python3.8/site-packages/IPython/extensions', '/home/oleg/.ipython']\n"
     ]
    }
   ],
   "source": [
    "import sys\n",
    "print(sys.path)"
   ]
  },
  {
   "cell_type": "markdown",
   "metadata": {},
   "source": [
    "Пример с файлом stat.py"
   ]
  },
  {
   "cell_type": "markdown",
   "metadata": {},
   "source": [
    "#### Специальные атрибуты\n",
    "\n",
    "Каждый модуль имеет специальные и дополнительные атрибуты.\n",
    "\n",
    "Специальные атрибуты содержат системную информацию о модуле (путь запуска, имя модуля и др.) и доступны всегда. Некоторые из них:\n",
    "\n",
    "`__name__` - Полное имя модуля.\n"
   ]
  },
  {
   "cell_type": "code",
   "execution_count": null,
   "metadata": {},
   "outputs": [],
   "source": [
    "import math\n",
    "math.__name__"
   ]
  },
  {
   "cell_type": "markdown",
   "metadata": {},
   "source": [
    "`__doc__` - Строка документации.\n",
    "\n",
    "`__file__` - Полный путь к файлу, из которого модуль был создан (загружен)."
   ]
  },
  {
   "cell_type": "code",
   "execution_count": null,
   "metadata": {},
   "outputs": [],
   "source": [
    "import geometry.planimetry as pl\n",
    "pl.__file__"
   ]
  },
  {
   "cell_type": "markdown",
   "metadata": {},
   "source": [
    "### Импорт кэшируется"
   ]
  },
  {
   "cell_type": "code",
   "execution_count": null,
   "metadata": {
    "scrolled": true
   },
   "outputs": [],
   "source": [
    "import fibonacci\n",
    "\n",
    "x = fibonacci.x\n",
    "y = fibonacci.y\n",
    "print(f\"Числа до {x}: {fibonacci.list_le_than(x)}\")  # [1, 1, 2, 3, 5, 8, 13]\n",
    "print(f\"{y} входит: {fibonacci.is_in_row(y)}\") # True"
   ]
  },
  {
   "cell_type": "markdown",
   "metadata": {},
   "source": [
    "#### Меняем значение y на 20 в модуле fibonacci"
   ]
  },
  {
   "cell_type": "code",
   "execution_count": null,
   "metadata": {
    "scrolled": true
   },
   "outputs": [],
   "source": [
    "print(f\"{y} входит: {fibonacci.is_in_row(y)}\")  # True"
   ]
  },
  {
   "cell_type": "markdown",
   "metadata": {},
   "source": [
    "### Чтобы изменения вступили в силу, нужно перезагрузить пакет"
   ]
  },
  {
   "cell_type": "code",
   "execution_count": null,
   "metadata": {},
   "outputs": [],
   "source": [
    "from importlib import reload\n"
   ]
  },
  {
   "cell_type": "code",
   "execution_count": null,
   "metadata": {},
   "outputs": [],
   "source": [
    "reload(fibonacci)"
   ]
  },
  {
   "cell_type": "code",
   "execution_count": null,
   "metadata": {},
   "outputs": [],
   "source": [
    "y = fibonacci.y\n",
    "print(f\"{y} входит: {fibonacci.is_in_row(y)}\") "
   ]
  },
  {
   "cell_type": "markdown",
   "metadata": {},
   "source": [
    "### Выполнение модуля как скрипта\n",
    "\n",
    "В Python обычный файл-скрипт, или файл-программа, не отличается от файла-модуля почти ничем. Нет команд языка, которые бы \"говорили\", что вот это – модуль, а это – скрипт. Отличие заключается лишь в том, что обычно модули не содержат команды вызова функций и создания экземпляров в основной ветке. В модуле обычно происходит только определение классов и функций.\n",
    "\n",
    "\n",
    "\n",
    "- запущен автономно (как скрипт, например, в командной строке или через IDE);\n",
    "\n",
    "- импортирован (через import).\n"
   ]
  },
  {
   "cell_type": "markdown",
   "metadata": {},
   "source": [
    "Добавлю в модуль fibonacci1 строку print(list_le_than(10))"
   ]
  },
  {
   "cell_type": "code",
   "execution_count": null,
   "metadata": {
    "scrolled": true
   },
   "outputs": [],
   "source": [
    "import fibonacci1 # будет \"неожиданный\" вывод на экран: [1, 1, 2, 3, 5, 8]"
   ]
  },
  {
   "cell_type": "markdown",
   "metadata": {},
   "source": [
    "Чтобы выполнить различный код в зависимости от того, запущен модуль или импортирован, достаточно использовать специальный идентификатор `__name__`"
   ]
  },
  {
   "cell_type": "markdown",
   "metadata": {},
   "source": [
    "Запустить в командной строке\n",
    "\n",
    "`>python fibonacci.py`\n",
    "Здесь будет вывод списка, т.е. выполнится print(list_le_than(10))\n",
    "\n",
    "\n",
    "`>python`\n",
    "\n",
    "Python 3.5.2 (v3.5.2:4def2a2901a5, Jun 25 2016, 22:18:55) [MSC v.1900 64 bit (AMD64)] on win32\n",
    "Type \"help\", \"copyright\", \"credits\" or \"license\" for more information.\n",
    "\n",
    "`>>> import fibonacci`\n",
    "\n",
    "`>>> fibonacci.list_le_than(20)  # Нет вывода как выше`\n"
   ]
  },
  {
   "cell_type": "code",
   "execution_count": null,
   "metadata": {},
   "outputs": [],
   "source": [
    "from math import (\n",
    "    pi as PI, \n",
    "    tan, \n",
    "    sqrt\n",
    ")"
   ]
  }
 ],
 "metadata": {
  "kernelspec": {
   "display_name": "Python 3 (ipykernel)",
   "language": "python",
   "name": "python3"
  },
  "language_info": {
   "codemirror_mode": {
    "name": "ipython",
    "version": 3
   },
   "file_extension": ".py",
   "mimetype": "text/x-python",
   "name": "python",
   "nbconvert_exporter": "python",
   "pygments_lexer": "ipython3",
   "version": "3.8.10"
  }
 },
 "nbformat": 4,
 "nbformat_minor": 2
}
