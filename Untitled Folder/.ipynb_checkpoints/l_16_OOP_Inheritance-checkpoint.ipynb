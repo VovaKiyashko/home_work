{
 "cells": [
  {
   "cell_type": "markdown",
   "metadata": {},
   "source": [
    "## Наследование"
   ]
  },
  {
   "cell_type": "markdown",
   "metadata": {},
   "source": [
    "**Наследование** - концепция объектно-ориентированного программирования, согласно которой абстрактный тип данных может наследовать данные и функциональность некоторого существующего типа, способствуя повторному использованию компонентов программного обеспечения."
   ]
  },
  {
   "cell_type": "code",
   "execution_count": 1,
   "metadata": {},
   "outputs": [],
   "source": [
    "class Animal:\n",
    "    \n",
    "    def __init__ (self, age, ration, color):\n",
    "        self.age = age\n",
    "        self.ration = ration\n",
    "        self.color = color\n",
    "    \n",
    "    def get_voice(self):\n",
    "        print('Animal')\n",
    "    \n",
    "    def __str__ (self):\n",
    "        return f\"age = {self.age}, ration = {self.ration}, color = {self.color}\""
   ]
  },
  {
   "cell_type": "code",
   "execution_count": 5,
   "metadata": {},
   "outputs": [
    {
     "name": "stdout",
     "output_type": "stream",
     "text": [
      "Cat: age = 3, ration = meat, color = black , name = barsik, cat_type = pers\n",
      "Meow\n",
      "Animal\n"
     ]
    }
   ],
   "source": [
    "class Cat(Animal): # класс Cat является наследником Animal\n",
    "    \n",
    "    def __init__ (self, age, ration, color, name, cat_type):\n",
    "        super().__init__(age, ration, color)\n",
    "        self.name = name\n",
    "        self.cat_type = cat_type\n",
    "    \n",
    "    def get_voice(self):\n",
    "        print(\"Meow\")\n",
    "        super().get_voice()\n",
    "    \n",
    "    def __str__ (self):\n",
    "        return f\"Cat: {super().__str__()} , name = {self.name}, cat_type = {self.cat_type}\"\n",
    "    \n",
    "cat = Cat(3, 'meat', 'black', 'barsik', 'pers')\n",
    "print(cat)\n",
    "cat.get_voice()"
   ]
  },
  {
   "cell_type": "markdown",
   "metadata": {},
   "source": [
    "Класс, который взят за основу (*Animal*), называют **суперклассом**.\n",
    "Класс, который создан на основе суперкласса (*Cat*), называют **подклассом**.\n",
    "\n",
    "В Python у класса может быть произвольное количество суперклассов. Если вы хотите, что бы ваш класс был наследником  одновременно нескольких суперклассов, просто перечислите их через запятую."
   ]
  },
  {
   "cell_type": "code",
   "execution_count": 6,
   "metadata": {},
   "outputs": [
    {
     "data": {
      "text/plain": [
       "True"
      ]
     },
     "execution_count": 6,
     "metadata": {},
     "output_type": "execute_result"
    }
   ],
   "source": [
    "issubclass(Cat, Animal)"
   ]
  },
  {
   "cell_type": "code",
   "execution_count": 7,
   "metadata": {},
   "outputs": [
    {
     "data": {
      "text/plain": [
       "True"
      ]
     },
     "execution_count": 7,
     "metadata": {},
     "output_type": "execute_result"
    }
   ],
   "source": [
    "isinstance(cat, Cat)"
   ]
  },
  {
   "cell_type": "code",
   "execution_count": 8,
   "metadata": {},
   "outputs": [
    {
     "data": {
      "text/plain": [
       "True"
      ]
     },
     "execution_count": 8,
     "metadata": {},
     "output_type": "execute_result"
    }
   ],
   "source": [
    "isinstance('cat', str)"
   ]
  },
  {
   "cell_type": "code",
   "execution_count": 9,
   "metadata": {},
   "outputs": [
    {
     "data": {
      "text/plain": [
       "True"
      ]
     },
     "execution_count": 9,
     "metadata": {},
     "output_type": "execute_result"
    }
   ],
   "source": [
    "type('cat') == str"
   ]
  },
  {
   "cell_type": "code",
   "execution_count": 11,
   "metadata": {},
   "outputs": [
    {
     "data": {
      "text/plain": [
       "True"
      ]
     },
     "execution_count": 11,
     "metadata": {},
     "output_type": "execute_result"
    }
   ],
   "source": [
    "isinstance(2.8, (int, float))"
   ]
  },
  {
   "cell_type": "markdown",
   "metadata": {},
   "source": [
    "**super()** – это встроенная функция языка Python. Она возвращает прокси-объект, который делегирует вызовы методов классу-родителю текущего класса\n",
    "\n",
    "Есть какой-то товар в классе Base с базовой ценой в 10 единиц. Нам понадобилось сделать распродажу и скинуть цену на 20%."
   ]
  },
  {
   "cell_type": "code",
   "execution_count": null,
   "metadata": {},
   "outputs": [],
   "source": [
    "class Base:\n",
    "    def price(self):\n",
    "        return 10\n",
    "\n",
    "class Discount(Base):\n",
    "    \"\"\"Однако, если мы вызовем self.price() в методе price() мы создадим бесконечную рекурсию, \n",
    "    так как это и есть один и тот же метод класса Discount! \"\"\"\n",
    "    def price(self):\n",
    "        return self.price() * 0.8 # Error!\n"
   ]
  },
  {
   "cell_type": "code",
   "execution_count": 12,
   "metadata": {},
   "outputs": [],
   "source": [
    "class Base:\n",
    "    def price(self):\n",
    "        return 10\n",
    "\n",
    "class Discount(Base):\n",
    "    def price(self):\n",
    "        return Base.price(self) * 0.8 # Тут же нужен метод Base.price()\n",
    "# надо не забыть указать self при вызове первым параметром явно, чтобы метод был привязан к текущему объекту."
   ]
  },
  {
   "cell_type": "code",
   "execution_count": 13,
   "metadata": {},
   "outputs": [
    {
     "data": {
      "text/plain": [
       "8.0"
      ]
     },
     "execution_count": 13,
     "metadata": {},
     "output_type": "execute_result"
    }
   ],
   "source": [
    "d = Discount()\n",
    "d.price()"
   ]
  },
  {
   "cell_type": "markdown",
   "metadata": {},
   "source": [
    "Это будет работать, но этот код не лишен изъянов, потому что необходимо явно указывать имя предка. Представьте, если иерархия классов начнет разрастаться? Например, нам нужно будет вставить между этими классами еще один класс, тогда придется редактировать имя класса-родителя в методах **Discount**"
   ]
  },
  {
   "cell_type": "code",
   "execution_count": null,
   "metadata": {},
   "outputs": [],
   "source": [
    "class Base:\n",
    "    def price(self):\n",
    "        return 10\n",
    "\n",
    "class InterFoo(Base):\n",
    "    def price(self):\n",
    "        return Base.price(self) * 1.1\n",
    "\n",
    "class Discount(InterFoo):  # <-- \n",
    "    def price(self):\n",
    "        return InterFoo.price(self) * 0.8  # <-- "
   ]
  },
  {
   "cell_type": "markdown",
   "metadata": {},
   "source": [
    "Тут на помощь приходит **super()**! \n",
    "обращается к атрибутам классов стоящих над ним в порядке наследования.\n",
    "\n",
    "Будучи вызванным без параметров внутри какого-либо класса, **super()** вернет прокси-объект, методы которого будут искаться только в классах, стоящих ранее, чем он, в порядке **MRO**. То есть, это будет как будто бы тот же самый объект, но он будет игнорировать все определения из текущего класса, обращаясь только к родительским"
   ]
  },
  {
   "cell_type": "code",
   "execution_count": 15,
   "metadata": {},
   "outputs": [],
   "source": [
    "class Base:\n",
    "    def price(self):\n",
    "        return 10\n",
    "\n",
    "class InterFoo(Base):\n",
    "    def price(self):\n",
    "        return super().price() * 1.1\n",
    "\n",
    "class Discount(InterFoo):\n",
    "    def price(self):\n",
    "        return super().price() * 0.8"
   ]
  },
  {
   "cell_type": "code",
   "execution_count": 16,
   "metadata": {},
   "outputs": [
    {
     "data": {
      "text/plain": [
       "8.8"
      ]
     },
     "execution_count": 16,
     "metadata": {},
     "output_type": "execute_result"
    }
   ],
   "source": [
    "d = Discount()\n",
    "d.price()"
   ]
  },
  {
   "cell_type": "markdown",
   "metadata": {},
   "source": [
    "Очень часто super вызывается в методе `__init__`. Метод инициализации класса `__init__`, как правило задает какие-либо атрибуты экземпляра класса, и если в дочернем классе мы забудем его вызвать, то класс окажется недоинициализированным: при попытке доступа к родительским атрибутам будет ошибка"
   ]
  },
  {
   "cell_type": "code",
   "execution_count": 17,
   "metadata": {},
   "outputs": [],
   "source": [
    "class A:\n",
    "    def __init__(self):\n",
    "        self.x = 10\n",
    "\n",
    "class B(A):\n",
    "    def __init__(self):\n",
    "        self.y = self.x + 5\n",
    "\n",
    "\n"
   ]
  },
  {
   "cell_type": "code",
   "execution_count": 18,
   "metadata": {},
   "outputs": [
    {
     "ename": "AttributeError",
     "evalue": "'B' object has no attribute 'x'",
     "output_type": "error",
     "traceback": [
      "\u001b[0;31m---------------------------------------------------------------------------\u001b[0m",
      "\u001b[0;31mAttributeError\u001b[0m                            Traceback (most recent call last)",
      "\u001b[0;32m/tmp/ipykernel_2274/4278371280.py\u001b[0m in \u001b[0;36m<module>\u001b[0;34m\u001b[0m\n\u001b[0;32m----> 1\u001b[0;31m \u001b[0mb\u001b[0m \u001b[0;34m=\u001b[0m \u001b[0mB\u001b[0m\u001b[0;34m(\u001b[0m\u001b[0;34m)\u001b[0m  \u001b[0;31m# ошибка! AttributeError: 'B' object has no attribute 'x'\u001b[0m\u001b[0;34m\u001b[0m\u001b[0;34m\u001b[0m\u001b[0m\n\u001b[0m",
      "\u001b[0;32m/tmp/ipykernel_2274/1885111335.py\u001b[0m in \u001b[0;36m__init__\u001b[0;34m(self)\u001b[0m\n\u001b[1;32m      5\u001b[0m \u001b[0;32mclass\u001b[0m \u001b[0mB\u001b[0m\u001b[0;34m(\u001b[0m\u001b[0mA\u001b[0m\u001b[0;34m)\u001b[0m\u001b[0;34m:\u001b[0m\u001b[0;34m\u001b[0m\u001b[0;34m\u001b[0m\u001b[0m\n\u001b[1;32m      6\u001b[0m     \u001b[0;32mdef\u001b[0m \u001b[0m__init__\u001b[0m\u001b[0;34m(\u001b[0m\u001b[0mself\u001b[0m\u001b[0;34m)\u001b[0m\u001b[0;34m:\u001b[0m\u001b[0;34m\u001b[0m\u001b[0;34m\u001b[0m\u001b[0m\n\u001b[0;32m----> 7\u001b[0;31m         \u001b[0mself\u001b[0m\u001b[0;34m.\u001b[0m\u001b[0my\u001b[0m \u001b[0;34m=\u001b[0m \u001b[0mself\u001b[0m\u001b[0;34m.\u001b[0m\u001b[0mx\u001b[0m \u001b[0;34m+\u001b[0m \u001b[0;36m5\u001b[0m\u001b[0;34m\u001b[0m\u001b[0;34m\u001b[0m\u001b[0m\n\u001b[0m\u001b[1;32m      8\u001b[0m \u001b[0;34m\u001b[0m\u001b[0m\n\u001b[1;32m      9\u001b[0m \u001b[0;34m\u001b[0m\u001b[0m\n",
      "\u001b[0;31mAttributeError\u001b[0m: 'B' object has no attribute 'x'"
     ]
    }
   ],
   "source": [
    "b = B()  # ошибка! AttributeError: 'B' object has no attribute 'x'"
   ]
  },
  {
   "cell_type": "code",
   "execution_count": 19,
   "metadata": {},
   "outputs": [
    {
     "name": "stdout",
     "output_type": "stream",
     "text": [
      "15\n"
     ]
    }
   ],
   "source": [
    "# правильно:\n",
    "\n",
    "class B(A):\n",
    "    def __init__(self):\n",
    "        super().__init__()  # <- не забудь!\n",
    "        self.y = self.x + 5\n",
    "\n",
    "print(B().y)  # 15"
   ]
  },
  {
   "cell_type": "markdown",
   "metadata": {},
   "source": [
    "### Параметры super\n",
    "\n",
    "Функция может принимать 2 параметра. `super([type [, object]])`. Первый аргумент – это тип, к предкам которого мы хотим обратиться. А второй аргумент – это объект, к которому надо привязаться. Сейчас оба аргумента необязательные. В прошлых версиях Python приходилось их указывать явно"
   ]
  },
  {
   "cell_type": "code",
   "execution_count": 20,
   "metadata": {},
   "outputs": [],
   "source": [
    "class A:\n",
    "    def __init__(self, x):\n",
    "        self.x = x\n",
    "\n",
    "class B(A):\n",
    "    def __init__(self, x):\n",
    "        super(B, self).__init__(x) # теперь это тоже самое: super().__init__(x)"
   ]
  },
  {
   "cell_type": "markdown",
   "metadata": {},
   "source": [
    "#### super() может быть использована вне класса. "
   ]
  },
  {
   "cell_type": "code",
   "execution_count": 21,
   "metadata": {},
   "outputs": [
    {
     "name": "stdout",
     "output_type": "stream",
     "text": [
      "11.0\n"
     ]
    }
   ],
   "source": [
    "d = Discount()\n",
    "print(super(Discount, d).price()) # return super().price() * 1.1"
   ]
  },
  {
   "cell_type": "markdown",
   "metadata": {},
   "source": [
    "### Как работает механизм наследования?\n",
    "Суть идеи наследования в Python заключается в построении вертикальной древовидной структуры связанных классов, где последним элементом такой структуры оказывается экземпляр вашего класса. Когда вы вызываете тот или иной метод или пытаетесь получить значение поля, то запускается механизм вертикального поиска (т. е. снизу — вверх), до первого найденного результата."
   ]
  },
  {
   "cell_type": "code",
   "execution_count": 24,
   "metadata": {},
   "outputs": [],
   "source": [
    "class A:\n",
    "    def print_smile(self):\n",
    "        print(\":)\")\n",
    "\n",
    "class B(A):\n",
    "    def print_sad_smile(self):\n",
    "        print(\":(\")\n",
    "\n",
    "class C(A):\n",
    "    def print_both_smile(self):\n",
    "        print(\":( :)\")\n",
    "        \n",
    "class D(C):\n",
    "    \n",
    "    def print_sad_smile(self):\n",
    "        print(\"^)\")\n",
    "    \n",
    "    def print_smile(self):\n",
    "        print(\":))))\")"
   ]
  },
  {
   "cell_type": "markdown",
   "metadata": {},
   "source": [
    "И хотя в классе D нет методов `print_smile()`, `print_both_smile()`, но их вызов произойдет абсолютно корректно. В этом заслуга механизма наследования."
   ]
  },
  {
   "cell_type": "code",
   "execution_count": 25,
   "metadata": {},
   "outputs": [
    {
     "name": "stdout",
     "output_type": "stream",
     "text": [
      "^)\n",
      ":))))\n",
      ":( :)\n"
     ]
    }
   ],
   "source": [
    "example = D()\n",
    "example.print_sad_smile()\n",
    "example.print_smile()\n",
    "example.print_both_smile()"
   ]
  },
  {
   "cell_type": "markdown",
   "metadata": {},
   "source": [
    "### MRO – (Method Resolution Order) порядок разрешения методов в Python "
   ]
  },
  {
   "cell_type": "code",
   "execution_count": 26,
   "metadata": {},
   "outputs": [
    {
     "name": "stdout",
     "output_type": "stream",
     "text": [
      "[<class '__main__.D'>, <class '__main__.C'>, <class '__main__.A'>, <class 'object'>]\n"
     ]
    }
   ],
   "source": [
    "print(D.mro())\n"
   ]
  },
  {
   "cell_type": "code",
   "execution_count": 28,
   "metadata": {},
   "outputs": [
    {
     "name": "stdout",
     "output_type": "stream",
     "text": [
      "(<class '__main__.D'>, <class '__main__.C'>, <class '__main__.A'>, <class 'object'>)\n"
     ]
    }
   ],
   "source": [
    "print(D.__mro__)"
   ]
  },
  {
   "cell_type": "code",
   "execution_count": 27,
   "metadata": {},
   "outputs": [
    {
     "ename": "AttributeError",
     "evalue": "'D' object has no attribute 'a'",
     "output_type": "error",
     "traceback": [
      "\u001b[0;31m---------------------------------------------------------------------------\u001b[0m",
      "\u001b[0;31mAttributeError\u001b[0m                            Traceback (most recent call last)",
      "\u001b[0;32m/tmp/ipykernel_2274/3709240155.py\u001b[0m in \u001b[0;36m<module>\u001b[0;34m\u001b[0m\n\u001b[0;32m----> 1\u001b[0;31m \u001b[0mexample\u001b[0m\u001b[0;34m.\u001b[0m\u001b[0ma\u001b[0m\u001b[0;34m\u001b[0m\u001b[0;34m\u001b[0m\u001b[0m\n\u001b[0m",
      "\u001b[0;31mAttributeError\u001b[0m: 'D' object has no attribute 'a'"
     ]
    }
   ],
   "source": [
    "example.a"
   ]
  },
  {
   "cell_type": "markdown",
   "metadata": {},
   "source": [
    "### Проблема «ромба»\n",
    "Рассмотрим ситуацию, когда ваш класс является наследником двух суперклассов, и в них есть методы с одинаковыми именами."
   ]
  },
  {
   "cell_type": "code",
   "execution_count": 31,
   "metadata": {},
   "outputs": [
    {
     "name": "stdout",
     "output_type": "stream",
     "text": [
      ":(\n"
     ]
    }
   ],
   "source": [
    "\n",
    "class A:\n",
    "    def print_smile(self):\n",
    "        print (\":)\")\n",
    "\n",
    "class B:\n",
    "    def print_smile(self):\n",
    "        print(\":(\")\n",
    "\n",
    "class C(A, B): # C(B, A)\n",
    "    pass\n",
    "\n",
    "my_var = C()\n",
    "my_var.print_smile()"
   ]
  },
  {
   "cell_type": "code",
   "execution_count": 32,
   "metadata": {},
   "outputs": [
    {
     "data": {
      "text/plain": [
       "[__main__.C, __main__.B, __main__.A, object]"
      ]
     },
     "execution_count": 32,
     "metadata": {},
     "output_type": "execute_result"
    }
   ],
   "source": [
    "C.mro()"
   ]
  },
  {
   "cell_type": "code",
   "execution_count": 33,
   "metadata": {},
   "outputs": [
    {
     "name": "stdout",
     "output_type": "stream",
     "text": [
      ":P)\n"
     ]
    }
   ],
   "source": [
    "class D:\n",
    "    def print_smile(self):\n",
    "        print (\":P)\")\n",
    "\n",
    "class A(D):\n",
    "    pass\n",
    "\n",
    "class B:\n",
    "    def print_smile(self):\n",
    "        print(\":(\")\n",
    "\n",
    "class C(A, B):\n",
    "\n",
    "    pass\n",
    "my_var = C()\n",
    "my_var.print_smile()"
   ]
  },
  {
   "cell_type": "code",
   "execution_count": 34,
   "metadata": {},
   "outputs": [
    {
     "data": {
      "text/plain": [
       "[__main__.C, __main__.A, __main__.D, __main__.B, object]"
      ]
     },
     "execution_count": 34,
     "metadata": {},
     "output_type": "execute_result"
    }
   ],
   "source": [
    "C.mro()"
   ]
  },
  {
   "cell_type": "code",
   "execution_count": 35,
   "metadata": {
    "scrolled": true
   },
   "outputs": [
    {
     "data": {
      "text/plain": [
       "8765730699731"
      ]
     },
     "execution_count": 35,
     "metadata": {},
     "output_type": "execute_result"
    }
   ],
   "source": [
    "C().__hash__()"
   ]
  },
  {
   "cell_type": "code",
   "execution_count": 36,
   "metadata": {},
   "outputs": [
    {
     "data": {
      "text/plain": [
       "8765730699632"
      ]
     },
     "execution_count": 36,
     "metadata": {},
     "output_type": "execute_result"
    }
   ],
   "source": [
    "hash(C())"
   ]
  },
  {
   "cell_type": "markdown",
   "metadata": {},
   "source": [
    "### Что будет, если в подклассе определить точно такой же метод, как в суперклассе?"
   ]
  },
  {
   "cell_type": "code",
   "execution_count": null,
   "metadata": {},
   "outputs": [],
   "source": [
    "class Cat(Animal):\n",
    "    \n",
    "    def __init__ (self, age, ration, color, name, cat_type):\n",
    "        super().__init__(age, ration, color)\n",
    "        self.name = name\n",
    "        self.cat_type = cat_type\n",
    "    \n",
    "    def get_voice(self): # Метод с именем совпадающим с именем метода в суперклассе\n",
    "        print(\"Meow\")\n",
    "    \n",
    "    def __str__ (self):\n",
    "        return f\"Cat: {super().__str__()} , name = {self.name}, cat_type = {self.cat_type}\"\n",
    "    \n",
    "    def __repr__(self):\n",
    "        return 'Hi!!'\n",
    "    \n",
    "cat = Cat(3, 'meat', 'black', 'barsik', 'pers')"
   ]
  },
  {
   "cell_type": "code",
   "execution_count": null,
   "metadata": {},
   "outputs": [],
   "source": [
    "cat.get_voice()"
   ]
  },
  {
   "cell_type": "code",
   "execution_count": null,
   "metadata": {},
   "outputs": [],
   "source": [
    "repr(cat)"
   ]
  },
  {
   "cell_type": "code",
   "execution_count": null,
   "metadata": {},
   "outputs": [],
   "source": [
    "Cat.mro()"
   ]
  },
  {
   "cell_type": "markdown",
   "metadata": {},
   "source": [
    "Создать три класса Car, Engine и Driver.\n",
    "\n",
    "Класс Car описывает автомобиль (цвет, модель, год выпуска, двигатель).\n",
    "У автомобиля двигатель - это экземпляр класса Engine.\n",
    "Необходимы несколько методов - добавить водителя, добавить номерной знак (нельзя это делать, если нет водителя),\n",
    "получить инфу по водителю. Для вывода на печать, дать хар-ку автомобиля.\n",
    "\n",
    "Класс  Engine - вид топлива, объем, турбина (да\\нет)\n",
    "\n",
    "Класс Driver - Имя, фамилия, год рождения, номер вод. удостоверения."
   ]
  },
  {
   "cell_type": "code",
   "execution_count": null,
   "metadata": {},
   "outputs": [],
   "source": [
    "class Engine:\n",
    "\n",
    "    def __init__(self, fuel, volume, turbo=False):\n",
    "         self.fuel = fuel\n",
    "         self.volume = volume\n",
    "         self.turbo = turbo\n",
    "\n",
    "    def __str__(self):\n",
    "        return f'{self.volume}'\n",
    "\n",
    "\n",
    "class Driver:\n",
    "\n",
    "    def __init__(self, name, last_name, number, birthday):\n",
    "        self.name = name\n",
    "        self.last_name = last_name\n",
    "        self.number = number\n",
    "        self.birthday = birthday\n",
    "\n",
    "    def __str__(self):\n",
    "        return f'{self.name}'\n",
    "\n",
    "\n",
    "class Car:\n",
    "\n",
    "    def __init__(self, color, model, year, engine):\n",
    "        self.color = color\n",
    "        self.model = model\n",
    "        self.year = year\n",
    "        self.engine = engine\n",
    "        self.driver = None\n",
    "        self.number = None\n",
    "\n",
    "    def add_driver(self, driver):\n",
    "        self.driver = driver\n",
    "\n",
    "    def add_number(self, number):\n",
    "        if not self.driver:\n",
    "            print('No!')\n",
    "        else:\n",
    "            self.number = number\n",
    "            print('Added')\n",
    "\n",
    "    def get_driver_info(self):\n",
    "        if not self.driver:\n",
    "            return 'No driver!'\n",
    "        return str(self.driver)\n",
    "\n",
    "    def __str__(self):\n",
    "        return f'{self.model}: {str(self.engine)}\\n {self.get_driver_info()}'\n"
   ]
  },
  {
   "cell_type": "code",
   "execution_count": null,
   "metadata": {},
   "outputs": [],
   "source": [
    "engine = Engine('disel', 2.2, True)\n",
    "driver = Driver('Oleg', 'Novikov', '125/789-12', '12-01-1988')\n",
    "car = Car('red', 'Cordoba', 2020, engine)"
   ]
  },
  {
   "cell_type": "code",
   "execution_count": null,
   "metadata": {},
   "outputs": [],
   "source": [
    "print(car)"
   ]
  },
  {
   "cell_type": "code",
   "execution_count": null,
   "metadata": {},
   "outputs": [],
   "source": [
    "car.add_number('AA3456OO')"
   ]
  },
  {
   "cell_type": "code",
   "execution_count": null,
   "metadata": {},
   "outputs": [],
   "source": [
    "car.add_driver(driver)\n"
   ]
  },
  {
   "cell_type": "code",
   "execution_count": null,
   "metadata": {},
   "outputs": [],
   "source": [
    "car.add_number('AA3456OO')\n"
   ]
  },
  {
   "cell_type": "code",
   "execution_count": null,
   "metadata": {},
   "outputs": [],
   "source": [
    "print(car)"
   ]
  }
 ],
 "metadata": {
  "kernelspec": {
   "display_name": "Python 3 (ipykernel)",
   "language": "python",
   "name": "python3"
  },
  "language_info": {
   "codemirror_mode": {
    "name": "ipython",
    "version": 3
   },
   "file_extension": ".py",
   "mimetype": "text/x-python",
   "name": "python",
   "nbconvert_exporter": "python",
   "pygments_lexer": "ipython3",
   "version": "3.8.10"
  }
 },
 "nbformat": 4,
 "nbformat_minor": 2
}
